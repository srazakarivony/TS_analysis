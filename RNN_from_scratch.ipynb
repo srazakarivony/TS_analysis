{
 "cells": [
  {
   "cell_type": "code",
   "execution_count": 83,
   "metadata": {},
   "outputs": [],
   "source": [
    "from IPython.display import display, Math, Latex"
   ]
  },
  {
   "cell_type": "code",
   "execution_count": 84,
   "metadata": {
    "nbpresent": {
     "id": "4fc54aab-eda4-45d4-9f17-95744c6d11eb"
    }
   },
   "outputs": [],
   "source": [
    "import csv\n",
    "import itertools\n",
    "import operator\n",
    "import numpy as np\n",
    "import scipy as sp\n",
    "import pandas as pd\n",
    "import nltk\n",
    "import sys\n",
    "from datetime import datetime\n",
    "from utils import *\n",
    "\n",
    "import matplotlib.pyplot as plt\n",
    "\n",
    "%matplotlib inline"
   ]
  },
  {
   "cell_type": "markdown",
   "metadata": {},
   "source": [
    "### Documentation générale sur les RNN et autres NN pour séquences"
   ]
  },
  {
   "cell_type": "markdown",
   "metadata": {},
   "source": [
    "• http://colah.github.io/posts/2015-08-Understanding-LSTMs/\n",
    "\n",
    "• https://cs224d.stanford.edu/lecture_notes/LectureNotes4.pdf\n",
    "\n",
    "• https://arxiv.org/pdf/1301.3781.pdf\n",
    "\n",
    "• https://arxiv.org/pdf/1406.1078v3.pdf\n",
    "\n",
    "• https://r2rt.com/written-memories-understanding-deriving-and-extending-the-lstm.html"
   ]
  },
  {
   "cell_type": "code",
   "execution_count": 85,
   "metadata": {
    "nbpresent": {
     "id": "092312a2-94b8-4974-84d3-bb7050827918"
    }
   },
   "outputs": [],
   "source": [
    "vocabulary_size = 8000\n",
    "unknown_token = \"UNKNOWN_TOKEN\"\n",
    "sentence_start_token = \"SENTENCE_START\"\n",
    "sentence_end_token = \"SENTENCE_END\""
   ]
  },
  {
   "cell_type": "markdown",
   "metadata": {
    "nbpresent": {
     "id": "445d6b53-e168-44c9-bbc3-7b3862d8aba3"
    }
   },
   "source": [
    "### Managing the database"
   ]
  },
  {
   "cell_type": "code",
   "execution_count": 86,
   "metadata": {
    "nbpresent": {
     "id": "34ccfe9d-431e-4884-9e78-2b05df0c9ea4"
    }
   },
   "outputs": [
    {
     "name": "stdout",
     "output_type": "stream",
     "text": [
      "Found 18681 unique words tokens.\n",
      "The least frequent word in our vocabulary is 'irons' and appeared 1 times.\n"
     ]
    },
    {
     "data": {
      "text/plain": [
       "['SENTENCE_START',\n",
       " 'longtemps',\n",
       " ',',\n",
       " 'je',\n",
       " 'me',\n",
       " 'suis',\n",
       " 'couché',\n",
       " 'de',\n",
       " 'bonne',\n",
       " 'heure',\n",
       " '.',\n",
       " 'SENTENCE_END']"
      ]
     },
     "execution_count": 86,
     "metadata": {},
     "output_type": "execute_result"
    }
   ],
   "source": [
    "data = pd.read_table('/Users/Doudou/Desktop/du_côté_de_chez_swann.txt', dtype = str, header = None)\n",
    "data = data.sum()[0].lower()\n",
    "\n",
    "sentences = nltk.sent_tokenize(data)\n",
    "sentences = [\"%s %s %s\" % (sentence_start_token, x, sentence_end_token) for x in sentences]\n",
    "\n",
    "tokenized_sentences = [nltk.word_tokenize(sent) for sent in sentences]\n",
    "\n",
    "word_freq = nltk.FreqDist(itertools.chain(*tokenized_sentences))\n",
    "print(\"Found %d unique words tokens.\" % len(word_freq.items()))\n",
    "\n",
    "vocab = word_freq.most_common(vocabulary_size-1)\n",
    "print(\"The least frequent word in our vocabulary is '%s' and appeared %d times.\" % (vocab[-1][0], vocab[-1][1]))\n",
    "\n",
    "index_to_word = [x[0] for x in vocab]\n",
    "index_to_word.append(unknown_token)\n",
    "\n",
    "word_to_index = dict([(w, i) for (i, w) in enumerate(index_to_word)])\n",
    "\n",
    "for i, sent in enumerate(tokenized_sentences):\n",
    "    tokenized_sentences[i] = [w if w in word_to_index else unknown_token for w in sent]\n",
    "    \n",
    "tokenized_sentences[0]"
   ]
  },
  {
   "cell_type": "markdown",
   "metadata": {
    "nbpresent": {
     "id": "5a7c6783-e6e4-425c-b2fc-99a720cdbd09"
    }
   },
   "source": [
    "### Creating train sets"
   ]
  },
  {
   "cell_type": "code",
   "execution_count": 87,
   "metadata": {
    "nbpresent": {
     "id": "b9ffdf66-04cd-46eb-9346-d2b530ee5aae"
    }
   },
   "outputs": [],
   "source": [
    "# Create the training data\n",
    "X_train = np.asarray([[word_to_index[w] for w in sent[:-1]] for sent in tokenized_sentences])\n",
    "y_train = np.asarray([[word_to_index[w] for w in sent[1:]] for sent in tokenized_sentences])"
   ]
  },
  {
   "cell_type": "code",
   "execution_count": 88,
   "metadata": {
    "nbpresent": {
     "id": "8ad1cff4-6dd5-43e5-b90b-111acae9f21d"
    },
    "scrolled": true
   },
   "outputs": [],
   "source": [
    "# nltk.download(\"book\")"
   ]
  },
  {
   "cell_type": "markdown",
   "metadata": {
    "nbpresent": {
     "id": "2e989527-09f0-4a72-a23e-4f7495b1453b"
    }
   },
   "source": [
    "### Writing the RNN"
   ]
  },
  {
   "cell_type": "markdown",
   "metadata": {},
   "source": [
    "$ At \\ each \\ time \\ step \\ t:$\n",
    "\n",
    "$ \\ • \\ Hidden \\ layer: s_t=tanh(U.x_t + W.s_{t-1} + bh) \\\\ $\n",
    "$ \\ • \\ Output \\ layer: o_t=softmax(V.s_t + b_o) \\ which \\ represents \\ the  \\ probability \\ distribution \\ over \\ the \\ vocabulary \\ at \\ time \\ t \\\\ $\n",
    "$ \\ • \\ Cost \\ function: \\ L = -\\sum_{t=1}^{T} y_t \\ log(o_t) \\\\ $\n"
   ]
  },
  {
   "cell_type": "markdown",
   "metadata": {},
   "source": [
    "Une solution est proposée ici:\n",
    "\n",
    "https://github.com/DoctorTeeth/gru/blob/master/rnn.py"
   ]
  },
  {
   "cell_type": "code",
   "execution_count": 89,
   "metadata": {},
   "outputs": [],
   "source": [
    "class RNN(object):\n",
    "    \n",
    "    def __init__(self, inputLayerSize, hiddenLayerSize, outputLayerSize):\n",
    "    \n",
    "        self.inputLayerSize = inputLayerSize\n",
    "        self.outputLayerSize = outputLayerSize\n",
    "        self.hiddenLayerSize = hiddenLayerSize\n",
    "\n",
    "        self.U = np.random.uniform(-np.sqrt(1./inputLayerSize), np.sqrt(1./inputLayerSize), (hiddenLayerSize, inputLayerSize))\n",
    "        self.V = np.random.uniform(-np.sqrt(1./hiddenLayerSize), np.sqrt(1./hiddenLayerSize), (outputLayerSize, hiddenLayerSize))\n",
    "        self.W = np.random.uniform(-np.sqrt(1./hiddenLayerSize), np.sqrt(1./hiddenLayerSize), (hiddenLayerSize, hiddenLayerSize))\n",
    "        \n",
    "        self.bh = np.zeros((1, self.hiddenLayerSize))\n",
    "        self.bo = np.zeros((1, self.outputLayerSize))\n",
    "        \n",
    "        self.parameters = [self.U, self.V, self.W, self.bh, self.bo]\n",
    "        \n",
    "    def softmax(self, z):\n",
    "        return np.exp(z)/(np.sum(np.exp(z)))\n",
    "    \n",
    "    def sigmoid(self, z):\n",
    "        return 1/(1+np.exp(-z))\n",
    "        \n",
    "    def forward(self, x):\n",
    "        \n",
    "        # - x : une phrase\n",
    "        \n",
    "        T = len(x)\n",
    "        \n",
    "        # on doit sauvegarder toutes les valeurs de s(t) \n",
    "        # s est initialisé avec un vecteur nul en -1\n",
    "        s = np.zeros((T+1, self.hiddenLayerSize))\n",
    "        s[-1] = np.zeros(self.hiddenLayerSize)\n",
    "        \n",
    "        # o est sauvegardé aussi à chaque étape\n",
    "        o = np.zeros((T, self.outputLayerSize))\n",
    "        \n",
    "        # notons que x(t) est un one-hot-vector, qu'on peut remplacer par l'indice de sa valeur 1 --> x[t] = np.where((x[t]==1))\n",
    "        for t in np.arange(0, T):\n",
    "            s[t] = np.tanh(self.U[:,x[t]] + self.W.dot(s[t-1]) + self.bh)\n",
    "            o[t] = self.softmax(self.V.dot(s[t]) + self.bo)\n",
    "            \n",
    "        return [o, s]\n",
    "            \n",
    "    def predict(self, x):\n",
    "        \n",
    "        # - x : une phrase\n",
    "        \n",
    "        o, s = self.forward(x)\n",
    "        return np.argmax(o, axis = 1)\n",
    "    \n",
    "    def costFunction(self, x, y):\n",
    "        \n",
    "        # - x : les phrases sans le dernier mot\n",
    "        # - y : les phrases sans le premier mot\n",
    "\n",
    "        L = 0\n",
    "        N = np.sum((len(y_i) for y_i in y))\n",
    "        \n",
    "        for i in np.arange(len(x)): # pour chaque phrase\n",
    "            o, s = self.forward(x[i])\n",
    "            p = y[i]\n",
    "            L += -np.sum(np.log(o[np.arange(len(p)),p]))\n",
    "                \n",
    "        return L/N\n",
    "    \n",
    "    def computeGradient(self, x, y):\n",
    "    \n",
    "    # - x : une phrase sans le dernier mot\n",
    "    # - y : une phrase sans le premier mot\n",
    "        \n",
    "        o, s = self.forward(x)\n",
    "        dLdU = np.zeros(self.U.shape)\n",
    "        dLdV = np.zeros(self.V.shape)\n",
    "        dLdW = np.zeros(self.W.shape)\n",
    "        \n",
    "        dLdbh = np.zeros(self.bh.shape)\n",
    "        dLdbo = np.zeros(self.bo.shape)\n",
    "        \n",
    "        mem = np.zeros(self.hiddenLayerSize)\n",
    "        \n",
    "        save_grad_coef = []\n",
    "        sgc = 1\n",
    "\n",
    "        for t in np.arange(len(x))[::-1]:\n",
    "            \n",
    "            x_t = np.array((np.arange(self.inputLayerSize)==x[t]), dtype = float)\n",
    "            y_t = np.array((np.arange(self.inputLayerSize)==y[t]), dtype = float)\n",
    "            \n",
    "            dLdV += np.outer((o[t]-y_t),s[t].T)\n",
    "            dLdbo += (o[t]-y_t)\n",
    "\n",
    "            z_t = (self.V.T.dot(o[t]-y_t) + mem)*(1-s[t]**2)\n",
    "            \n",
    "            dLdW += np.outer(z_t, s[t-1])\n",
    "            dLdU += np.outer(z_t, x_t)\n",
    "            dLdbh += z_t\n",
    "            \n",
    "            sgc = sgc*(self.W*np.diag(1-s[t-1]**2))\n",
    "            save_grad_coef.append(sgc)\n",
    "            \n",
    "            mem = self.W.T.dot(z_t)\n",
    "                \n",
    "        return [dLdU, dLdV, dLdW, dLdbh, dLdbo], save_grad_coef  \n",
    "    \n",
    "    def getParams(self):\n",
    "        # transform the Ws into vectors\n",
    "        params = np.concatenate((self.U.ravel(), self.V.ravel(), self.W.ravel(), self.bh.ravel(), self.bo.ravel()))\n",
    "        return params\n",
    "    \n",
    "    def setParams(self, params):\n",
    "        # enables to replace the Ws by inputing vector of parameters\n",
    "        # transform parameter vectors into matrices\n",
    "        \n",
    "        U_start = 0\n",
    "        U_end = self.hiddenLayerSize*self.inputLayerSize\n",
    "        self.U = np.reshape(params[U_start:U_end], (self.hiddenLayerSize, self.inputLayerSize))\n",
    "\n",
    "        V_end = U_end + self.hiddenLayerSize*self.outputLayerSize\n",
    "        self.V = np.reshape(params[U_end:V_end], (self.outputLayerSize, self.hiddenLayerSize))\n",
    "        \n",
    "        W_end = V_end + self.hiddenLayerSize*self.hiddenLayerSize\n",
    "        self.W = np.reshape(params[V_end:W_end], (self.hiddenLayerSize, self.hiddenLayerSize))        \n",
    "        \n",
    "        bh_end = W_end + self.hiddenLayerSize\n",
    "        self.bh = np.reshape(params[W_end: bh_end], (1, self.hiddenLayerSize))\n",
    "        \n",
    "        bo_end = bh_end + self.outputLayerSize\n",
    "        self.bo = np.reshape(params[bh_end: bo_end], (1, self.outputLayerSize))\n",
    "\n",
    "        "
   ]
  },
  {
   "cell_type": "code",
   "execution_count": 90,
   "metadata": {},
   "outputs": [],
   "source": [
    "def computeNumericalGradient(N, x, y):\n",
    "    paramsInitial = N.getParams()\n",
    "    numgrad = np.zeros(paramsInitial.shape)\n",
    "    perturb = np.zeros(paramsInitial.shape)\n",
    "    e = 1e-4\n",
    "    \n",
    "    for p in range(len(paramsInitial)):\n",
    "        perturb[p] = e\n",
    "        N.setParams(paramsInitial + perturb)\n",
    "        loss2 = N.costFunction(x, y)\n",
    "        \n",
    "        N.setParams(paramsInitial - perturb)\n",
    "        loss1 = N.costFunction(x, y)\n",
    "        \n",
    "        numgrad[p] = (loss2-loss1)/(2*e)\n",
    "                \n",
    "        perturb[p] = 0\n",
    "    \n",
    "        N.setParams(paramsInitial)\n",
    "    \n",
    "    return numgrad"
   ]
  },
  {
   "cell_type": "markdown",
   "metadata": {},
   "source": [
    "#### Tester le calcul analytique du gradient"
   ]
  },
  {
   "cell_type": "code",
   "execution_count": 91,
   "metadata": {},
   "outputs": [
    {
     "name": "stdout",
     "output_type": "stream",
     "text": [
      "CPU times: user 31.8 s, sys: 711 ms, total: 32.5 s\n",
      "Wall time: 18 s\n"
     ]
    }
   ],
   "source": [
    "%%time\n",
    "\n",
    "model = RNN(inputLayerSize=10, hiddenLayerSize = 100, outputLayerSize=10)\n",
    "x = [[0,1,2,3]]\n",
    "y = [[1,2,3,4]]\n",
    "\n",
    "dLdU, dLdV, dLdW, dLdbh, dLdbo = model.computeGradient(x[0], y[0])[0]\n",
    "\n",
    "anagrad = np.concatenate((dLdU.ravel(), dLdV.ravel(), dLdW.ravel(), dLdbh.ravel(), dLdbo.ravel()))\n",
    "numgrad = computeNumericalGradient(model, x, y)"
   ]
  },
  {
   "cell_type": "code",
   "execution_count": 92,
   "metadata": {},
   "outputs": [
    {
     "data": {
      "text/plain": [
       "1.1354388165153913e-09"
      ]
     },
     "execution_count": 92,
     "metadata": {},
     "output_type": "execute_result"
    }
   ],
   "source": [
    "c = (anagrad[0]/numgrad[0])\n",
    "np.linalg.norm(numgrad*c-anagrad)/np.linalg.norm(numgrad*c+anagrad)\n"
   ]
  },
  {
   "cell_type": "markdown",
   "metadata": {},
   "source": [
    "#### Tester la fonction de coût"
   ]
  },
  {
   "cell_type": "code",
   "execution_count": 93,
   "metadata": {},
   "outputs": [
    {
     "name": "stdout",
     "output_type": "stream",
     "text": [
      "Cross entropy: 2.32660962203\n",
      "Coût aléatoire théorique: 2.30258509299\n"
     ]
    }
   ],
   "source": [
    "print('Cross entropy: ' + str(model.costFunction(x, y)))\n",
    "print('Coût aléatoire théorique: ' + str(np.log(10)))"
   ]
  },
  {
   "cell_type": "markdown",
   "metadata": {},
   "source": [
    "### Training"
   ]
  },
  {
   "cell_type": "code",
   "execution_count": 94,
   "metadata": {},
   "outputs": [],
   "source": [
    "class train_rnn(object):\n",
    "    \n",
    "    def __init__(self, RNN):\n",
    "        self.RNN = RNN\n",
    "        \n",
    "    def gradientDescentStep(self, x, y, learningRate):\n",
    "        dLdU, dLdV, dLdW, dLdbh, dLdbo = self.RNN.computeGradient(x, y)[0]\n",
    "        \n",
    "        self.RNN.U -= learningRate*dLdU\n",
    "        self.RNN.V -= learningRate*dLdV\n",
    "        self.RNN.W -= learningRate*dLdW\n",
    "        self.RNN.bh -= 0*dLdbh\n",
    "        self.RNN.bo -= 0*dLdbo\n",
    "        \n",
    "    \n",
    "    def iterateGDSteps(self, X_train, y_train, \n",
    "                       learningRate = 0.005, \n",
    "                       nepoch = 10, \n",
    "                       evaluateLossEvery =10):\n",
    "        losses = []\n",
    "        numExamples = 0\n",
    "        \n",
    "        for e in np.arange(nepoch):\n",
    "            print(e)\n",
    "            if (e%(evaluateLossEvery-1)==0):\n",
    "                loss = self.RNN.costFunction(X_train, y_train)\n",
    "                losses.append({\"numExamples\": numExamples, \"loss\": loss})\n",
    "                if(len(losses)>1 and losses[-1]['loss']>losses[-2]['loss']):\n",
    "                    learningRate *= 0.5\n",
    "                \n",
    "            for i in np.random.randint(low = 0, high = len(y_train), size = 10):\n",
    "                self.gradientDescentStep(X_train[i], y_train[i], learningRate)\n",
    "                numExamples +=1\n",
    "                \n",
    "        return losses\n",
    "            "
   ]
  },
  {
   "cell_type": "code",
   "execution_count": 95,
   "metadata": {},
   "outputs": [],
   "source": [
    "model_rnn = RNN(inputLayerSize=vocabulary_size, hiddenLayerSize= 100, outputLayerSize=vocabulary_size)\n",
    "T_rnn = train_rnn(model_rnn)\n"
   ]
  },
  {
   "cell_type": "code",
   "execution_count": 96,
   "metadata": {},
   "outputs": [
    {
     "name": "stdout",
     "output_type": "stream",
     "text": [
      "0      0\n",
      "1    869\n",
      "dtype: int64\n"
     ]
    }
   ],
   "source": [
    "randomlyFound = []\n",
    "\n",
    "for i, y in enumerate(y_train[:20]):\n",
    "    randomlyFound.append((np.sum(T_rnn.RNN.predict(X_train[i])==np.array(y_train[i])), len(y_train[i])))\n",
    "\n",
    "print(pd.DataFrame(randomlyFound).sum())"
   ]
  },
  {
   "cell_type": "code",
   "execution_count": 97,
   "metadata": {},
   "outputs": [
    {
     "name": "stdout",
     "output_type": "stream",
     "text": [
      "8.98729752372\n"
     ]
    }
   ],
   "source": [
    "print(T_rnn.RNN.costFunction(X_train[:20], y_train[:20]))"
   ]
  },
  {
   "cell_type": "code",
   "execution_count": 98,
   "metadata": {
    "scrolled": false
   },
   "outputs": [
    {
     "name": "stdout",
     "output_type": "stream",
     "text": [
      "0\n",
      "1\n",
      "2\n",
      "3\n",
      "4\n",
      "5\n",
      "6\n",
      "7\n",
      "8\n",
      "9\n"
     ]
    },
    {
     "data": {
      "text/plain": [
       "[{'loss': 8.9874048177973993, 'numExamples': 0},\n",
       " {'loss': 8.9726087796771914, 'numExamples': 90}]"
      ]
     },
     "execution_count": 98,
     "metadata": {},
     "output_type": "execute_result"
    }
   ],
   "source": [
    "T_rnn.iterateGDSteps(X_train[:100], y_train[:100])"
   ]
  },
  {
   "cell_type": "markdown",
   "metadata": {
    "scrolled": true
   },
   "source": [
    "%%time\n",
    "\n",
    "r = np.random.permutation(20)\n",
    "\n",
    "for k in range(20):\n",
    "    i = np.random.randint(low = 0, high = 20)\n",
    "    T_rnn.gradientDescentStep(X_train[i], y_train[i], .05)"
   ]
  },
  {
   "cell_type": "code",
   "execution_count": 99,
   "metadata": {
    "scrolled": true
   },
   "outputs": [],
   "source": [
    "learnedLinksRNN = []\n",
    "\n",
    "for i, y in enumerate(y_train[:100]):\n",
    "    learnedLinksRNN.append((np.sum(T_rnn.RNN.predict(X_train[i])==np.array(y_train[i])),len(y_train[i])))"
   ]
  },
  {
   "cell_type": "code",
   "execution_count": 100,
   "metadata": {
    "scrolled": false
   },
   "outputs": [
    {
     "name": "stdout",
     "output_type": "stream",
     "text": [
      "RNN learning performance\n",
      "0     462\n",
      "1    7262\n",
      "dtype: int64\n"
     ]
    }
   ],
   "source": [
    "print('RNN learning performance')\n",
    "print(pd.DataFrame(learnedLinksRNN).sum())"
   ]
  },
  {
   "cell_type": "code",
   "execution_count": 101,
   "metadata": {},
   "outputs": [],
   "source": [
    "X_test = X_train[-100:]\n",
    "y_test = y_train[-100:]\n",
    "\n",
    "predictedLinksRNN = []\n",
    "\n",
    "for i, y in enumerate(y_test):\n",
    "    predictedLinksRNN.append((np.sum(T_rnn.RNN.predict(X_test[i])==np.array(y_test[i])),len(y_test[i])))\n",
    "    "
   ]
  },
  {
   "cell_type": "code",
   "execution_count": 102,
   "metadata": {
    "scrolled": true
   },
   "outputs": [
    {
     "name": "stdout",
     "output_type": "stream",
     "text": [
      "RNN prediction performance\n",
      "0     275\n",
      "1    4938\n",
      "dtype: int64\n"
     ]
    }
   ],
   "source": [
    "print('RNN prediction performance')\n",
    "print(pd.DataFrame(predictedLinksRNN).sum())"
   ]
  },
  {
   "cell_type": "code",
   "execution_count": 103,
   "metadata": {},
   "outputs": [
    {
     "name": "stdout",
     "output_type": "stream",
     "text": [
      "8.96818160945\n"
     ]
    }
   ],
   "source": [
    "print(T_rnn.RNN.costFunction(X_train[:100], y_train[:100]))"
   ]
  },
  {
   "cell_type": "markdown",
   "metadata": {},
   "source": [
    "#### Illustrating the gradient vanishing"
   ]
  },
  {
   "cell_type": "markdown",
   "metadata": {},
   "source": [
    "Explication du phénomène : \n",
    "\n",
    "http://proceedings.mlr.press/v28/pascanu13.pdf"
   ]
  },
  {
   "cell_type": "code",
   "execution_count": 104,
   "metadata": {},
   "outputs": [],
   "source": [
    "model = RNN(inputLayerSize=vocabulary_size, hiddenLayerSize= 100, outputLayerSize=vocabulary_size)\n",
    "T = train_rnn(model)\n"
   ]
  },
  {
   "cell_type": "code",
   "execution_count": 105,
   "metadata": {},
   "outputs": [],
   "source": [
    "A = T.RNN.computeGradient(X_train[1], y_train[1])"
   ]
  },
  {
   "cell_type": "code",
   "execution_count": 106,
   "metadata": {
    "scrolled": false
   },
   "outputs": [
    {
     "name": "stdout",
     "output_type": "stream",
     "text": [
      "[0.56999999999999995, 0.040000000000000001, 0.0, 0.0, 0.0, 0.0, 0.0, 0.0, 0.0, 0.0, 0.0, 0.0, 0.0, 0.0, 0.0, 0.0, 0.0, 0.0, 0.0, 0.0, 0.0, 0.0, 0.0, 0.0, 0.0, 0.0, 0.0, 0.0, 0.0, 0.0, 0.0, 0.0, 0.0, 0.0, 0.0, 0.0, 0.0, 0.0, 0.0, 0.0, 0.0, 0.0, 0.0, 0.0, 0.0, 0.0, 0.0, 0.0, 0.0, 0.0, 0.0, 0.0, 0.0, 0.0, 0.0, 0.0, 0.0, 0.0, 0.0, 0.0, 0.0, 0.0, 0.0, 0.0, 0.0, 0.0, 0.0, 0.0, 0.0, 0.0, 0.0, 0.0, 0.0, 0.0, 0.0, 0.0, 0.0, 0.0, 0.0, 0.0, 0.0, 0.0, 0.0, 0.0, 0.0, 0.0, 0.0, 0.0, 0.0, 0.0, 0.0, 0.0, 0.0, 0.0, 0.0, 0.0, 0.0, 0.0, 0.0, 0.0, 0.0, 0.0, 0.0, 0.0, 0.0, 0.0, 0.0, 0.0, 0.0, 0.0, 0.0, 0.0, 0.0, 0.0, 0.0, 0.0, 0.0, 0.0]\n"
     ]
    },
    {
     "data": {
      "text/plain": [
       "[<matplotlib.lines.Line2D at 0x1123be710>]"
      ]
     },
     "execution_count": 106,
     "metadata": {},
     "output_type": "execute_result"
    },
    {
     "data": {
      "image/png": "[encoded data removed]",
      "text/plain": [
       "<matplotlib.figure.Figure at 0x113ac3eb8>"
      ]
     },
     "metadata": {},
     "output_type": "display_data"
    }
   ],
   "source": [
    "print([np.round(np.linalg.norm(a), 2) for a in A[1]])\n",
    "\n",
    "plt.plot(np.array([np.linalg.norm(a) for a in A[1]]))"
   ]
  },
  {
   "cell_type": "markdown",
   "metadata": {},
   "source": [
    "Résolution du problème de gradient évanescent :\n",
    "\n",
    "• Utilisation de fonction d'activation ReLU, dont la dérivée est 0 ou 1, et ne subit pas d'atténuation continue dans le temps (peut persister le problème de la disparition d'une couche à l'autre de toute l'information mémorisée)\n",
    "\n",
    "• Introduction de modèles dont les couches cachées contiennent des portes dérobées permettant à l'information de passer directement du temps $ t-1 $ au temps $ t $ sans subir le produit par $ \\frac{\\partial s_t}{\\partial s_{t-1}} $\n"
   ]
  },
  {
   "cell_type": "markdown",
   "metadata": {},
   "source": [
    "### Generation automatique de texte"
   ]
  },
  {
   "cell_type": "code",
   "execution_count": 107,
   "metadata": {},
   "outputs": [],
   "source": [
    "def generate_text(model, \n",
    "                  index_to_word, \n",
    "                  word_to_index, \n",
    "                  sentence_start_token, \n",
    "                  sentence_end_token, \n",
    "                  unknown_token, \n",
    "                  max_length):\n",
    "    # rappel\n",
    "    # index_to_word[index] = word\n",
    "    # word_to_index[word] = index\n",
    "    \n",
    "    text = [word_to_index[sentence_start_token]]\n",
    "    \n",
    "    while (not text[-1]==sentence_end_token) and (not len(text)>max_length):\n",
    "        dist_new_word = model.forward(text)[0][-1]\n",
    "        sampling = np.random.multinomial(1, dist_new_word)\n",
    "        text.append(np.argmax(sampling))\n",
    "        \n",
    "    return [index_to_word[w] for w in text]\n"
   ]
  },
  {
   "cell_type": "code",
   "execution_count": 108,
   "metadata": {
    "scrolled": true
   },
   "outputs": [
    {
     "data": {
      "text/plain": [
       "['SENTENCE_START',\n",
       " 'mollement',\n",
       " 'relative',\n",
       " 'denses',\n",
       " 'plaine',\n",
       " '«est-ce',\n",
       " \"s'occuper\",\n",
       " 'analogue',\n",
       " \"d'eau\",\n",
       " 'pourtant',\n",
       " 'patience',\n",
       " 'éloignions',\n",
       " 'buvait',\n",
       " 'amants',\n",
       " 'livrer',\n",
       " 'combien',\n",
       " 'pendules',\n",
       " 'attendrissement',\n",
       " 'témoignait',\n",
       " 'invité',\n",
       " 'nom',\n",
       " 'noires',\n",
       " \"s'arranger.»\",\n",
       " 'vague',\n",
       " 'sainte',\n",
       " 'découragé',\n",
       " 'malice',\n",
       " 'aides',\n",
       " \"l'intention\",\n",
       " 'facteurs',\n",
       " 'crée',\n",
       " 'lointaines',\n",
       " 'machine',\n",
       " 'montrent',\n",
       " 'voudriez',\n",
       " 'limpide',\n",
       " 'sache',\n",
       " 'rendre',\n",
       " 'allaient',\n",
       " 'fraîcheur',\n",
       " 'rapide',\n",
       " 'file',\n",
       " 'pierres',\n",
       " 'réciproque',\n",
       " 'auge',\n",
       " 'cessât',\n",
       " '»ou',\n",
       " 'pise',\n",
       " 'drap',\n",
       " 'fâcheux',\n",
       " \"d'acier\",\n",
       " \"l'escalier\",\n",
       " \"l'ancienne\",\n",
       " 'demandait',\n",
       " 'soulagement',\n",
       " 'priait',\n",
       " 'dorées',\n",
       " 'pour',\n",
       " 'contingences',\n",
       " 'attitudes',\n",
       " 'réputation',\n",
       " 'francs',\n",
       " 'glacé',\n",
       " 'isolé',\n",
       " 'troupier',\n",
       " 'charmant',\n",
       " 'proposition',\n",
       " 'cène',\n",
       " 'allé',\n",
       " 'coquelin',\n",
       " 'gris',\n",
       " \"s'éleva\",\n",
       " 'brillantes',\n",
       " 'sentiment',\n",
       " 'aimât',\n",
       " 'habituer',\n",
       " 'caprice',\n",
       " \"n'y\",\n",
       " 'grandes',\n",
       " '—«oui',\n",
       " 'attitudes',\n",
       " 'attribuait',\n",
       " 'sociétés',\n",
       " 'étrangers',\n",
       " 'barres',\n",
       " 'embrasse',\n",
       " 'blague',\n",
       " 'différente',\n",
       " 'physique',\n",
       " 'renverser',\n",
       " 'accouchement',\n",
       " 'quelquefois',\n",
       " 'cab',\n",
       " 'confiance',\n",
       " 'anxieuse',\n",
       " 'observateur',\n",
       " \"l'y\",\n",
       " 'pensé',\n",
       " 'lanterne',\n",
       " 'attribuait',\n",
       " 'affectation']"
      ]
     },
     "execution_count": 108,
     "metadata": {},
     "output_type": "execute_result"
    }
   ],
   "source": [
    "generate_text(T_rnn.RNN, \n",
    "              index_to_word, \n",
    "              word_to_index, \n",
    "              sentence_start_token, \n",
    "              sentence_end_token, \n",
    "              unknown_token, 100)"
   ]
  },
  {
   "cell_type": "markdown",
   "metadata": {},
   "source": [
    "### RNN bidirectionnel"
   ]
  },
  {
   "cell_type": "markdown",
   "metadata": {},
   "source": [
    "• http://www.di.ufpe.br/%7Efnj/RNA/bibliografia/BRNN.pdf (papier original BRNN)\n",
    "\n",
    "• https://arxiv.org/pdf/1504.01575.pdf (utilisation de BRNN pour l'interpolation dans des séries temporelles pour compléter les valeurs manquantes)"
   ]
  },
  {
   "cell_type": "markdown",
   "metadata": {},
   "source": [
    "$ At \\ each \\ time \\ step \\ t:$\n",
    "\n",
    "$ \\ • \\ Hidden \\ up \\ layer: s_t^{up}=tanh(U^{up}.x_t + W^{up}.s^{up}_{t-1} + b_h^{up}) \\\\ $\n",
    "\n",
    "$ \\ • \\ Hidden \\ down \\ layer: s_t^{down}=tanh(U^{down}.x_t + W^{down}.s^{down}_{t+1} + b_h^{down}) \\\\ $\n",
    "\n",
    "$ \\ • \\ Output \\ layer: o_t=softmax(V^{up}.s_t^{up} + V^{down}.s_t^{down} + b_o) \\ which \\ represents \\ the  \\ probability \\ distribution \\ over \\ the \\ vocabulary \\ at \\ time \\ t \\\\ $\n",
    "\n",
    "$ \\ • \\ Cost \\ function: \\ L = -\\sum_{t=1}^{T} y_t \\ log(o_t) \\\\ $\n"
   ]
  },
  {
   "cell_type": "code",
   "execution_count": 109,
   "metadata": {},
   "outputs": [],
   "source": [
    "class BRNN(object):\n",
    "    \n",
    "    def __init__(self, inputLayerSize, hiddenLayerSize, outputLayerSize):\n",
    "    \n",
    "        self.inputLayerSize = inputLayerSize\n",
    "        self.outputLayerSize = outputLayerSize\n",
    "        self.hiddenLayerSize = hiddenLayerSize\n",
    "\n",
    "        self.U_up = np.random.uniform(-np.sqrt(1./inputLayerSize), np.sqrt(1./inputLayerSize), (hiddenLayerSize, inputLayerSize))\n",
    "        self.V_up = np.random.uniform(-np.sqrt(1./hiddenLayerSize), np.sqrt(1./hiddenLayerSize), (outputLayerSize, hiddenLayerSize))\n",
    "        self.W_up = np.random.uniform(-np.sqrt(1./hiddenLayerSize), np.sqrt(1./hiddenLayerSize), (hiddenLayerSize, hiddenLayerSize))\n",
    "        \n",
    "        self.U_down = np.random.uniform(-np.sqrt(1./inputLayerSize), np.sqrt(1./inputLayerSize), (hiddenLayerSize, inputLayerSize))\n",
    "        self.V_down = np.random.uniform(-np.sqrt(1./hiddenLayerSize), np.sqrt(1./hiddenLayerSize), (outputLayerSize, hiddenLayerSize))\n",
    "        self.W_down = np.random.uniform(-np.sqrt(1./hiddenLayerSize), np.sqrt(1./hiddenLayerSize), (hiddenLayerSize, hiddenLayerSize))\n",
    "        \n",
    "        self.bh_up = np.zeros((1, self.hiddenLayerSize))\n",
    "        self.bh_down = np.zeros((1, self.hiddenLayerSize))\n",
    "        self.bo = np.zeros((1, self.outputLayerSize))\n",
    "        \n",
    "        self.parameters = [self.U_up, self.V_up, self.W_up, self.bh_up,\n",
    "                           self.U_down, self.V_down, self.W_down, self.bh_down, \n",
    "                           self.bo]\n",
    "        \n",
    "    def softmax(self, z):\n",
    "        return np.exp(z)/(np.sum(np.exp(z)))\n",
    "    \n",
    "    def sigmoid(self, z):\n",
    "        return 1/(1+np.exp(-z))\n",
    "        \n",
    "    def forward(self, x):\n",
    "        \n",
    "        T = len(x)\n",
    "        \n",
    "        # on doit sauvegarder toutes les valeurs de s(t) \n",
    "        # s est initialisé avec un vecteur nul en -1\n",
    "        s_up = np.zeros((T+1, self.hiddenLayerSize))\n",
    "        s_up[-1] = np.zeros(self.hiddenLayerSize)\n",
    "        \n",
    "        s_down =np.zeros((T+1, self.hiddenLayerSize))\n",
    "        # s_down[T] = np.zeros(self.hiddenLayerSize)\n",
    "        \n",
    "        # o est sauvegardé aussi à chaque étape\n",
    "        o = np.zeros((T, self.outputLayerSize))\n",
    "        \n",
    "        # notons que x(t) est un one-hot-vector, qu'on peut remplacer par l'indice de sa valeur 1 --> x[t] = np.where((x[t]==1))\n",
    "        for t in np.arange(0, T):\n",
    "            s_up[t] = np.tanh(self.U_up[:,x[t]] + self.W_up.dot(s_up[t-1]) + self.bh_up)\n",
    "            s_down[T-t-1] = np.tanh(self.U_down[:,x[T-t-1]] + self.W_down.dot(s_down[T-t]) + self.bh_down)\n",
    "        \n",
    "        for t in np.arange(0, T):\n",
    "            o[t] = self.softmax(self.V_down.dot(s_down[t]) + \n",
    "                                self.V_up.dot(s_up[t]) + \n",
    "                                self.bo)\n",
    "            \n",
    "        return [o, s_up, s_down]\n",
    "        \n",
    "    def predict(self, x):\n",
    "    # Inputs:\n",
    "        # x : une phrase\n",
    "    # Outputs:\n",
    "        # estimated word based on maximum computed probability\n",
    "        \n",
    "        o, s_up, s_down = self.forward(x)\n",
    "        return np.argmax(o, axis = 1)\n",
    "    \n",
    "    def costFunction(self, x, y):\n",
    "        \n",
    "        # - x : les phrases sans le dernier mot\n",
    "        # - y : les phrases sans le premier mot\n",
    "\n",
    "        L = 0\n",
    "        N = np.sum((len(y_i) for y_i in y))\n",
    "        \n",
    "        for i in np.arange(len(x)): # pour chaque phrase\n",
    "            o, s_up, s_down = self.forward(x[i])\n",
    "            p = y[i]\n",
    "            L += -np.sum(np.log(o[np.arange(len(p)),p]))\n",
    "                \n",
    "        return L/N\n",
    "    \n",
    "    def computeGradient(self, x, y):\n",
    "    \n",
    "    # - x : une phrase sans le dernier mot\n",
    "    # - y : une phrase sans le premier mot\n",
    "    \n",
    "        o, s_up, s_down = self.forward(x)\n",
    "        \n",
    "        dLdU_up = np.zeros(self.U_up.shape)\n",
    "        dLdV_up = np.zeros(self.V_up.shape)\n",
    "        dLdW_up = np.zeros(self.W_up.shape)\n",
    "        \n",
    "        dLdU_down = np.zeros(self.U_down.shape)\n",
    "        dLdV_down = np.zeros(self.V_down.shape)\n",
    "        dLdW_down = np.zeros(self.W_down.shape)\n",
    "        \n",
    "        dLdbh_up = np.zeros(self.bh_up.shape)\n",
    "        dLdbh_down = np.zeros(self.bh_down.shape)\n",
    "        dLdbo = np.zeros(self.bo.shape)\n",
    " \n",
    "        dsds_up = np.zeros(self.hiddenLayerSize)\n",
    "        dsds_down = np.zeros(self.hiddenLayerSize)\n",
    "        \n",
    "        for t in np.arange(len(x))[::-1]:\n",
    "            \n",
    "            x_t = np.identity(self.inputLayerSize)[:,x[t]]\n",
    "            y_t = np.identity(self.outputLayerSize)[:,y[t]]\n",
    "            \n",
    "            ds_upt = (self.V_up.T.dot(o[t]-y_t) + dsds_up)*(1-s_up[t]**2)\n",
    "            \n",
    "            ds_downt = (self.V_down.T.dot(o[t]-y_t) + dsds_down)*(1-s_down[t]**2)\n",
    "            \n",
    "            # updates\n",
    "            \n",
    "            dLdV_up += np.outer((o[t]-y_t),s_up[t])\n",
    "            dLdU_up += np.outer(ds_upt, x_t)\n",
    "            dLdW_up += np.outer(ds_upt, s_up[t-1])\n",
    "            dLdbh_up += ds_upt\n",
    "            dsds_up = self.W_up.T.dot(ds_upt)\n",
    "            \n",
    "            \n",
    "            dLdV_down += np.outer((o[t]-y_t),s_down[t])\n",
    "            dLdU_down += np.outer(ds_downt, x_t)\n",
    "            dLdW_down += np.outer(ds_downt, s_down[t+1])\n",
    "            dLdbh_down += ds_downt\n",
    "            dsds_down = self.W_down.T.dot(ds_downt)\n",
    "            \n",
    "            dLdbo += (o[t]-y_t)\n",
    "            \n",
    "        return dLdU_up, dLdV_up, dLdW_up, dLdbh_up,  dLdU_down, dLdV_down, dLdW_down, dLdbh_down, dLdbo\n",
    "        \n",
    "    \n",
    "    def getParams(self):\n",
    "        # transform the Ws into vectors\n",
    "        params = np.concatenate((self.U_up.ravel(), self.V_up.ravel(), self.W_up.ravel(), self.bh_up.ravel(), \n",
    "                                 self.U_down.ravel(), self.V_down.ravel(), self.W_up.ravel(), self.bh_down.ravel(), \n",
    "                                 self.bo.ravel()))\n",
    "        return params\n",
    "    \n",
    "    def setParams(self, params):\n",
    "        # enables to replace the Ws by inputing vector of parameters\n",
    "        # transform parameter vectors into matrices\n",
    " \n",
    "        _start = 0\n",
    "        _end = np.product(self.U_up.shape)\n",
    "        self.U_up = np.reshape(params[_start:_end], self.U_up.shape)\n",
    "\n",
    "        _start = _end\n",
    "        _end = _end + np.product(self.V_up.shape)\n",
    "        self.V_up = np.reshape(params[_start:_end], self.V_up.shape)\n",
    "        \n",
    "        _start = _end\n",
    "        _end = _end + np.product(self.W_up.shape)\n",
    "        self.W_up = np.reshape(params[_start:_end], self.W_up.shape)\n",
    "        \n",
    "        _start = _end\n",
    "        _end = _end + np.product(self.bh_up.shape)\n",
    "        self.bh_up = np.reshape(params[_start:_end], self.bh_up.shape)\n",
    "        \n",
    "        _start = 0\n",
    "        _end = np.product(self.U_down.shape)\n",
    "        self.U_down = np.reshape(params[_start:_end], self.U_down.shape)\n",
    "\n",
    "        _start = _end\n",
    "        _end = _end + np.product(self.V_down.shape)\n",
    "        self.V_down = np.reshape(params[_start:_end], self.V_down.shape)\n",
    "        \n",
    "        _start = _end\n",
    "        _end = _end + np.product(self.W_down.shape)\n",
    "        self.W_down = np.reshape(params[_start:_end], self.W_down.shape)\n",
    "        \n",
    "        _start = _end\n",
    "        _end = _end + np.product(self.bh_down.shape)\n",
    "        self.bh_down = np.reshape(params[_start:_end], self.bh_down.shape)\n",
    "        \n",
    "        _start = _end\n",
    "        _end = _end + np.product(self.bo.shape)\n",
    "        self.bo = np.reshape(params[_start:_end], self.bo.shape)\n",
    "        \n",
    "        "
   ]
  },
  {
   "cell_type": "markdown",
   "metadata": {},
   "source": [
    "#### Tester le calcul analytique du gradient"
   ]
  },
  {
   "cell_type": "markdown",
   "metadata": {},
   "source": [
    "model_rnn = RNN(inputLayerSize=10, hiddenLayerSize = 10, outputLayerSize=10)\n",
    "model_brnn = BRNN(inputLayerSize=10, hiddenLayerSize = 10, outputLayerSize=10)\n",
    "\n",
    "x = [[0,1,2,3]]\n",
    "y = [[1,2,3,4]]\n",
    "\n",
    "x_inv = [y[0][::-1]]\n",
    "y_inv = [x[0][::-1]]"
   ]
  },
  {
   "cell_type": "markdown",
   "metadata": {},
   "source": [
    "model_brnn.U_up = model_rnn.U\n",
    "model_brnn.V_up = model_rnn.V\n",
    "model_brnn.W_up = model_rnn.W\n",
    "model_brnn.bh_up = model_rnn.bh\n",
    "\n",
    "model_brnn.U_down = np.zeros(model_brnn.U_down.shape)\n",
    "model_brnn.V_down = np.zeros(model_brnn.V_down.shape)\n",
    "model_brnn.W_down = np.zeros(model_brnn.W_down.shape)\n",
    "model_brnn.bh_down = np.zeros(model_brnn.bh_down.shape)\n",
    "\n"
   ]
  },
  {
   "cell_type": "markdown",
   "metadata": {},
   "source": [
    "model_brnn.U_down = model_rnn.U\n",
    "model_brnn.V_down = model_rnn.V\n",
    "model_brnn.W_down = model_rnn.W\n",
    "model_brnn.bh_down = model_rnn.bh\n",
    "\n",
    "model_brnn.U_up = np.zeros(model_brnn.U_up.shape)\n",
    "model_brnn.V_up = np.zeros(model_brnn.V_up.shape)\n",
    "model_brnn.W_up = np.zeros(model_brnn.W_up.shape)\n",
    "model_brnn.bh_up = np.zeros(model_brnn.bh_up.shape)\n"
   ]
  },
  {
   "cell_type": "markdown",
   "metadata": {},
   "source": [
    "A = model_brnn.computeGradient(x[0], y[0])\n",
    "B = model_rnn.computeGradient(x[0], y[0])[0]\n"
   ]
  },
  {
   "cell_type": "markdown",
   "metadata": {},
   "source": [
    "%%time\n",
    "\n",
    "model = BRNN(inputLayerSize=10, hiddenLayerSize = 10, outputLayerSize=10)\n",
    "\n",
    "x = [[0,1,2,3]]\n",
    "y = [[1,2,3,4]]\n",
    "\n",
    "dLdU_up, dLdV_up, dLdW_up, dLdbh_up, dLdU_down, dLdV_down, dLdW_down, dLdbh_down, dLdbo = model.computeGradient(x[0], y[0])\n",
    "\n",
    "anagrad = np.concatenate((dLdU_up.ravel(), dLdV_up.ravel(), dLdW_up.ravel(), dLdbh_up.ravel(), \n",
    "                          dLdU_down.ravel(), dLdV_down.ravel(), dLdW_down.ravel(), dLdbh_down.ravel(), \n",
    "                          dLdbo.ravel()))\n",
    "\n",
    "numgrad = computeNumericalGradient(model, x, y)"
   ]
  },
  {
   "cell_type": "markdown",
   "metadata": {},
   "source": [
    "model_num = BRNN(inputLayerSize=10, hiddenLayerSize = 10, outputLayerSize=10)\n",
    "model_num.setParams(numgrad)\n"
   ]
  },
  {
   "cell_type": "markdown",
   "metadata": {},
   "source": [
    "c = (dLdV_up.ravel()[0]/model_num.V_up.ravel()[0])\n",
    "np.linalg.norm(model_num.V_up.ravel()*c-dLdV_up.ravel())/np.linalg.norm(model_num.V_up.ravel()*c+dLdV_up.ravel())\n"
   ]
  },
  {
   "cell_type": "markdown",
   "metadata": {},
   "source": [
    "c = (dLdbo.ravel()[0]/model_num.bo.ravel()[0])\n",
    "np.linalg.norm(model_num.bo.ravel()*c-dLdbo.ravel())/np.linalg.norm(model_num.bo.ravel()*c+dLdbo.ravel())\n"
   ]
  },
  {
   "cell_type": "markdown",
   "metadata": {},
   "source": [
    "c = (anagrad[0]/numgrad[0])\n",
    "np.linalg.norm(numgrad*c-anagrad)/np.linalg.norm(numgrad*c+anagrad)\n"
   ]
  },
  {
   "cell_type": "markdown",
   "metadata": {},
   "source": [
    "#### Tester la fonction de coût"
   ]
  },
  {
   "cell_type": "code",
   "execution_count": 119,
   "metadata": {},
   "outputs": [
    {
     "name": "stdout",
     "output_type": "stream",
     "text": [
      "Cross entropy: 2.13978549096\n",
      "Coût aléatoire théorique: 2.30258509299\n"
     ]
    }
   ],
   "source": [
    "print('Cross entropy: ' + str(model.costFunction(x, y)))\n",
    "print('Coût aléatoire théorique: ' + str(np.log(10)))"
   ]
  },
  {
   "cell_type": "code",
   "execution_count": 120,
   "metadata": {},
   "outputs": [],
   "source": [
    "class train_brnn(object):\n",
    "    \n",
    "    def __init__(self, BRNN):\n",
    "        self.BRNN = BRNN\n",
    "        \n",
    "    def gradientDescentStep(self, x, y, learningRate):\n",
    "        dLdU_up, dLdV_up, dLdW_up, dLdbh_up, dLdU_down, dLdV_down, dLdW_down, dLdbh_down, dLdbo = self.BRNN.computeGradient(x, y)\n",
    "\n",
    "        self.BRNN.U_up -= learningRate*dLdU_up\n",
    "        self.BRNN.V_up -= learningRate*dLdV_up\n",
    "        self.BRNN.W_up -= learningRate*dLdW_up\n",
    "        self.BRNN.bh_up -= learningRate*dLdbh_up\n",
    "        self.BRNN.U_down -= learningRate*dLdU_down\n",
    "        self.BRNN.V_down -= learningRate*dLdV_down\n",
    "        self.BRNN.W_down -= learningRate*dLdW_down\n",
    "        self.BRNN.bh_down -= learningRate*dLdbh_down\n",
    "        self.BRNN.bo -= learningRate*dLdbo\n",
    "        \n",
    "    \n",
    "    def iterateGDSteps(self, X_train, y_train, \n",
    "                       learningRate = 0.005, \n",
    "                       nepoch = 10, \n",
    "                       evaluateLossEvery =10):\n",
    "        losses = []\n",
    "        numExamples = 0\n",
    "        \n",
    "        for e in np.arange(nepoch):\n",
    "            print(e)\n",
    "            if (e%(evaluateLossEvery-1)==0):\n",
    "                loss = self.BRNN.costFunction(X_train, y_train)\n",
    "                losses.append({\"numExamples\": numExamples, \"loss\": loss})\n",
    "                if(len(losses)>1 and losses[-1]['loss']>losses[-2]['loss']):\n",
    "                    learningRate *= 0.5\n",
    "                \n",
    "            for i in np.random.randint(low = 0, high = len(y_train), size = 10):\n",
    "                self.gradientDescentStep(X_train[i], y_train[i], learningRate)\n",
    "                numExamples +=1\n",
    "                \n",
    "        return losses\n",
    "            "
   ]
  },
  {
   "cell_type": "code",
   "execution_count": 121,
   "metadata": {},
   "outputs": [],
   "source": [
    "model_brnn = BRNN(inputLayerSize=vocabulary_size, hiddenLayerSize= 100, outputLayerSize=vocabulary_size)\n",
    "T_brnn = train_brnn(model_brnn)\n"
   ]
  },
  {
   "cell_type": "code",
   "execution_count": 122,
   "metadata": {},
   "outputs": [
    {
     "name": "stdout",
     "output_type": "stream",
     "text": [
      "0      0\n",
      "1    869\n",
      "dtype: int64\n"
     ]
    }
   ],
   "source": [
    "randomlyFound = []\n",
    "\n",
    "for i, y in enumerate(y_train[:20]):\n",
    "    randomlyFound.append((np.sum(T_brnn.BRNN.predict(X_train[i])==np.array(y_train[i])), len(y_train[i])))\n",
    "\n",
    "print(pd.DataFrame(randomlyFound).sum())"
   ]
  },
  {
   "cell_type": "code",
   "execution_count": 123,
   "metadata": {},
   "outputs": [
    {
     "name": "stdout",
     "output_type": "stream",
     "text": [
      "8.98745278239\n"
     ]
    }
   ],
   "source": [
    "print(T_brnn.BRNN.costFunction(X_train[:20], y_train[:20]))"
   ]
  },
  {
   "cell_type": "code",
   "execution_count": 124,
   "metadata": {
    "scrolled": true
   },
   "outputs": [
    {
     "name": "stdout",
     "output_type": "stream",
     "text": [
      "0\n",
      "1\n",
      "2\n",
      "3\n",
      "4\n",
      "5\n",
      "6\n",
      "7\n",
      "8\n",
      "9\n"
     ]
    },
    {
     "data": {
      "text/plain": [
       "[{'loss': 8.9875026677208218, 'numExamples': 0},\n",
       " {'loss': 6.6857495672334872, 'numExamples': 90}]"
      ]
     },
     "execution_count": 124,
     "metadata": {},
     "output_type": "execute_result"
    }
   ],
   "source": [
    "T_brnn.iterateGDSteps(X_train[:100], y_train[:100])"
   ]
  },
  {
   "cell_type": "markdown",
   "metadata": {
    "scrolled": true
   },
   "source": [
    "%%time\n",
    "\n",
    "r = np.random.permutation(20)\n",
    "\n",
    "for k in range(20):\n",
    "    i = np.random.randint(low = 0, high = 20)\n",
    "    T_rnn.gradientDescentStep(X_train[i], y_train[i], .05)"
   ]
  },
  {
   "cell_type": "code",
   "execution_count": 125,
   "metadata": {
    "scrolled": true
   },
   "outputs": [],
   "source": [
    "learnedLinksBRNN = []\n",
    "\n",
    "for i, y in enumerate(y_train[:100]):\n",
    "    learnedLinksBRNN.append((np.sum(T_brnn.BRNN.predict(X_train[i])==np.array(y_train[i])),len(y_train[i])))\n"
   ]
  },
  {
   "cell_type": "code",
   "execution_count": 126,
   "metadata": {
    "scrolled": false
   },
   "outputs": [
    {
     "name": "stdout",
     "output_type": "stream",
     "text": [
      "RNN learning performance\n",
      "0     462\n",
      "1    7262\n",
      "dtype: int64\n",
      "BRNN learning performance\n",
      "0     447\n",
      "1    7262\n",
      "dtype: int64\n"
     ]
    }
   ],
   "source": [
    "print('RNN learning performance')\n",
    "print(pd.DataFrame(learnedLinksRNN).sum())\n",
    "\n",
    "print('BRNN learning performance')\n",
    "print(pd.DataFrame(learnedLinksBRNN).sum())\n"
   ]
  },
  {
   "cell_type": "code",
   "execution_count": 127,
   "metadata": {},
   "outputs": [],
   "source": [
    "X_test = X_train[-100:]\n",
    "y_test = y_train[-100:]\n",
    "\n",
    "predictedLinksBRNN = []\n",
    "\n",
    "for i, y in enumerate(y_test):\n",
    "    predictedLinksBRNN.append((np.sum(T_brnn.BRNN.predict(X_test[i])==np.array(y_test[i])),len(y_test[i])))\n",
    "    "
   ]
  },
  {
   "cell_type": "code",
   "execution_count": 128,
   "metadata": {
    "scrolled": true
   },
   "outputs": [
    {
     "name": "stdout",
     "output_type": "stream",
     "text": [
      "RNN prediction performance\n",
      "0     275\n",
      "1    4938\n",
      "dtype: int64\n",
      "BRNN prediction performance\n",
      "0     321\n",
      "1    4938\n",
      "dtype: int64\n"
     ]
    }
   ],
   "source": [
    "print('RNN prediction performance')\n",
    "print(pd.DataFrame(predictedLinksRNN).sum())\n",
    "\n",
    "print('BRNN prediction performance')\n",
    "print(pd.DataFrame(predictedLinksBRNN).sum())"
   ]
  },
  {
   "cell_type": "code",
   "execution_count": 129,
   "metadata": {},
   "outputs": [
    {
     "name": "stdout",
     "output_type": "stream",
     "text": [
      "8.96818160945\n"
     ]
    }
   ],
   "source": [
    "print(T_rnn.RNN.costFunction(X_train[:100], y_train[:100]))"
   ]
  },
  {
   "cell_type": "markdown",
   "metadata": {},
   "source": [
    "### GRU"
   ]
  },
  {
   "cell_type": "markdown",
   "metadata": {},
   "source": [
    "At each time step t:\n",
    "\n",
    "• New memory layer: $ m_t=tanh(U^m.x_t + r_t \\times W^m.s_{t-1} + b^m): \\\\ $\n",
    "\n",
    "• Reset gate: $ r_t=\\sigma (U^r.x_t + W^r.s_{t-1} + b^r) \\\\ $\n",
    "\n",
    "• Interpolation gate: $ z_t=\\sigma (U^z.x_t + W^z.s_{t-1} + b^z) \\\\ $\n",
    "\n",
    "• Hidden layer: $ s_t = (1-z_t) \\times m_t + z_t \\times s_{t-1} \\\\ $\n",
    "\n",
    "• Output layer: $ o_t=softmax(V.s_t + b_o) \\\\ $\n",
    "\n",
    "• Cost function: $ L = -\\sum_{t=1}^{T} y_t \\ log(o_t) \\\\ $\n"
   ]
  },
  {
   "cell_type": "markdown",
   "metadata": {},
   "source": [
    "Cette architecture permet d'améliorer la persistance de la mémoire dans le réseau en proposant des passages directs contrôlés par des portes. On compte trois types de porte:\n",
    "\n",
    "- Les \"new memory layers candidate\" $ m_t $ permettent de compléter l'information au temps $ t $ contenue dans $ s_t $ en combinant l'information contenue dans $ x_t $ avec de l'information passée contenue dans $ s_{t-1} $\n",
    "\n",
    "- Les \"reset gates\" $ r_t $ contrôlent la persistance de l'information passée $ s_{t-1} $ utilisée pour la construction de la mémoire $ m_t $\n",
    "\n",
    "- Les \"update gates\" $ z_t $ contrôlent la balance entre \"new memory\" et \"previous hidden states\" pour la construction du nouvelle état caché\n",
    "\n",
    "- Les \"hidden states\" $ s_t $ sont générés par arbitrage entre \"new memory\" et \"past hidden state\"\n",
    "\n",
    "- L'output $ o_t $ represents the  estimated probability distribution over the vocabulary at time, sachant l'information passée contenue dans l'état caché $ s_t $"
   ]
  },
  {
   "cell_type": "markdown",
   "metadata": {},
   "source": [
    "Une solution est proposée ici: \n",
    "\n",
    "https://github.com/DoctorTeeth/gru/blob/master/gru.py"
   ]
  },
  {
   "cell_type": "code",
   "execution_count": 130,
   "metadata": {},
   "outputs": [],
   "source": [
    "class GRU(object):\n",
    "    \n",
    "    def __init__(self, inputLayerSize, hiddenLayerSize, outputLayerSize):\n",
    "    \n",
    "        self.inputLayerSize = inputLayerSize\n",
    "        self.outputLayerSize = outputLayerSize\n",
    "        self.hiddenLayerSize = hiddenLayerSize\n",
    "        \n",
    "        self.Uz = np.random.uniform(-np.sqrt(1./inputLayerSize), np.sqrt(1./inputLayerSize), (hiddenLayerSize, inputLayerSize))\n",
    "        self.Wz = np.random.uniform(-np.sqrt(1./hiddenLayerSize), np.sqrt(1./hiddenLayerSize), (hiddenLayerSize, hiddenLayerSize))\n",
    "        \n",
    "        self.Ur = np.random.uniform(-np.sqrt(1./inputLayerSize), np.sqrt(1./inputLayerSize), (hiddenLayerSize, inputLayerSize))\n",
    "        self.Wr = np.random.uniform(-np.sqrt(1./hiddenLayerSize), np.sqrt(1./hiddenLayerSize), (hiddenLayerSize, hiddenLayerSize))\n",
    "        \n",
    "        self.Um = np.random.uniform(-np.sqrt(1./inputLayerSize), np.sqrt(1./inputLayerSize), (hiddenLayerSize, inputLayerSize))\n",
    "        self.Wm = np.random.uniform(-np.sqrt(1./hiddenLayerSize), np.sqrt(1./hiddenLayerSize), (hiddenLayerSize, hiddenLayerSize))\n",
    "        \n",
    "        self.bm = np.zeros((self.hiddenLayerSize))\n",
    "        self.br = np.zeros((self.hiddenLayerSize))\n",
    "        self.bz = np.zeros((self.hiddenLayerSize))\n",
    "        \n",
    "        self.V = np.random.uniform(-np.sqrt(1./hiddenLayerSize), np.sqrt(1./hiddenLayerSize), (outputLayerSize, hiddenLayerSize))\n",
    "        self.bo = np.zeros((self.outputLayerSize))\n",
    "        \n",
    "        self.parameters = [self.V, self.bo, \n",
    "                           self.Um, self.Wm, self.bm, \n",
    "                           self.Ur, self.Wr, self.br, \n",
    "                           self.Uz, self.Wz, self.bz]\n",
    "        \n",
    "        \n",
    "    def softmax(self, z):\n",
    "        return np.exp(z)/(np.sum(np.exp(z)))\n",
    "    \n",
    "    def sigmoid(self, z):\n",
    "        return 1/(1+np.exp(-z))\n",
    "    \n",
    "    def sigmoidPrime(self, z):\n",
    "        return np.exp(-z)/(1+np.exp(-z))**2\n",
    "        \n",
    "    def forward(self, x):\n",
    "        \n",
    "        T = len(x)\n",
    "        \n",
    "        s = np.zeros((T+1, self.hiddenLayerSize)) # hidden states\n",
    "        # z, s, r, m, o = {}, {}, {}, {}, {}\n",
    "        s[-1] = np.zeros(self.hiddenLayerSize) \n",
    "        \n",
    "        m = np.zeros((T, self.hiddenLayerSize)) # candidates\n",
    "        r = np.zeros((T, self.hiddenLayerSize)) # gates to modulate how much from previous hidden state goes to new candidate\n",
    "        z = np.zeros((T, self.hiddenLayerSize)) # gates to modulate the interpolation between candidate and previous hidden state\n",
    "        \n",
    "        o = np.zeros((T, self.outputLayerSize)) # outputs\n",
    "        \n",
    "        # notons que x(t) est un one-hot-vector, qu'on peut remplacer par l'indice de sa valeur 1 --> x[t] = np.where((x[t]==1))\n",
    "        for t in np.arange(0, T):\n",
    "            z[t] = self.sigmoid(self.Uz[:,x[t]] + self.Wz.dot(s[t-1]) + self.bz)\n",
    "            r[t] = self.sigmoid(self.Ur[:,x[t]] + self.Wr.dot(s[t-1]) + self.br)\n",
    "            m[t] = np.tanh(self.Um[:,x[t]] + self.Wm.dot(np.multiply(s[t-1], r[t]))+ self.bm)\n",
    "            \n",
    "            s[t] = np.multiply((np.ones_like(z[t])-z[t]), m[t]) + np.multiply(z[t], s[t-1])\n",
    "            o[t] = self.softmax(self.V.dot(s[t]) + self.bo)\n",
    "            \n",
    "        return [o, s, m, r, z]\n",
    "            \n",
    "    def predict(self, x):\n",
    "        \n",
    "        # - x : une phrase\n",
    "        \n",
    "        o, s, m, r, z = self.forward(x)\n",
    "        \n",
    "        return np.argmax(o, axis = 1)\n",
    "    \n",
    "    def costFunction(self, x, y):\n",
    "        \n",
    "        # - x : les phrases sans le dernier mot\n",
    "        # - y : les phrases sans le premier mot\n",
    "\n",
    "        L = 0\n",
    "        N = np.sum((len(y_i) for y_i in y))\n",
    "        \n",
    "        for i in np.arange(len(x)): # pour chaque phrase\n",
    "            o, s, m, r, z = self.forward(x[i])\n",
    "            p = y[i]\n",
    "            L += -np.sum(np.log(o[np.arange(len(p)),p]))\n",
    "            \n",
    "        return L/N\n",
    "    \n",
    "    def computeGradient(self, x, y):\n",
    "    \n",
    "    # - x : une phrase sans le dernier mot\n",
    "    # - y : une phrase sans le premier mot\n",
    "    \n",
    "        o, s, m, r, z = self.forward(x)\n",
    "        \n",
    "        dLdUz, dLdWz = np.zeros(self.Uz.shape), np.zeros(self.Wz.shape)\n",
    "        dLdUr, dLdWr = np.zeros(self.Ur.shape), np.zeros(self.Wr.shape)\n",
    "        dLdUm, dLdWm = np.zeros(self.Um.shape), np.zeros(self.Wm.shape)\n",
    "        \n",
    "        dLdbr, dLdbm, dLdbz = np.zeros(self.br.shape), np.zeros(self.bm.shape), np.zeros(self.bz.shape)\n",
    "        \n",
    "        dLdV, dLdbo = np.zeros(self.V.shape), np.zeros(self.bo.shape)\n",
    "        \n",
    "        dsds = np.zeros(self.hiddenLayerSize)\n",
    "        dmds = np.zeros(self.hiddenLayerSize)\n",
    "        drds = np.zeros(self.hiddenLayerSize)\n",
    "        dzds = np.zeros(self.hiddenLayerSize)\n",
    "        \n",
    "        obis = np.zeros((len(y)+1, self.outputLayerSize))\n",
    "        zbis = np.zeros((len(y)+1, self.hiddenLayerSize))\n",
    "        rbis = np.zeros((len(y)+1, self.hiddenLayerSize))\n",
    "        \n",
    "        obis[:len(y),:] = o\n",
    "        zbis[:len(y),:] = z\n",
    "        rbis[:len(y),:] = r\n",
    "        \n",
    "        o = obis\n",
    "        z = zbis\n",
    "        r = rbis\n",
    "        \n",
    "        for t in np.arange(len(x))[::-1]:\n",
    "            \n",
    "            # x_t = np.array((np.arange(self.inputLayerSize)==x[t]), dtype = float)\n",
    "            # y_t = np.array((np.arange(self.inputLayerSize)==y[t]), dtype = float)\n",
    "            \n",
    "            x_t = np.identity(self.inputLayerSize)[:,x[t]]\n",
    "            y_t = np.identity(self.outputLayerSize)[:,y[t]]\n",
    "            \n",
    "            dLdV += np.outer((o[t]-y_t),s[t].T)\n",
    "            dLdbo += (o[t]-y_t)\n",
    "            \n",
    "            # somme des influences de st sur l'output\n",
    "            ds_t = (self.V.T.dot(o[t]-y_t) + dsds*z[t+1] + (r[t+1]*(self.Wm.T.dot(dmds))) + self.Wz.T.dot(dzds) + self.Wr.T.dot(drds))\n",
    "            \n",
    "            dm_t = (1-m[t]**2)*(1-z[t])*ds_t\n",
    "            dr_t = s[t-1]*(self.Wm.T.dot(dm_t))*r[t]*(1-r[t])\n",
    "            dz_t = ds_t*(-m[t]+s[t-1])*z[t]*(1-z[t])\n",
    "            \n",
    "            dLdWm += np.outer(dm_t, s[t-1]*r[t])\n",
    "            dLdWr += np.outer(dr_t, s[t-1])\n",
    "            dLdWz += np.outer(dz_t, s[t-1])\n",
    "            \n",
    "            dLdUm += np.outer(dm_t, x_t)\n",
    "            dLdUr += np.outer(dr_t, x_t)\n",
    "            dLdUz += np.outer(dz_t, x_t)\n",
    "            \n",
    "            dLdbm += dm_t\n",
    "            dLdbr += dr_t\n",
    "            dLdbz += dz_t\n",
    "            \n",
    "            dsds = ds_t\n",
    "            drds = dr_t\n",
    "            dzds = dz_t\n",
    "            dmds = dm_t\n",
    "  \n",
    "        return dLdV, dLdbo, dLdWm, dLdUm, dLdbm, dLdWr, dLdUr, dLdbr, dLdWz, dLdUz, dLdbz \n",
    "                    \n",
    "    def getParams(self):\n",
    "        # transform the Ws into vectors\n",
    "        params = np.concatenate((self.V.ravel(), self.bo.ravel(), \n",
    "                                 self.Wm.ravel(), self.Um.ravel(), self.bm.ravel(), \n",
    "                                 self.Wr.ravel(), self.Ur.ravel(), self.br.ravel(), \n",
    "                                 self.Wz.ravel(), self.Uz.ravel(), self.bz.ravel()))\n",
    "        return params\n",
    "    \n",
    "    def setParams(self, params):\n",
    "        # enables to replace the Ws by inputing vector of parameters\n",
    "        # transform parameter vectors into matrices\n",
    "        \n",
    "        _start = 0\n",
    "        _end = np.product(self.V.shape)\n",
    "        self.V = np.reshape(params[_start:_end], self.V.shape)\n",
    "\n",
    "        _start = _end\n",
    "        _end = _end + np.product(self.bo.shape)\n",
    "        self.bo = np.reshape(params[_start:_end], self.bo.shape)\n",
    "        \n",
    "        _start = _end\n",
    "        _end = _end + np.product(self.Wm.shape)\n",
    "        self.Wm = np.reshape(params[_start:_end], self.Wm.shape)\n",
    "        \n",
    "        _start = _end\n",
    "        _end = _end + np.product(self.Um.shape)\n",
    "        self.Um = np.reshape(params[_start:_end], self.Um.shape)\n",
    "        \n",
    "        _start = _end\n",
    "        _end = _end + np.product(self.bm.shape)\n",
    "        self.bm = np.reshape(params[_start:_end], self.bm.shape)\n",
    "        \n",
    "        _start = _end\n",
    "        _end = _end + np.product(self.Wr.shape)\n",
    "        self.Wr = np.reshape(params[_start:_end], self.Wr.shape)\n",
    "        \n",
    "        _start = _end\n",
    "        _end = _end + np.product(self.Ur.shape)\n",
    "        self.Ur = np.reshape(params[_start:_end], self.Ur.shape)\n",
    "        \n",
    "        _start = _end\n",
    "        _end = _end + np.product(self.br.shape)\n",
    "        self.br = np.reshape(params[_start:_end], self.br.shape)\n",
    "        \n",
    "        _start = _end\n",
    "        _end = _end + np.product(self.Wz.shape)\n",
    "        self.Wz = np.reshape(params[_start:_end], self.Wz.shape)\n",
    "        \n",
    "        _start = _end\n",
    "        _end = _end + np.product(self.Uz.shape)\n",
    "        self.Uz = np.reshape(params[_start:_end], self.Uz.shape)\n",
    "        \n",
    "        _start = _end\n",
    "        _end = _end + np.product(self.bz.shape)\n",
    "        self.bz = np.reshape(params[_start:_end], self.bz.shape)\n",
    "        \n",
    "        "
   ]
  },
  {
   "cell_type": "markdown",
   "metadata": {},
   "source": [
    "#### Tester le gradient"
   ]
  },
  {
   "cell_type": "code",
   "execution_count": 131,
   "metadata": {},
   "outputs": [
    {
     "name": "stdout",
     "output_type": "stream",
     "text": [
      "CPU times: user 497 µs, sys: 446 µs, total: 943 µs\n",
      "Wall time: 825 µs\n"
     ]
    }
   ],
   "source": [
    "%%time\n",
    "\n",
    "model = GRU(inputLayerSize=10, hiddenLayerSize = 10, outputLayerSize=10)\n",
    "x = [[0,1,2,3]]\n",
    "y = [[1,2,3,4]]\n",
    "\n",
    "#x=[X_train[0]]\n",
    "#y=[y_train[0]]"
   ]
  },
  {
   "cell_type": "code",
   "execution_count": 132,
   "metadata": {
    "scrolled": true
   },
   "outputs": [
    {
     "name": "stdout",
     "output_type": "stream",
     "text": [
      "CPU times: user 1.74 s, sys: 26.8 ms, total: 1.77 s\n",
      "Wall time: 1.8 s\n"
     ]
    }
   ],
   "source": [
    "%%time\n",
    "\n",
    "numgrad = computeNumericalGradient(model, x, y)"
   ]
  },
  {
   "cell_type": "code",
   "execution_count": 133,
   "metadata": {},
   "outputs": [],
   "source": [
    "dLdV, dLdbo, dLdWm, dLdUm, dLdbm, dLdWr, dLdUr, dLdbr, dLdWz, dLdUz, dLdbz = model.computeGradient(x[0], y[0])\n",
    "\n",
    "anagrad = np.concatenate((dLdV.ravel(),\n",
    "                                  dLdbo.ravel(),\n",
    "                                  dLdWm.ravel(), \n",
    "                                  dLdUm.ravel(),\n",
    "                                  dLdbm.ravel(),\n",
    "                                  dLdWr.ravel(), \n",
    "                                  dLdUr.ravel(),\n",
    "                                  dLdbr.ravel(),\n",
    "                                  dLdWz.ravel(), \n",
    "                                  dLdUz.ravel(),\n",
    "                                  dLdbz.ravel()))"
   ]
  },
  {
   "cell_type": "code",
   "execution_count": 134,
   "metadata": {},
   "outputs": [
    {
     "data": {
      "text/plain": [
       "1.0708794157930862e-08"
      ]
     },
     "execution_count": 134,
     "metadata": {},
     "output_type": "execute_result"
    }
   ],
   "source": [
    "c = numgrad[0]/anagrad[0]\n",
    "np.linalg.norm(numgrad-anagrad*c)/np.linalg.norm(numgrad+anagrad*c)\n"
   ]
  },
  {
   "cell_type": "markdown",
   "metadata": {},
   "source": [
    "### Training"
   ]
  },
  {
   "cell_type": "code",
   "execution_count": 135,
   "metadata": {},
   "outputs": [],
   "source": [
    "class train_gru(object):\n",
    "    \n",
    "    def __init__(self, GRU):\n",
    "        self.GRU = GRU\n",
    "        \n",
    "    def gradientDescentStep(self, x, y, learningRate):\n",
    "        \n",
    "        dLdV, dLdbo, dLdWm, dLdUm, dLdbm, dLdWr, dLdUr, dLdbr, dLdWz, dLdUz, dLdbz = self.GRU.computeGradient(x, y)\n",
    "        \n",
    "        anagrad = np.concatenate((dLdV.ravel(),\n",
    "                                  dLdbo.ravel(),\n",
    "                                  dLdWm.ravel(), \n",
    "                                  dLdUm.ravel(),\n",
    "                                  dLdbm.ravel(),\n",
    "                                  dLdWr.ravel(), \n",
    "                                  dLdUr.ravel(),\n",
    "                                  dLdbr.ravel(),\n",
    "                                  dLdWz.ravel(), \n",
    "                                  dLdUz.ravel(),\n",
    "                                  dLdbz.ravel()))\n",
    "        \n",
    "        params = self.GRU.getParams()\n",
    "        \n",
    "        self.GRU.setParams(params-learningRate*anagrad)\n",
    "        \n",
    "    \n",
    "    def iterateGDSteps(self, X_train, y_train, \n",
    "                       learningRate = 0.005, \n",
    "                       nepoch = 10, \n",
    "                       evaluateLossEvery =10):\n",
    "        losses = []\n",
    "        numExamples = 0\n",
    "        \n",
    "        for e in np.arange(nepoch):\n",
    "            if (e%(evaluateLossEvery-1)==0):\n",
    "                loss = self.GRU.costFunction(X_train, y_train)\n",
    "                losses.append({\"numExamples\": numExamples, \"loss\": loss})\n",
    "                if(len(losses)>1 and losses[-1]['loss']>losses[-2]['loss']):\n",
    "                    learningRate *= 0.5\n",
    "                \n",
    "            for i in np.random.randint(low = 0, high = len(y_train), size = 10):\n",
    "                self.gradientDescentStep(X_train[i], y_train[i], learningRate)\n",
    "                numExamples +=1\n",
    "                \n",
    "        return losses\n",
    "            "
   ]
  },
  {
   "cell_type": "code",
   "execution_count": 136,
   "metadata": {},
   "outputs": [],
   "source": [
    "model_gru = GRU(inputLayerSize=vocabulary_size, hiddenLayerSize= 100, outputLayerSize=vocabulary_size)\n",
    "T_gru = train_gru(model_gru)\n"
   ]
  },
  {
   "cell_type": "code",
   "execution_count": 137,
   "metadata": {},
   "outputs": [
    {
     "data": {
      "text/plain": [
       "[{'loss': 8.9873476912148629, 'numExamples': 0},\n",
       " {'loss': 6.7821928850739859, 'numExamples': 90}]"
      ]
     },
     "execution_count": 137,
     "metadata": {},
     "output_type": "execute_result"
    }
   ],
   "source": [
    "T_gru.iterateGDSteps(X_train[:100], y_train[:100])"
   ]
  },
  {
   "cell_type": "code",
   "execution_count": 138,
   "metadata": {},
   "outputs": [
    {
     "name": "stdout",
     "output_type": "stream",
     "text": [
      "6.58098294669\n"
     ]
    }
   ],
   "source": [
    "print(T_gru.GRU.costFunction(X_train[:100], y_train[:100]))"
   ]
  },
  {
   "cell_type": "markdown",
   "metadata": {
    "scrolled": false
   },
   "source": [
    "%%time\n",
    "\n",
    "for k in range(10):\n",
    "    print(k)\n",
    "    i = np.random.randint(low = 0, high = 20)\n",
    "    T_gru.gradientDescentStep(X_train[i], y_train[i], .001)"
   ]
  },
  {
   "cell_type": "code",
   "execution_count": 139,
   "metadata": {
    "scrolled": true
   },
   "outputs": [],
   "source": [
    "learnedLinksGRU = []\n",
    "\n",
    "for i, y in enumerate(y_train[:100]):\n",
    "    learnedLinksGRU.append((np.sum(T_gru.GRU.predict(X_train[i])==np.array(y_train[i])),len(y_train[i])))\n",
    "    "
   ]
  },
  {
   "cell_type": "code",
   "execution_count": 140,
   "metadata": {
    "scrolled": false
   },
   "outputs": [
    {
     "name": "stdout",
     "output_type": "stream",
     "text": [
      "RNN learning performance\n",
      "0     462\n",
      "1    7262\n",
      "dtype: int64\n",
      "BRNN learning performance\n",
      "0     447\n",
      "1    7262\n",
      "dtype: int64\n",
      "GRU learning performance\n",
      "0     545\n",
      "1    7262\n",
      "dtype: int64\n"
     ]
    }
   ],
   "source": [
    "print('RNN learning performance')\n",
    "print(pd.DataFrame(learnedLinksRNN).sum())\n",
    "\n",
    "print('BRNN learning performance')\n",
    "print(pd.DataFrame(learnedLinksBRNN).sum())\n",
    "\n",
    "print('GRU learning performance')\n",
    "print(pd.DataFrame(learnedLinksGRU).sum())"
   ]
  },
  {
   "cell_type": "code",
   "execution_count": 141,
   "metadata": {},
   "outputs": [],
   "source": [
    "X_test = X_train[-100:]\n",
    "y_test = y_train[-100:]\n",
    "\n",
    "predictedLinksGRU = []\n",
    "for i, y in enumerate(y_test[:100]):\n",
    "    predictedLinksGRU.append((np.sum(T_gru.GRU.predict(X_test[i])==np.array(y_test[i])),len(y_test[i])))\n",
    "    "
   ]
  },
  {
   "cell_type": "code",
   "execution_count": 142,
   "metadata": {},
   "outputs": [
    {
     "name": "stdout",
     "output_type": "stream",
     "text": [
      "RNN prediction performance\n",
      "0     275\n",
      "1    4938\n",
      "dtype: int64\n",
      "BRNN prediction performance\n",
      "0     321\n",
      "1    4938\n",
      "dtype: int64\n",
      "GRU prediction performance\n",
      "0     347\n",
      "1    4938\n",
      "dtype: int64\n"
     ]
    }
   ],
   "source": [
    "print('RNN prediction performance')\n",
    "print(pd.DataFrame(predictedLinksRNN).sum())\n",
    "\n",
    "print('BRNN prediction performance')\n",
    "print(pd.DataFrame(predictedLinksBRNN).sum())\n",
    "\n",
    "print('GRU prediction performance')\n",
    "print(pd.DataFrame(predictedLinksGRU).sum())"
   ]
  },
  {
   "cell_type": "code",
   "execution_count": 146,
   "metadata": {
    "scrolled": true
   },
   "outputs": [
    {
     "name": "stdout",
     "output_type": "stream",
     "text": [
      "8.96818160945\n",
      "6.70254539797\n",
      "6.58098294669\n"
     ]
    }
   ],
   "source": [
    "print(T_rnn.RNN.costFunction(X_train[:100], y_train[:100]))\n",
    "print(T_brnn.BRNN.costFunction(X_train[:100], y_train[:100]))\n",
    "print(T_gru.GRU.costFunction(X_train[:100], y_train[:100]))"
   ]
  },
  {
   "cell_type": "code",
   "execution_count": 147,
   "metadata": {},
   "outputs": [
    {
     "name": "stdout",
     "output_type": "stream",
     "text": [
      "8.97087111123\n"
     ]
    },
    {
     "ename": "KeyboardInterrupt",
     "evalue": "",
     "output_type": "error",
     "traceback": [
      "\u001b[0;31m---------------------------------------------------------------------------\u001b[0m",
      "\u001b[0;31mKeyboardInterrupt\u001b[0m                         Traceback (most recent call last)",
      "\u001b[0;32m<ipython-input-147-9784c83a7848>\u001b[0m in \u001b[0;36m<module>\u001b[0;34m()\u001b[0m\n\u001b[1;32m      1\u001b[0m \u001b[0mprint\u001b[0m\u001b[0;34m(\u001b[0m\u001b[0mT_rnn\u001b[0m\u001b[0;34m.\u001b[0m\u001b[0mRNN\u001b[0m\u001b[0;34m.\u001b[0m\u001b[0mcostFunction\u001b[0m\u001b[0;34m(\u001b[0m\u001b[0mX_train\u001b[0m\u001b[0;34m[\u001b[0m\u001b[0;34m:\u001b[0m\u001b[0;34m-\u001b[0m\u001b[0;36m100\u001b[0m\u001b[0;34m]\u001b[0m\u001b[0;34m,\u001b[0m \u001b[0my_train\u001b[0m\u001b[0;34m[\u001b[0m\u001b[0;34m:\u001b[0m\u001b[0;34m-\u001b[0m\u001b[0;36m100\u001b[0m\u001b[0;34m]\u001b[0m\u001b[0;34m)\u001b[0m\u001b[0;34m)\u001b[0m\u001b[0;34m\u001b[0m\u001b[0m\n\u001b[0;32m----> 2\u001b[0;31m \u001b[0mprint\u001b[0m\u001b[0;34m(\u001b[0m\u001b[0mT_brnn\u001b[0m\u001b[0;34m.\u001b[0m\u001b[0mBRNN\u001b[0m\u001b[0;34m.\u001b[0m\u001b[0mcostFunction\u001b[0m\u001b[0;34m(\u001b[0m\u001b[0mX_train\u001b[0m\u001b[0;34m[\u001b[0m\u001b[0;34m:\u001b[0m\u001b[0;34m-\u001b[0m\u001b[0;36m100\u001b[0m\u001b[0;34m]\u001b[0m\u001b[0;34m,\u001b[0m \u001b[0my_train\u001b[0m\u001b[0;34m[\u001b[0m\u001b[0;34m:\u001b[0m\u001b[0;34m-\u001b[0m\u001b[0;36m100\u001b[0m\u001b[0;34m]\u001b[0m\u001b[0;34m)\u001b[0m\u001b[0;34m)\u001b[0m\u001b[0;34m\u001b[0m\u001b[0m\n\u001b[0m\u001b[1;32m      3\u001b[0m \u001b[0mprint\u001b[0m\u001b[0;34m(\u001b[0m\u001b[0mT_gru\u001b[0m\u001b[0;34m.\u001b[0m\u001b[0mGRU\u001b[0m\u001b[0;34m.\u001b[0m\u001b[0mcostFunction\u001b[0m\u001b[0;34m(\u001b[0m\u001b[0mX_train\u001b[0m\u001b[0;34m[\u001b[0m\u001b[0;34m:\u001b[0m\u001b[0;34m-\u001b[0m\u001b[0;36m100\u001b[0m\u001b[0;34m]\u001b[0m\u001b[0;34m,\u001b[0m \u001b[0my_train\u001b[0m\u001b[0;34m[\u001b[0m\u001b[0;34m:\u001b[0m\u001b[0;34m-\u001b[0m\u001b[0;36m100\u001b[0m\u001b[0;34m]\u001b[0m\u001b[0;34m)\u001b[0m\u001b[0;34m)\u001b[0m\u001b[0;34m\u001b[0m\u001b[0m\n",
      "\u001b[0;32m<ipython-input-109-17536af7c495>\u001b[0m in \u001b[0;36mcostFunction\u001b[0;34m(self, x, y)\u001b[0m\n\u001b[1;32m     74\u001b[0m \u001b[0;34m\u001b[0m\u001b[0m\n\u001b[1;32m     75\u001b[0m         \u001b[0;32mfor\u001b[0m \u001b[0mi\u001b[0m \u001b[0;32min\u001b[0m \u001b[0mnp\u001b[0m\u001b[0;34m.\u001b[0m\u001b[0marange\u001b[0m\u001b[0;34m(\u001b[0m\u001b[0mlen\u001b[0m\u001b[0;34m(\u001b[0m\u001b[0mx\u001b[0m\u001b[0;34m)\u001b[0m\u001b[0;34m)\u001b[0m\u001b[0;34m:\u001b[0m \u001b[0;31m# pour chaque phrase\u001b[0m\u001b[0;34m\u001b[0m\u001b[0m\n\u001b[0;32m---> 76\u001b[0;31m             \u001b[0mo\u001b[0m\u001b[0;34m,\u001b[0m \u001b[0ms_up\u001b[0m\u001b[0;34m,\u001b[0m \u001b[0ms_down\u001b[0m \u001b[0;34m=\u001b[0m \u001b[0mself\u001b[0m\u001b[0;34m.\u001b[0m\u001b[0mforward\u001b[0m\u001b[0;34m(\u001b[0m\u001b[0mx\u001b[0m\u001b[0;34m[\u001b[0m\u001b[0mi\u001b[0m\u001b[0;34m]\u001b[0m\u001b[0;34m)\u001b[0m\u001b[0;34m\u001b[0m\u001b[0m\n\u001b[0m\u001b[1;32m     77\u001b[0m             \u001b[0mp\u001b[0m \u001b[0;34m=\u001b[0m \u001b[0my\u001b[0m\u001b[0;34m[\u001b[0m\u001b[0mi\u001b[0m\u001b[0;34m]\u001b[0m\u001b[0;34m\u001b[0m\u001b[0m\n\u001b[1;32m     78\u001b[0m             \u001b[0mL\u001b[0m \u001b[0;34m+=\u001b[0m \u001b[0;34m-\u001b[0m\u001b[0mnp\u001b[0m\u001b[0;34m.\u001b[0m\u001b[0msum\u001b[0m\u001b[0;34m(\u001b[0m\u001b[0mnp\u001b[0m\u001b[0;34m.\u001b[0m\u001b[0mlog\u001b[0m\u001b[0;34m(\u001b[0m\u001b[0mo\u001b[0m\u001b[0;34m[\u001b[0m\u001b[0mnp\u001b[0m\u001b[0;34m.\u001b[0m\u001b[0marange\u001b[0m\u001b[0;34m(\u001b[0m\u001b[0mlen\u001b[0m\u001b[0;34m(\u001b[0m\u001b[0mp\u001b[0m\u001b[0;34m)\u001b[0m\u001b[0;34m)\u001b[0m\u001b[0;34m,\u001b[0m\u001b[0mp\u001b[0m\u001b[0;34m]\u001b[0m\u001b[0;34m)\u001b[0m\u001b[0;34m)\u001b[0m\u001b[0;34m\u001b[0m\u001b[0m\n",
      "\u001b[0;32m<ipython-input-109-17536af7c495>\u001b[0m in \u001b[0;36mforward\u001b[0;34m(self, x)\u001b[0m\n\u001b[1;32m     51\u001b[0m         \u001b[0;32mfor\u001b[0m \u001b[0mt\u001b[0m \u001b[0;32min\u001b[0m \u001b[0mnp\u001b[0m\u001b[0;34m.\u001b[0m\u001b[0marange\u001b[0m\u001b[0;34m(\u001b[0m\u001b[0;36m0\u001b[0m\u001b[0;34m,\u001b[0m \u001b[0mT\u001b[0m\u001b[0;34m)\u001b[0m\u001b[0;34m:\u001b[0m\u001b[0;34m\u001b[0m\u001b[0m\n\u001b[1;32m     52\u001b[0m             o[t] = self.softmax(self.V_down.dot(s_down[t]) + \n\u001b[0;32m---> 53\u001b[0;31m                                 \u001b[0mself\u001b[0m\u001b[0;34m.\u001b[0m\u001b[0mV_up\u001b[0m\u001b[0;34m.\u001b[0m\u001b[0mdot\u001b[0m\u001b[0;34m(\u001b[0m\u001b[0ms_up\u001b[0m\u001b[0;34m[\u001b[0m\u001b[0mt\u001b[0m\u001b[0;34m]\u001b[0m\u001b[0;34m)\u001b[0m \u001b[0;34m+\u001b[0m\u001b[0;34m\u001b[0m\u001b[0m\n\u001b[0m\u001b[1;32m     54\u001b[0m                                 self.bo)\n\u001b[1;32m     55\u001b[0m \u001b[0;34m\u001b[0m\u001b[0m\n",
      "\u001b[0;31mKeyboardInterrupt\u001b[0m: "
     ]
    }
   ],
   "source": [
    "print(T_rnn.RNN.costFunction(X_train[:-100], y_train[:-100]))\n",
    "print(T_brnn.BRNN.costFunction(X_train[:-100], y_train[:-100]))\n",
    "print(T_gru.GRU.costFunction(X_train[:-100], y_train[:-100]))"
   ]
  }
 ],
 "metadata": {
  "anaconda-cloud": {},
  "kernelspec": {
   "display_name": "Python [default]",
   "language": "python",
   "name": "python3"
  },
  "language_info": {
   "codemirror_mode": {
    "name": "ipython",
    "version": 3
   },
   "file_extension": ".py",
   "mimetype": "text/x-python",
   "name": "python",
   "nbconvert_exporter": "python",
   "pygments_lexer": "ipython3",
   "version": "3.5.2"
  },
  "nbpresent": {
   "slides": {
    "00970e88-4f94-4cea-be7d-f149420b8471": {
     "id": "00970e88-4f94-4cea-be7d-f149420b8471",
     "prev": "84a07929-b944-46e8-a458-c1dda77fd788",
     "regions": {
      "ac0de38b-6c54-4f46-b6f5-0b9f69117f3a": {
       "attrs": {
        "height": 0.8,
        "width": 0.8,
        "x": 0.1,
        "y": 0.1
       },
       "content": {
        "cell": "7a3002b3-8acc-446b-909d-fd061b7a0fa3",
        "part": "whole"
       },
       "id": "ac0de38b-6c54-4f46-b6f5-0b9f69117f3a"
      }
     }
    },
    "00a3aae9-89b4-4fb3-8f12-04e3b4c11c5a": {
     "id": "00a3aae9-89b4-4fb3-8f12-04e3b4c11c5a",
     "prev": "e04c6d3b-055b-44a0-b280-f3749e263bf0",
     "regions": {
      "69e701d5-291b-471c-8e71-6d8804f3c326": {
       "attrs": {
        "height": 0.8,
        "width": 0.8,
        "x": 0.1,
        "y": 0.1
       },
       "content": {
        "cell": "477fccde-5ab4-41c4-865b-f20c6e6477db",
        "part": "whole"
       },
       "id": "69e701d5-291b-471c-8e71-6d8804f3c326"
      }
     }
    },
    "01ad89dd-a442-4c9f-82c9-3ef18672d652": {
     "id": "01ad89dd-a442-4c9f-82c9-3ef18672d652",
     "prev": "cdee9638-eea8-4ccd-92b1-b99404680738",
     "regions": {
      "6eb1a571-34ac-4cee-8318-8aa9a5b7d4f9": {
       "attrs": {
        "height": 0.8,
        "width": 0.8,
        "x": 0.1,
        "y": 0.1
       },
       "content": {
        "cell": "4f61da20-4677-4ecb-8b18-83bcdecd8162",
        "part": "whole"
       },
       "id": "6eb1a571-34ac-4cee-8318-8aa9a5b7d4f9"
      }
     }
    },
    "0226bc16-6c94-41fb-b544-ca85ba75027a": {
     "id": "0226bc16-6c94-41fb-b544-ca85ba75027a",
     "prev": "5c1832d9-6e8a-44f5-9e21-54c242d6c0a1",
     "regions": {
      "98fc9a2b-45cb-4643-a4b0-5e1e035d4d80": {
       "attrs": {
        "height": 0.8,
        "width": 0.8,
        "x": 0.1,
        "y": 0.1
       },
       "content": {
        "cell": "49d2c13f-42f7-4f20-afba-8f5109de68c6",
        "part": "whole"
       },
       "id": "98fc9a2b-45cb-4643-a4b0-5e1e035d4d80"
      }
     }
    },
    "05ef6ce3-66c2-4be4-ae55-a94ce03c4396": {
     "id": "05ef6ce3-66c2-4be4-ae55-a94ce03c4396",
     "prev": "478d3a73-9414-4924-8a3f-654775f4d493",
     "regions": {
      "b03d5f63-739a-424f-bfca-530c3c4587e7": {
       "attrs": {
        "height": 0.8,
        "width": 0.8,
        "x": 0.1,
        "y": 0.1
       },
       "content": {
        "cell": "1c3b06e0-afa5-479d-9a19-d4de2129eea2",
        "part": "whole"
       },
       "id": "b03d5f63-739a-424f-bfca-530c3c4587e7"
      }
     }
    },
    "083ef4cd-b126-4fb5-8cfe-99c0bee539ee": {
     "id": "083ef4cd-b126-4fb5-8cfe-99c0bee539ee",
     "prev": "939834b6-fec8-4019-8075-3b3e853f7367",
     "regions": {
      "30b9c035-6771-49be-a8b6-d62fb16eb29f": {
       "attrs": {
        "height": 0.8,
        "width": 0.8,
        "x": 0.1,
        "y": 0.1
       },
       "content": {
        "cell": "989b786a-6211-41b4-9e16-1f7c3483233d",
        "part": "whole"
       },
       "id": "30b9c035-6771-49be-a8b6-d62fb16eb29f"
      }
     }
    },
    "0bd3ef98-5927-4a69-89f8-ea936c8bf464": {
     "id": "0bd3ef98-5927-4a69-89f8-ea936c8bf464",
     "prev": "92b08c41-23c3-416c-8306-4ae9721e7dcb",
     "regions": {
      "da7cea3b-d71a-4191-bf31-fa9d2f58fc8b": {
       "attrs": {
        "height": 0.8,
        "width": 0.8,
        "x": 0.1,
        "y": 0.1
       },
       "content": {
        "cell": "600781a2-d70b-44fe-a547-0476dec70d3a",
        "part": "whole"
       },
       "id": "da7cea3b-d71a-4191-bf31-fa9d2f58fc8b"
      }
     }
    },
    "0eceb1bd-fcce-4a50-9298-578c2a71a806": {
     "id": "0eceb1bd-fcce-4a50-9298-578c2a71a806",
     "prev": "00970e88-4f94-4cea-be7d-f149420b8471",
     "regions": {
      "6f26e9d4-6d83-4d58-b7b2-d435f5e70f15": {
       "attrs": {
        "height": 0.8,
        "width": 0.8,
        "x": 0.1,
        "y": 0.1
       },
       "content": {
        "cell": "9fb37150-91eb-4a1f-be28-112417b252bf",
        "part": "whole"
       },
       "id": "6f26e9d4-6d83-4d58-b7b2-d435f5e70f15"
      }
     }
    },
    "0f814e2c-5184-4828-b7cb-0a0f2d65f9b8": {
     "id": "0f814e2c-5184-4828-b7cb-0a0f2d65f9b8",
     "prev": "12199d89-aaba-40e2-a0b7-4bced464ab45",
     "regions": {
      "6f1de4e9-c8fe-4725-8218-394b5c8fa90b": {
       "attrs": {
        "height": 0.8,
        "width": 0.8,
        "x": 0.1,
        "y": 0.1
       },
       "content": {
        "cell": "24fc8f21-5b5f-4319-82a3-39527887804d",
        "part": "whole"
       },
       "id": "6f1de4e9-c8fe-4725-8218-394b5c8fa90b"
      }
     }
    },
    "12199d89-aaba-40e2-a0b7-4bced464ab45": {
     "id": "12199d89-aaba-40e2-a0b7-4bced464ab45",
     "prev": "e4590e3f-d721-4438-a106-290181018558",
     "regions": {
      "a6a3284d-ed44-4ee9-adc6-c0e3d0510c95": {
       "attrs": {
        "height": 0.8,
        "width": 0.8,
        "x": 0.1,
        "y": 0.1
       },
       "content": {
        "cell": "2c4c5045-50c3-4226-bc47-1665a8f9130e",
        "part": "whole"
       },
       "id": "a6a3284d-ed44-4ee9-adc6-c0e3d0510c95"
      }
     }
    },
    "152584b4-15d2-4fc5-a4ba-9385157baab2": {
     "id": "152584b4-15d2-4fc5-a4ba-9385157baab2",
     "prev": "439ec439-dd68-47db-8098-111a2f40c0ed",
     "regions": {
      "4b73466d-cbc5-4f07-8f5d-1ec0468d6059": {
       "attrs": {
        "height": 0.8,
        "width": 0.8,
        "x": 0.1,
        "y": 0.1
       },
       "content": {
        "cell": "3bf6ebaa-e1b1-4ffb-bf26-d0a632fe4137",
        "part": "whole"
       },
       "id": "4b73466d-cbc5-4f07-8f5d-1ec0468d6059"
      }
     }
    },
    "1a3c8bd2-be0d-4705-a39e-6e48e85e57d7": {
     "id": "1a3c8bd2-be0d-4705-a39e-6e48e85e57d7",
     "prev": "5cf17c46-bce0-41e2-a658-b94a55570b72",
     "regions": {
      "64b61c06-d0ae-49af-8245-3a3acace407b": {
       "attrs": {
        "height": 0.8,
        "width": 0.8,
        "x": 0.1,
        "y": 0.1
       },
       "content": {
        "cell": "0e69ec96-b564-4ded-9612-b4aa649a32d4",
        "part": "whole"
       },
       "id": "64b61c06-d0ae-49af-8245-3a3acace407b"
      }
     }
    },
    "1a94211b-97b9-4b9b-87c1-19bbaece1faa": {
     "id": "1a94211b-97b9-4b9b-87c1-19bbaece1faa",
     "prev": "acefc849-81ab-4ff3-999d-64d3a0c22cd9",
     "regions": {
      "eff27225-1556-42ea-ac07-e90e40942954": {
       "attrs": {
        "height": 0.8,
        "width": 0.8,
        "x": 0.1,
        "y": 0.1
       },
       "content": {
        "cell": "a22773f2-15d8-4a43-9bad-cb9cb289013f",
        "part": "whole"
       },
       "id": "eff27225-1556-42ea-ac07-e90e40942954"
      }
     }
    },
    "229962dd-381f-44b7-b857-333e1ba4057a": {
     "id": "229962dd-381f-44b7-b857-333e1ba4057a",
     "prev": "763aeeb0-7313-49bf-b287-11e24bf42497",
     "regions": {
      "588fe6fe-b927-4a4d-b637-ced39d62e92a": {
       "attrs": {
        "height": 0.8,
        "width": 0.8,
        "x": 0.1,
        "y": 0.1
       },
       "content": {
        "cell": "1f85ca5d-6678-4b9a-9f45-bcd211b724f6",
        "part": "whole"
       },
       "id": "588fe6fe-b927-4a4d-b637-ced39d62e92a"
      }
     }
    },
    "257f9f2e-3adc-4e78-bbc8-13d7e10ac395": {
     "id": "257f9f2e-3adc-4e78-bbc8-13d7e10ac395",
     "prev": "e4436f3e-df2a-41a4-96e1-4fe6b508899b",
     "regions": {
      "85801cad-8481-4362-8d2e-ad134d129be2": {
       "attrs": {
        "height": 0.8,
        "width": 0.8,
        "x": 0.1,
        "y": 0.1
       },
       "content": {
        "cell": "2e4078db-16ab-4d75-911c-a369e07f65bd",
        "part": "whole"
       },
       "id": "85801cad-8481-4362-8d2e-ad134d129be2"
      }
     }
    },
    "29ba9739-8d0d-4579-af1d-4b086dccb78f": {
     "id": "29ba9739-8d0d-4579-af1d-4b086dccb78f",
     "prev": "0eceb1bd-fcce-4a50-9298-578c2a71a806",
     "regions": {
      "2c5c0190-bd9c-454d-91cb-d46b3b10404f": {
       "attrs": {
        "height": 0.8,
        "width": 0.8,
        "x": 0.1,
        "y": 0.1
       },
       "content": {
        "cell": "72a0e687-7a94-45ac-b28e-5a4afbb40cc6",
        "part": "whole"
       },
       "id": "2c5c0190-bd9c-454d-91cb-d46b3b10404f"
      }
     }
    },
    "2d73c5ed-b7f4-4b05-8bfd-f41a0c3ac727": {
     "id": "2d73c5ed-b7f4-4b05-8bfd-f41a0c3ac727",
     "prev": "7c9de461-9d4c-492c-9934-987c30bbf29c",
     "regions": {
      "1473961f-29bf-4591-972b-4680dc19f1ca": {
       "attrs": {
        "height": 0.8,
        "width": 0.8,
        "x": 0.1,
        "y": 0.1
       },
       "content": {
        "cell": "6aac1ead-ed7d-4035-8d58-622423368607",
        "part": "whole"
       },
       "id": "1473961f-29bf-4591-972b-4680dc19f1ca"
      }
     }
    },
    "33e9dab5-5809-4751-9453-747e49dba5e2": {
     "id": "33e9dab5-5809-4751-9453-747e49dba5e2",
     "prev": "46f7817e-eafa-4739-867c-44b8b81a4f5c",
     "regions": {
      "a4fabeb0-4294-4491-90ff-cb8caa4c9dd9": {
       "attrs": {
        "height": 0.8,
        "width": 0.8,
        "x": 0.1,
        "y": 0.1
       },
       "content": {
        "cell": "2e989527-09f0-4a72-a23e-4f7495b1453b",
        "part": "whole"
       },
       "id": "a4fabeb0-4294-4491-90ff-cb8caa4c9dd9"
      }
     }
    },
    "36652f02-c0bf-481a-ae4a-f86a659e0399": {
     "id": "36652f02-c0bf-481a-ae4a-f86a659e0399",
     "prev": "f164e6b1-5dee-43e6-a06e-dafa710b8f2c",
     "regions": {
      "91b3e79c-bf3f-4bf2-96d6-38b47db61c74": {
       "attrs": {
        "height": 0.8,
        "width": 0.8,
        "x": 0.1,
        "y": 0.1
       },
       "content": {
        "cell": "092312a2-94b8-4974-84d3-bb7050827918",
        "part": "whole"
       },
       "id": "91b3e79c-bf3f-4bf2-96d6-38b47db61c74"
      }
     }
    },
    "3b83a41e-482b-470c-94ca-8d0b3aa8b563": {
     "id": "3b83a41e-482b-470c-94ca-8d0b3aa8b563",
     "prev": "f72e17fe-2481-448e-8674-7f8a6e0eb02b",
     "regions": {
      "0e6747f1-a956-4c3a-8061-9f58f06b8ebb": {
       "attrs": {
        "height": 0.8,
        "width": 0.8,
        "x": 0.1,
        "y": 0.1
       },
       "content": {
        "cell": "b29b47d5-10b4-47f5-87bb-19a7650b36fb",
        "part": "whole"
       },
       "id": "0e6747f1-a956-4c3a-8061-9f58f06b8ebb"
      }
     }
    },
    "3ed97f9d-6090-47f5-a5c3-b053d5853af8": {
     "id": "3ed97f9d-6090-47f5-a5c3-b053d5853af8",
     "prev": "0f814e2c-5184-4828-b7cb-0a0f2d65f9b8",
     "regions": {
      "ce4eef0f-e1e5-40f4-8afe-4b31ef885599": {
       "attrs": {
        "height": 0.8,
        "width": 0.8,
        "x": 0.1,
        "y": 0.1
       },
       "content": {
        "cell": "dcd63a8f-7c9d-4a84-8592-13e8de4962c1",
        "part": "whole"
       },
       "id": "ce4eef0f-e1e5-40f4-8afe-4b31ef885599"
      }
     }
    },
    "3f098713-85a6-4114-846a-211b6c1351d2": {
     "id": "3f098713-85a6-4114-846a-211b6c1351d2",
     "prev": "f8317246-0eb0-4010-b069-871a885b2437",
     "regions": {
      "ce6366c7-476c-4b95-86f4-a5f1d27c0a4a": {
       "attrs": {
        "height": 0.8,
        "width": 0.8,
        "x": 0.1,
        "y": 0.1
       },
       "content": {
        "cell": "8e36e9bb-f735-4f9b-a263-5d2941b89504",
        "part": "whole"
       },
       "id": "ce6366c7-476c-4b95-86f4-a5f1d27c0a4a"
      }
     }
    },
    "439be4ca-624a-4395-aaff-bd9e4496c950": {
     "id": "439be4ca-624a-4395-aaff-bd9e4496c950",
     "prev": "083ef4cd-b126-4fb5-8cfe-99c0bee539ee",
     "regions": {
      "437a41d5-3cb7-4ac7-9346-89978bf6255b": {
       "attrs": {
        "height": 0.8,
        "width": 0.8,
        "x": 0.1,
        "y": 0.1
       },
       "content": {
        "cell": "f278c02c-f33c-4b96-be29-cfa12c7d8c66",
        "part": "whole"
       },
       "id": "437a41d5-3cb7-4ac7-9346-89978bf6255b"
      }
     }
    },
    "439ec439-dd68-47db-8098-111a2f40c0ed": {
     "id": "439ec439-dd68-47db-8098-111a2f40c0ed",
     "prev": "1a94211b-97b9-4b9b-87c1-19bbaece1faa",
     "regions": {
      "0e8486df-0fc5-4f46-9f89-a2bb45f79f97": {
       "attrs": {
        "height": 0.8,
        "width": 0.8,
        "x": 0.1,
        "y": 0.1
       },
       "content": {
        "cell": "7fbb8450-c07c-4c14-a641-8ead4470edf7",
        "part": "whole"
       },
       "id": "0e8486df-0fc5-4f46-9f89-a2bb45f79f97"
      }
     }
    },
    "458b2ef1-f08a-4d6c-8572-36436b6f4362": {
     "id": "458b2ef1-f08a-4d6c-8572-36436b6f4362",
     "prev": "8f6f3cc7-9b2b-4f9a-b726-077ce22f015c",
     "regions": {
      "c3b55900-d6aa-433b-87ba-cbf58c625d17": {
       "attrs": {
        "height": 0.8,
        "width": 0.8,
        "x": 0.1,
        "y": 0.1
       },
       "content": {
        "cell": "7a28e20a-064d-43f4-bddf-5bf5d7d5351b",
        "part": "whole"
       },
       "id": "c3b55900-d6aa-433b-87ba-cbf58c625d17"
      }
     }
    },
    "46f7817e-eafa-4739-867c-44b8b81a4f5c": {
     "id": "46f7817e-eafa-4739-867c-44b8b81a4f5c",
     "prev": "d7c4a8af-4198-46f5-8edc-3d3740af6c9e",
     "regions": {
      "545e1086-cb31-4da2-81c7-0b43544a945c": {
       "attrs": {
        "height": 0.8,
        "width": 0.8,
        "x": 0.1,
        "y": 0.1
       },
       "content": {
        "cell": "8ad1cff4-6dd5-43e5-b90b-111acae9f21d",
        "part": "whole"
       },
       "id": "545e1086-cb31-4da2-81c7-0b43544a945c"
      }
     }
    },
    "478d3a73-9414-4924-8a3f-654775f4d493": {
     "id": "478d3a73-9414-4924-8a3f-654775f4d493",
     "prev": "ca124307-63b7-4cf7-b2e7-4ff02555f923",
     "regions": {
      "c9cab8a8-311a-4c0d-adec-05976fd42311": {
       "attrs": {
        "height": 0.8,
        "width": 0.8,
        "x": 0.1,
        "y": 0.1
       },
       "content": {
        "cell": "86a73f6d-26c2-48d7-84a2-7bf93dddc1af",
        "part": "whole"
       },
       "id": "c9cab8a8-311a-4c0d-adec-05976fd42311"
      }
     }
    },
    "4b5955f4-c727-4c12-a1b4-afba405de197": {
     "id": "4b5955f4-c727-4c12-a1b4-afba405de197",
     "prev": "36652f02-c0bf-481a-ae4a-f86a659e0399",
     "regions": {
      "d68466ba-7484-435b-ba71-6ee9b93a5370": {
       "attrs": {
        "height": 0.8,
        "width": 0.8,
        "x": 0.1,
        "y": 0.1
       },
       "content": {
        "cell": "445d6b53-e168-44c9-bbc3-7b3862d8aba3",
        "part": "whole"
       },
       "id": "d68466ba-7484-435b-ba71-6ee9b93a5370"
      }
     }
    },
    "54838a2d-01d9-4f9b-9646-96d2dad32ee4": {
     "id": "54838a2d-01d9-4f9b-9646-96d2dad32ee4",
     "prev": "8e5d31fd-2a0b-4d6b-8777-c63d94284c7c",
     "regions": {
      "2129addd-cdee-4a77-afc1-651791bf1691": {
       "attrs": {
        "height": 0.8,
        "width": 0.8,
        "x": 0.1,
        "y": 0.1
       },
       "content": {
        "cell": "99cbc846-4d80-4b85-b2b1-204c90d70cc0",
        "part": "whole"
       },
       "id": "2129addd-cdee-4a77-afc1-651791bf1691"
      }
     }
    },
    "55bb0f9b-8a6b-4047-85fb-ce7b997a5450": {
     "id": "55bb0f9b-8a6b-4047-85fb-ce7b997a5450",
     "prev": "ee4a68d7-6016-407d-a241-755c07497cc1",
     "regions": {
      "a5ee85a5-6246-46d2-8509-15a0937887b3": {
       "attrs": {
        "height": 0.8,
        "width": 0.8,
        "x": 0.1,
        "y": 0.1
       },
       "content": {
        "cell": "5bebab51-d396-4873-b4a9-0708c9bf4777",
        "part": "whole"
       },
       "id": "a5ee85a5-6246-46d2-8509-15a0937887b3"
      }
     }
    },
    "56397661-1fe4-4e76-ab4e-5f9ec11ebe64": {
     "id": "56397661-1fe4-4e76-ab4e-5f9ec11ebe64",
     "prev": "d4d44a65-f5c7-42c3-824a-41aba3e875b3",
     "regions": {
      "bfffdebd-a433-4324-97b6-53fbed3ac319": {
       "attrs": {
        "height": 0.8,
        "width": 0.8,
        "x": 0.1,
        "y": 0.1
       },
       "content": {
        "cell": "2743a877-d472-4faf-b243-caa2d8fa6b8e",
        "part": "whole"
       },
       "id": "bfffdebd-a433-4324-97b6-53fbed3ac319"
      }
     }
    },
    "586e0909-a09f-4337-b9cf-0d16dad90da2": {
     "id": "586e0909-a09f-4337-b9cf-0d16dad90da2",
     "prev": "fd039565-4c4d-4ff9-9957-360f845e85a4",
     "regions": {
      "558a3504-60da-4121-b9e6-0e477cb9cd8b": {
       "attrs": {
        "height": 0.8,
        "width": 0.8,
        "x": 0.1,
        "y": 0.1
       },
       "content": {
        "cell": "285e27c7-cbcb-4bce-a4d9-13c7ebc9ea35",
        "part": "whole"
       },
       "id": "558a3504-60da-4121-b9e6-0e477cb9cd8b"
      }
     }
    },
    "5c1832d9-6e8a-44f5-9e21-54c242d6c0a1": {
     "id": "5c1832d9-6e8a-44f5-9e21-54c242d6c0a1",
     "prev": "8a272d61-3b24-4773-91db-32f39bdd209b",
     "regions": {
      "93d4b11c-da9d-4254-a8bb-cbd99932a257": {
       "attrs": {
        "height": 0.8,
        "width": 0.8,
        "x": 0.1,
        "y": 0.1
       },
       "content": {
        "cell": "e6dc42e8-fd0d-4d5b-8b6e-9fe4db7ed80a",
        "part": "whole"
       },
       "id": "93d4b11c-da9d-4254-a8bb-cbd99932a257"
      }
     }
    },
    "5cf17c46-bce0-41e2-a658-b94a55570b72": {
     "id": "5cf17c46-bce0-41e2-a658-b94a55570b72",
     "prev": "7a28cb36-dfb6-49de-bf74-a0a7af26f0cf",
     "regions": {
      "a97c5417-168b-46ba-85aa-5e19aa3be646": {
       "attrs": {
        "height": 0.8,
        "width": 0.8,
        "x": 0.1,
        "y": 0.1
       },
       "content": {
        "cell": "5c50a27f-c98c-470b-9b7b-0086fa40b080",
        "part": "whole"
       },
       "id": "a97c5417-168b-46ba-85aa-5e19aa3be646"
      }
     }
    },
    "653bc835-957b-4f85-82f3-98e8e28099c9": {
     "id": "653bc835-957b-4f85-82f3-98e8e28099c9",
     "prev": "f9e498ad-b612-45de-a6a3-96e889cd5452",
     "regions": {
      "0f1a7f27-35ff-47bb-a616-605f34ec271b": {
       "attrs": {
        "height": 0.8,
        "width": 0.8,
        "x": 0.1,
        "y": 0.1
       },
       "content": {
        "cell": "1339cd8a-858d-4768-b306-4281145743fc",
        "part": "whole"
       },
       "id": "0f1a7f27-35ff-47bb-a616-605f34ec271b"
      }
     }
    },
    "6c499313-95ce-4dc4-9adc-05d547464443": {
     "id": "6c499313-95ce-4dc4-9adc-05d547464443",
     "prev": "257f9f2e-3adc-4e78-bbc8-13d7e10ac395",
     "regions": {
      "1b2e7c94-3d51-4e09-8fe7-64274d52ff8b": {
       "attrs": {
        "height": 0.8,
        "width": 0.8,
        "x": 0.1,
        "y": 0.1
       },
       "content": {
        "cell": "b943567f-eea7-43d7-82f4-ab5b13c96b49",
        "part": "whole"
       },
       "id": "1b2e7c94-3d51-4e09-8fe7-64274d52ff8b"
      }
     }
    },
    "6f6bca14-1758-45fd-93fc-24e365b63205": {
     "id": "6f6bca14-1758-45fd-93fc-24e365b63205",
     "prev": "0bd3ef98-5927-4a69-89f8-ea936c8bf464",
     "regions": {
      "b5275073-4ca1-45d0-bbf5-dff625631dba": {
       "attrs": {
        "height": 0.8,
        "width": 0.8,
        "x": 0.1,
        "y": 0.1
       },
       "content": {
        "cell": "65cf9fcb-181e-4d82-a666-0b15ec920618",
        "part": "whole"
       },
       "id": "b5275073-4ca1-45d0-bbf5-dff625631dba"
      }
     }
    },
    "75460234-4e42-4d4e-9c4e-85e24dfe5ff0": {
     "id": "75460234-4e42-4d4e-9c4e-85e24dfe5ff0",
     "prev": "586e0909-a09f-4337-b9cf-0d16dad90da2",
     "regions": {
      "8492de91-0a8f-4359-9f5b-9fc2b5d6289e": {
       "attrs": {
        "height": 0.8,
        "width": 0.8,
        "x": 0.1,
        "y": 0.1
       },
       "content": {
        "cell": "adfcb33e-c9e0-4000-a07c-84183fa9ad5e",
        "part": "whole"
       },
       "id": "8492de91-0a8f-4359-9f5b-9fc2b5d6289e"
      }
     }
    },
    "763aeeb0-7313-49bf-b287-11e24bf42497": {
     "id": "763aeeb0-7313-49bf-b287-11e24bf42497",
     "prev": "75460234-4e42-4d4e-9c4e-85e24dfe5ff0",
     "regions": {
      "8cf84d82-f30d-4ab5-b3a3-58506ba5ef04": {
       "attrs": {
        "height": 0.8,
        "width": 0.8,
        "x": 0.1,
        "y": 0.1
       },
       "content": {
        "cell": "3b529603-f307-4e29-8635-69e9a6f81083",
        "part": "whole"
       },
       "id": "8cf84d82-f30d-4ab5-b3a3-58506ba5ef04"
      }
     }
    },
    "7a28cb36-dfb6-49de-bf74-a0a7af26f0cf": {
     "id": "7a28cb36-dfb6-49de-bf74-a0a7af26f0cf",
     "prev": "6f6bca14-1758-45fd-93fc-24e365b63205",
     "regions": {
      "fa41fec6-b91c-4f51-acb3-13c7e69a373b": {
       "attrs": {
        "height": 0.8,
        "width": 0.8,
        "x": 0.1,
        "y": 0.1
       },
       "content": {
        "cell": "f2ca1f8a-2a72-4299-ac9d-4caafbb40c88",
        "part": "whole"
       },
       "id": "fa41fec6-b91c-4f51-acb3-13c7e69a373b"
      }
     }
    },
    "7c9de461-9d4c-492c-9934-987c30bbf29c": {
     "id": "7c9de461-9d4c-492c-9934-987c30bbf29c",
     "prev": "54838a2d-01d9-4f9b-9646-96d2dad32ee4",
     "regions": {
      "4df052a4-1e93-4364-974b-24ac8089faa9": {
       "attrs": {
        "height": 0.8,
        "width": 0.8,
        "x": 0.1,
        "y": 0.1
       },
       "content": {
        "cell": "96f0b899-a9f7-442f-8c2c-9397a0d82adc",
        "part": "whole"
       },
       "id": "4df052a4-1e93-4364-974b-24ac8089faa9"
      }
     }
    },
    "7e4f81fb-33c7-4cfc-9405-670075c2f847": {
     "id": "7e4f81fb-33c7-4cfc-9405-670075c2f847",
     "prev": "895c8190-a2f0-42d5-9914-9de943d62351",
     "regions": {
      "659beb26-3db5-47b9-9d40-7fe3fb3af66a": {
       "attrs": {
        "height": 0.8,
        "width": 0.8,
        "x": 0.1,
        "y": 0.1
       },
       "content": {
        "cell": "8c0fc7ac-e50f-4cf2-9ae1-cb3cf88292dd",
        "part": "whole"
       },
       "id": "659beb26-3db5-47b9-9d40-7fe3fb3af66a"
      }
     }
    },
    "84a07929-b944-46e8-a458-c1dda77fd788": {
     "id": "84a07929-b944-46e8-a458-c1dda77fd788",
     "prev": "91915525-b8eb-4b8c-98d0-3642acc64bee",
     "regions": {
      "56853a76-1705-49fb-952d-074a873e80cb": {
       "attrs": {
        "height": 0.8,
        "width": 0.8,
        "x": 0.1,
        "y": 0.1
       },
       "content": {
        "cell": "610b0b79-e774-4da7-aa1e-eb81b5eb34c5",
        "part": "whole"
       },
       "id": "56853a76-1705-49fb-952d-074a873e80cb"
      }
     }
    },
    "8898fbc4-8aa2-4663-9575-d0ebc9e0525d": {
     "id": "8898fbc4-8aa2-4663-9575-d0ebc9e0525d",
     "prev": "e9651f1e-dac8-4c6a-97a9-088d3e60e503",
     "regions": {
      "df11547d-a098-4f52-94d9-edba9268aa4f": {
       "attrs": {
        "height": 0.8,
        "width": 0.8,
        "x": 0.1,
        "y": 0.1
       },
       "content": {
        "cell": "71bb2b8a-ec25-425e-bce9-d3704634a704",
        "part": "whole"
       },
       "id": "df11547d-a098-4f52-94d9-edba9268aa4f"
      }
     }
    },
    "895c8190-a2f0-42d5-9914-9de943d62351": {
     "id": "895c8190-a2f0-42d5-9914-9de943d62351",
     "prev": "439be4ca-624a-4395-aaff-bd9e4496c950",
     "regions": {
      "5415123b-2a49-47eb-a88f-9c9257b70b87": {
       "attrs": {
        "height": 0.8,
        "width": 0.8,
        "x": 0.1,
        "y": 0.1
       },
       "content": {
        "cell": "0290f70f-e985-4aee-bb2a-f5c9012ab836",
        "part": "whole"
       },
       "id": "5415123b-2a49-47eb-a88f-9c9257b70b87"
      }
     }
    },
    "8a272d61-3b24-4773-91db-32f39bdd209b": {
     "id": "8a272d61-3b24-4773-91db-32f39bdd209b",
     "prev": "e60699ec-4486-47e5-a7cf-74aad0f9601e",
     "regions": {
      "27239e9b-cef3-4e8d-a3b8-2df9bad7c8f3": {
       "attrs": {
        "height": 0.8,
        "width": 0.8,
        "x": 0.1,
        "y": 0.1
       },
       "content": {
        "cell": "7a3148e5-251a-485b-b941-e918e83b1dcd",
        "part": "whole"
       },
       "id": "27239e9b-cef3-4e8d-a3b8-2df9bad7c8f3"
      }
     }
    },
    "8e5d31fd-2a0b-4d6b-8777-c63d94284c7c": {
     "id": "8e5d31fd-2a0b-4d6b-8777-c63d94284c7c",
     "prev": "ea8d5e32-73ca-4225-8e69-7d16d5a19a38",
     "regions": {
      "1577f8c4-f055-47ae-b046-965d1151a9d6": {
       "attrs": {
        "height": 0.8,
        "width": 0.8,
        "x": 0.1,
        "y": 0.1
       },
       "content": {
        "cell": "773cd29b-4d3a-4bc9-bf7a-84a207101c8d",
        "part": "whole"
       },
       "id": "1577f8c4-f055-47ae-b046-965d1151a9d6"
      }
     }
    },
    "8f6f3cc7-9b2b-4f9a-b726-077ce22f015c": {
     "id": "8f6f3cc7-9b2b-4f9a-b726-077ce22f015c",
     "prev": "3f098713-85a6-4114-846a-211b6c1351d2",
     "regions": {
      "20bc25c2-823c-4c97-b197-bbe578df6a59": {
       "attrs": {
        "height": 0.8,
        "width": 0.8,
        "x": 0.1,
        "y": 0.1
       },
       "content": {
        "cell": "24b07ed0-a052-4547-a288-24016de02a05",
        "part": "whole"
       },
       "id": "20bc25c2-823c-4c97-b197-bbe578df6a59"
      }
     }
    },
    "8f821b86-adef-4108-8167-3096675c0cb0": {
     "id": "8f821b86-adef-4108-8167-3096675c0cb0",
     "prev": "9a3f556a-2a3c-4e5c-a90e-c7e9b7c8ce50",
     "regions": {
      "72bd3df5-a00f-4fbe-a36a-24d94f6deda0": {
       "attrs": {
        "height": 0.8,
        "width": 0.8,
        "x": 0.1,
        "y": 0.1
       },
       "content": {
        "cell": "7f456e78-4bd3-40f5-9d97-213520fd9d4f",
        "part": "whole"
       },
       "id": "72bd3df5-a00f-4fbe-a36a-24d94f6deda0"
      }
     }
    },
    "91915525-b8eb-4b8c-98d0-3642acc64bee": {
     "id": "91915525-b8eb-4b8c-98d0-3642acc64bee",
     "prev": "33e9dab5-5809-4751-9453-747e49dba5e2",
     "regions": {
      "2fc689dd-6b4d-4181-886c-d8c6001552b0": {
       "attrs": {
        "height": 0.8,
        "width": 0.8,
        "x": 0.1,
        "y": 0.1
       },
       "content": {
        "cell": "a3278ced-d9a8-4375-bb98-d2aad56b6efa",
        "part": "whole"
       },
       "id": "2fc689dd-6b4d-4181-886c-d8c6001552b0"
      }
     }
    },
    "92b08c41-23c3-416c-8306-4ae9721e7dcb": {
     "id": "92b08c41-23c3-416c-8306-4ae9721e7dcb",
     "prev": "29ba9739-8d0d-4579-af1d-4b086dccb78f",
     "regions": {
      "59ac199d-5239-4bc2-b987-7e871c802998": {
       "attrs": {
        "height": 0.8,
        "width": 0.8,
        "x": 0.1,
        "y": 0.1
       },
       "content": {
        "cell": "64f41ad0-14c3-41b5-9633-f187c5b1b81c",
        "part": "whole"
       },
       "id": "59ac199d-5239-4bc2-b987-7e871c802998"
      }
     }
    },
    "9336f9e0-32a1-4a7f-be8a-866022cf38cd": {
     "id": "9336f9e0-32a1-4a7f-be8a-866022cf38cd",
     "prev": "c1ece921-21b4-4b21-8177-59161f982dc8",
     "regions": {
      "148c4875-1b01-4eaf-a24a-b28817bd82b3": {
       "attrs": {
        "height": 0.8,
        "width": 0.8,
        "x": 0.1,
        "y": 0.1
       },
       "content": {
        "cell": "e5993566-f826-45d7-9c08-39cee3f6cde4",
        "part": "whole"
       },
       "id": "148c4875-1b01-4eaf-a24a-b28817bd82b3"
      }
     }
    },
    "939834b6-fec8-4019-8075-3b3e853f7367": {
     "id": "939834b6-fec8-4019-8075-3b3e853f7367",
     "prev": "a94ab29d-9ce6-4bde-aa70-7f119bdc62ef",
     "regions": {
      "7fb7e5eb-3c4d-4b13-98f4-ae08ccba10c1": {
       "attrs": {
        "height": 0.8,
        "width": 0.8,
        "x": 0.1,
        "y": 0.1
       },
       "content": {
        "cell": "da8d13da-5ff6-4684-be32-23e76e8e4b40",
        "part": "whole"
       },
       "id": "7fb7e5eb-3c4d-4b13-98f4-ae08ccba10c1"
      }
     }
    },
    "93c3164d-335c-47c7-b07e-df88f35073f8": {
     "id": "93c3164d-335c-47c7-b07e-df88f35073f8",
     "prev": "d594024d-d05a-402a-84de-3745aead9202",
     "regions": {
      "d44104be-67aa-4820-b0a5-fe4ef245ced9": {
       "attrs": {
        "height": 0.8,
        "width": 0.8,
        "x": 0.1,
        "y": 0.1
       },
       "content": {
        "cell": "ea22e5cb-3132-4fab-ab53-01294ee14f4d",
        "part": "whole"
       },
       "id": "d44104be-67aa-4820-b0a5-fe4ef245ced9"
      }
     }
    },
    "95a678e5-70d3-4d59-87dd-d95f057e88f8": {
     "id": "95a678e5-70d3-4d59-87dd-d95f057e88f8",
     "prev": "e7b67a96-0780-4ced-9a4c-cce7d5c730f3",
     "regions": {
      "60ddd1ba-1367-43ef-97c5-b5fde103ffc2": {
       "attrs": {
        "height": 0.8,
        "width": 0.8,
        "x": 0.1,
        "y": 0.1
       },
       "content": {
        "cell": "a8b5cac0-92d4-4a4b-86a7-6025f1552b6b",
        "part": "whole"
       },
       "id": "60ddd1ba-1367-43ef-97c5-b5fde103ffc2"
      }
     }
    },
    "98775bcc-456e-478c-89ca-96d16c83b681": {
     "id": "98775bcc-456e-478c-89ca-96d16c83b681",
     "prev": "6c499313-95ce-4dc4-9adc-05d547464443",
     "regions": {
      "ae69b3ac-5290-4207-acc6-699f62eecb0f": {
       "attrs": {
        "height": 0.8,
        "width": 0.8,
        "x": 0.1,
        "y": 0.1
       },
       "content": {
        "cell": "f1086b53-f526-4da0-bf5c-e55353a7222f",
        "part": "whole"
       },
       "id": "ae69b3ac-5290-4207-acc6-699f62eecb0f"
      }
     }
    },
    "9a3f556a-2a3c-4e5c-a90e-c7e9b7c8ce50": {
     "id": "9a3f556a-2a3c-4e5c-a90e-c7e9b7c8ce50",
     "prev": "653bc835-957b-4f85-82f3-98e8e28099c9",
     "regions": {
      "665d636e-3754-49b7-a494-4611c1d93612": {
       "attrs": {
        "height": 0.8,
        "width": 0.8,
        "x": 0.1,
        "y": 0.1
       },
       "content": {
        "cell": "80c82c81-1a92-4d10-8de6-3c30c37afce4",
        "part": "whole"
       },
       "id": "665d636e-3754-49b7-a494-4611c1d93612"
      }
     }
    },
    "a7592f18-c452-45e6-befe-72971bc8893c": {
     "id": "a7592f18-c452-45e6-befe-72971bc8893c",
     "prev": "2d73c5ed-b7f4-4b05-8bfd-f41a0c3ac727",
     "regions": {
      "2d152c4d-f762-4cfd-83d6-1bd92eb04fe8": {
       "attrs": {
        "height": 0.8,
        "width": 0.8,
        "x": 0.1,
        "y": 0.1
       },
       "content": {
        "cell": "2377ffeb-5887-478a-aaed-7449d7468139",
        "part": "whole"
       },
       "id": "2d152c4d-f762-4cfd-83d6-1bd92eb04fe8"
      }
     }
    },
    "a94ab29d-9ce6-4bde-aa70-7f119bdc62ef": {
     "id": "a94ab29d-9ce6-4bde-aa70-7f119bdc62ef",
     "prev": "98775bcc-456e-478c-89ca-96d16c83b681",
     "regions": {
      "7e67bb05-d051-4d5c-b260-3a6b49afb0e4": {
       "attrs": {
        "height": 0.8,
        "width": 0.8,
        "x": 0.1,
        "y": 0.1
       },
       "content": {
        "cell": "d06fa34d-b7f6-4b39-8237-9066df0a3101",
        "part": "whole"
       },
       "id": "7e67bb05-d051-4d5c-b260-3a6b49afb0e4"
      }
     }
    },
    "acefc849-81ab-4ff3-999d-64d3a0c22cd9": {
     "id": "acefc849-81ab-4ff3-999d-64d3a0c22cd9",
     "prev": "a7592f18-c452-45e6-befe-72971bc8893c",
     "regions": {
      "cb432a76-ffb3-45c0-92a4-db8f5a200b0a": {
       "attrs": {
        "height": 0.8,
        "width": 0.8,
        "x": 0.1,
        "y": 0.1
       },
       "content": {
        "cell": "560489ab-7b89-4546-ab8d-d1baee58f24e",
        "part": "whole"
       },
       "id": "cb432a76-ffb3-45c0-92a4-db8f5a200b0a"
      }
     }
    },
    "ad153221-0bbb-45f0-802b-29d1ee07b50f": {
     "id": "ad153221-0bbb-45f0-802b-29d1ee07b50f",
     "prev": "4b5955f4-c727-4c12-a1b4-afba405de197",
     "regions": {
      "1034355d-903c-4215-a4fd-e94ada5c869e": {
       "attrs": {
        "height": 0.8,
        "width": 0.8,
        "x": 0.1,
        "y": 0.1
       },
       "content": {
        "cell": "34ccfe9d-431e-4884-9e78-2b05df0c9ea4",
        "part": "whole"
       },
       "id": "1034355d-903c-4215-a4fd-e94ada5c869e"
      }
     }
    },
    "ad2ec97c-6ea4-4f78-9cbe-ecb9ee9076e1": {
     "id": "ad2ec97c-6ea4-4f78-9cbe-ecb9ee9076e1",
     "prev": "3ed97f9d-6090-47f5-a5c3-b053d5853af8",
     "regions": {
      "4eb7d409-3a27-431b-ad95-b46af18e9cb2": {
       "attrs": {
        "height": 0.8,
        "width": 0.8,
        "x": 0.1,
        "y": 0.1
       },
       "content": {
        "cell": "fb675550-6649-4fd1-8ae5-b2e6e6bd3df9",
        "part": "whole"
       },
       "id": "4eb7d409-3a27-431b-ad95-b46af18e9cb2"
      }
     }
    },
    "bc434ce8-d543-4061-bbaf-8b60fe1d2c2d": {
     "id": "bc434ce8-d543-4061-bbaf-8b60fe1d2c2d",
     "prev": "cc809c33-90b4-4ac5-94ca-8bd1074100d1",
     "regions": {
      "fc534354-72a3-4786-9d67-361dd6d7815f": {
       "attrs": {
        "height": 0.8,
        "width": 0.8,
        "x": 0.1,
        "y": 0.1
       },
       "content": {
        "cell": "ae0905a0-b6dd-4159-823f-af1200f5582d",
        "part": "whole"
       },
       "id": "fc534354-72a3-4786-9d67-361dd6d7815f"
      }
     }
    },
    "c1ece921-21b4-4b21-8177-59161f982dc8": {
     "id": "c1ece921-21b4-4b21-8177-59161f982dc8",
     "prev": "229962dd-381f-44b7-b857-333e1ba4057a",
     "regions": {
      "964bed00-93e7-49d0-ae37-6d4605bc0e4e": {
       "attrs": {
        "height": 0.8,
        "width": 0.8,
        "x": 0.1,
        "y": 0.1
       },
       "content": {
        "cell": "34c4789f-01db-4665-9641-0b6076769620",
        "part": "whole"
       },
       "id": "964bed00-93e7-49d0-ae37-6d4605bc0e4e"
      }
     }
    },
    "ca124307-63b7-4cf7-b2e7-4ff02555f923": {
     "id": "ca124307-63b7-4cf7-b2e7-4ff02555f923",
     "prev": "9336f9e0-32a1-4a7f-be8a-866022cf38cd",
     "regions": {
      "5c69c2a0-6bee-4129-b732-546e8bb4afce": {
       "attrs": {
        "height": 0.8,
        "width": 0.8,
        "x": 0.1,
        "y": 0.1
       },
       "content": {
        "cell": "bdd2bb0e-67c9-4917-8bc9-6f52777f345b",
        "part": "whole"
       },
       "id": "5c69c2a0-6bee-4129-b732-546e8bb4afce"
      }
     }
    },
    "cc809c33-90b4-4ac5-94ca-8bd1074100d1": {
     "id": "cc809c33-90b4-4ac5-94ca-8bd1074100d1",
     "prev": "3b83a41e-482b-470c-94ca-8d0b3aa8b563",
     "regions": {
      "44436e80-fd80-4bf6-b9c7-bd78a9878dc5": {
       "attrs": {
        "height": 0.8,
        "width": 0.8,
        "x": 0.1,
        "y": 0.1
       },
       "content": {
        "cell": "66f2d17a-06c2-4252-98ac-e3fc564d9daf",
        "part": "whole"
       },
       "id": "44436e80-fd80-4bf6-b9c7-bd78a9878dc5"
      }
     }
    },
    "cdee9638-eea8-4ccd-92b1-b99404680738": {
     "id": "cdee9638-eea8-4ccd-92b1-b99404680738",
     "prev": "f879a3be-cad5-4160-9a31-6071a6eecf10",
     "regions": {
      "1535ab67-55f1-4a82-9ae2-08af73a8526a": {
       "attrs": {
        "height": 0.8,
        "width": 0.8,
        "x": 0.1,
        "y": 0.1
       },
       "content": {
        "cell": "b6ddcd80-2115-4c4e-b4fd-0f2b9dff3e2c",
        "part": "whole"
       },
       "id": "1535ab67-55f1-4a82-9ae2-08af73a8526a"
      }
     }
    },
    "d4d44a65-f5c7-42c3-824a-41aba3e875b3": {
     "id": "d4d44a65-f5c7-42c3-824a-41aba3e875b3",
     "prev": "01ad89dd-a442-4c9f-82c9-3ef18672d652",
     "regions": {
      "b16addca-4905-4b1e-9a01-fd8ab7451cda": {
       "attrs": {
        "height": 0.8,
        "width": 0.8,
        "x": 0.1,
        "y": 0.1
       },
       "content": {
        "cell": "b15af553-6426-42de-84f0-6f1cf2670cc4",
        "part": "whole"
       },
       "id": "b16addca-4905-4b1e-9a01-fd8ab7451cda"
      }
     }
    },
    "d594024d-d05a-402a-84de-3745aead9202": {
     "id": "d594024d-d05a-402a-84de-3745aead9202",
     "prev": "ad2ec97c-6ea4-4f78-9cbe-ecb9ee9076e1",
     "regions": {
      "78fbee71-f733-45a8-b53e-7bb6b9ecb33f": {
       "attrs": {
        "height": 0.8,
        "width": 0.8,
        "x": 0.1,
        "y": 0.1
       },
       "content": {
        "cell": "7c87fc45-ac5e-47d8-8457-15de57b9fdf7",
        "part": "whole"
       },
       "id": "78fbee71-f733-45a8-b53e-7bb6b9ecb33f"
      }
     }
    },
    "d6caea1b-742e-45ed-82d0-a93c6ca5ed1b": {
     "id": "d6caea1b-742e-45ed-82d0-a93c6ca5ed1b",
     "prev": "00a3aae9-89b4-4fb3-8f12-04e3b4c11c5a",
     "regions": {
      "aafd36bb-c538-4d4f-81b3-7beae554f39e": {
       "attrs": {
        "height": 0.8,
        "width": 0.8,
        "x": 0.1,
        "y": 0.1
       },
       "content": {
        "cell": "3b403083-99bb-4c08-8078-58f8a5825e4a",
        "part": "whole"
       },
       "id": "aafd36bb-c538-4d4f-81b3-7beae554f39e"
      }
     }
    },
    "d7c4a8af-4198-46f5-8edc-3d3740af6c9e": {
     "id": "d7c4a8af-4198-46f5-8edc-3d3740af6c9e",
     "prev": "f0b9b02b-6d4e-42c9-b7d2-a0260cb52241",
     "regions": {
      "0dae27a2-83bb-4347-a29a-a01de38c1f8e": {
       "attrs": {
        "height": 0.8,
        "width": 0.8,
        "x": 0.1,
        "y": 0.1
       },
       "content": {
        "cell": "b9ffdf66-04cd-46eb-9346-d2b530ee5aae",
        "part": "whole"
       },
       "id": "0dae27a2-83bb-4347-a29a-a01de38c1f8e"
      }
     }
    },
    "d81f7016-48c6-4f79-8a9b-5b98e0c553db": {
     "id": "d81f7016-48c6-4f79-8a9b-5b98e0c553db",
     "prev": "95a678e5-70d3-4d59-87dd-d95f057e88f8",
     "regions": {
      "c49db2a6-d8f5-463a-b581-9fd3b97b71b0": {
       "attrs": {
        "height": 0.8,
        "width": 0.8,
        "x": 0.1,
        "y": 0.1
       },
       "content": {
        "cell": "3e14ffbe-c7ee-4ce3-a2b0-36c8c8273b7f",
        "part": "whole"
       },
       "id": "c49db2a6-d8f5-463a-b581-9fd3b97b71b0"
      }
     }
    },
    "e04c6d3b-055b-44a0-b280-f3749e263bf0": {
     "id": "e04c6d3b-055b-44a0-b280-f3749e263bf0",
     "prev": "8898fbc4-8aa2-4663-9575-d0ebc9e0525d",
     "regions": {
      "03977cc0-a127-4057-a351-c8d1bf4ed2ae": {
       "attrs": {
        "height": 0.8,
        "width": 0.8,
        "x": 0.1,
        "y": 0.1
       },
       "content": {
        "cell": "ab64fe8e-b32b-4ec5-8858-a6340f31620f",
        "part": "whole"
       },
       "id": "03977cc0-a127-4057-a351-c8d1bf4ed2ae"
      }
     }
    },
    "e4436f3e-df2a-41a4-96e1-4fe6b508899b": {
     "id": "e4436f3e-df2a-41a4-96e1-4fe6b508899b",
     "prev": "1a3c8bd2-be0d-4705-a39e-6e48e85e57d7",
     "regions": {
      "358e2a18-f1b4-48d7-83e2-912f7906cc81": {
       "attrs": {
        "height": 0.8,
        "width": 0.8,
        "x": 0.1,
        "y": 0.1
       },
       "content": {
        "cell": "24f4838c-19a2-4c0a-bcd2-2b089418da83",
        "part": "whole"
       },
       "id": "358e2a18-f1b4-48d7-83e2-912f7906cc81"
      }
     }
    },
    "e4590e3f-d721-4438-a106-290181018558": {
     "id": "e4590e3f-d721-4438-a106-290181018558",
     "prev": "152584b4-15d2-4fc5-a4ba-9385157baab2",
     "regions": {
      "8bc8667b-69ed-4801-bb12-8a085f426bff": {
       "attrs": {
        "height": 0.8,
        "width": 0.8,
        "x": 0.1,
        "y": 0.1
       },
       "content": {
        "cell": "039fb684-3339-4fc6-81b1-607a738608f4",
        "part": "whole"
       },
       "id": "8bc8667b-69ed-4801-bb12-8a085f426bff"
      }
     }
    },
    "e60699ec-4486-47e5-a7cf-74aad0f9601e": {
     "id": "e60699ec-4486-47e5-a7cf-74aad0f9601e",
     "prev": "05ef6ce3-66c2-4be4-ae55-a94ce03c4396",
     "regions": {
      "f3d57510-5232-48e5-86ec-a545a752d907": {
       "attrs": {
        "height": 0.8,
        "width": 0.8,
        "x": 0.1,
        "y": 0.1
       },
       "content": {
        "cell": "e4a063bd-746d-45ef-97f3-722bd41acd73",
        "part": "whole"
       },
       "id": "f3d57510-5232-48e5-86ec-a545a752d907"
      }
     }
    },
    "e7b67a96-0780-4ced-9a4c-cce7d5c730f3": {
     "id": "e7b67a96-0780-4ced-9a4c-cce7d5c730f3",
     "prev": "bc434ce8-d543-4061-bbaf-8b60fe1d2c2d",
     "regions": {
      "cd3d0a8f-b758-4b92-b5c3-109e19548408": {
       "attrs": {
        "height": 0.8,
        "width": 0.8,
        "x": 0.1,
        "y": 0.1
       },
       "content": {
        "cell": "39be1b86-8175-472e-bca9-6b44741f776a",
        "part": "whole"
       },
       "id": "cd3d0a8f-b758-4b92-b5c3-109e19548408"
      }
     }
    },
    "e9651f1e-dac8-4c6a-97a9-088d3e60e503": {
     "id": "e9651f1e-dac8-4c6a-97a9-088d3e60e503",
     "prev": "55bb0f9b-8a6b-4047-85fb-ce7b997a5450",
     "regions": {
      "014fbe06-11e3-4f87-aeca-5f4fafe36ec0": {
       "attrs": {
        "height": 0.8,
        "width": 0.8,
        "x": 0.1,
        "y": 0.1
       },
       "content": {
        "cell": "b98763e4-d979-4a6b-90f7-9d0b618346e0",
        "part": "whole"
       },
       "id": "014fbe06-11e3-4f87-aeca-5f4fafe36ec0"
      }
     }
    },
    "ea8d5e32-73ca-4225-8e69-7d16d5a19a38": {
     "id": "ea8d5e32-73ca-4225-8e69-7d16d5a19a38",
     "prev": "7e4f81fb-33c7-4cfc-9405-670075c2f847",
     "regions": {
      "89b7664f-d420-41c0-a466-6a713baa3df9": {
       "attrs": {
        "height": 0.8,
        "width": 0.8,
        "x": 0.1,
        "y": 0.1
       },
       "content": {
        "cell": "fcbe150b-335d-462f-ac8f-0b9ea932d6e8",
        "part": "whole"
       },
       "id": "89b7664f-d420-41c0-a466-6a713baa3df9"
      }
     }
    },
    "ee4a68d7-6016-407d-a241-755c07497cc1": {
     "id": "ee4a68d7-6016-407d-a241-755c07497cc1",
     "prev": "56397661-1fe4-4e76-ab4e-5f9ec11ebe64",
     "regions": {
      "5d542809-951f-4e63-8d08-9cc75ddb2c7c": {
       "attrs": {
        "height": 0.8,
        "width": 0.8,
        "x": 0.1,
        "y": 0.1
       },
       "content": {
        "cell": "3d69760d-957d-4898-b93c-95b18d69397c",
        "part": "whole"
       },
       "id": "5d542809-951f-4e63-8d08-9cc75ddb2c7c"
      }
     }
    },
    "f0b9b02b-6d4e-42c9-b7d2-a0260cb52241": {
     "id": "f0b9b02b-6d4e-42c9-b7d2-a0260cb52241",
     "prev": "d81f7016-48c6-4f79-8a9b-5b98e0c553db",
     "regions": {
      "2a2e66dd-4d5a-4aea-8b3c-9ef0ccd3df48": {
       "attrs": {
        "height": 0.8,
        "width": 0.8,
        "x": 0.1,
        "y": 0.1
       },
       "content": {
        "cell": "5a7c6783-e6e4-425c-b2fc-99a720cdbd09",
        "part": "whole"
       },
       "id": "2a2e66dd-4d5a-4aea-8b3c-9ef0ccd3df48"
      }
     }
    },
    "f164e6b1-5dee-43e6-a06e-dafa710b8f2c": {
     "id": "f164e6b1-5dee-43e6-a06e-dafa710b8f2c",
     "prev": null,
     "regions": {
      "cac3a4f3-c54b-4906-852e-d193a7e42057": {
       "attrs": {
        "height": 0.8,
        "width": 0.8,
        "x": 0.1,
        "y": 0.1
       },
       "content": {
        "cell": "4fc54aab-eda4-45d4-9f17-95744c6d11eb",
        "part": "whole"
       },
       "id": "cac3a4f3-c54b-4906-852e-d193a7e42057"
      }
     }
    },
    "f72e17fe-2481-448e-8674-7f8a6e0eb02b": {
     "id": "f72e17fe-2481-448e-8674-7f8a6e0eb02b",
     "prev": "ad153221-0bbb-45f0-802b-29d1ee07b50f",
     "regions": {
      "7d0a1fb7-afaa-4740-910d-c0e93e8b49b1": {
       "attrs": {
        "height": 0.8,
        "width": 0.8,
        "x": 0.1,
        "y": 0.1
       },
       "content": {
        "cell": "c13d4537-675e-4ba9-9ec2-d99305ae32a5",
        "part": "whole"
       },
       "id": "7d0a1fb7-afaa-4740-910d-c0e93e8b49b1"
      }
     }
    },
    "f8317246-0eb0-4010-b069-871a885b2437": {
     "id": "f8317246-0eb0-4010-b069-871a885b2437",
     "prev": "8f821b86-adef-4108-8167-3096675c0cb0",
     "regions": {
      "4d7dec24-dedc-461b-b0d2-10ab98f579a7": {
       "attrs": {
        "height": 0.8,
        "width": 0.8,
        "x": 0.1,
        "y": 0.1
       },
       "content": {
        "cell": "0a71fd5a-bdcd-407a-a6df-bf7562a0b130",
        "part": "whole"
       },
       "id": "4d7dec24-dedc-461b-b0d2-10ab98f579a7"
      }
     }
    },
    "f879a3be-cad5-4160-9a31-6071a6eecf10": {
     "id": "f879a3be-cad5-4160-9a31-6071a6eecf10",
     "prev": "93c3164d-335c-47c7-b07e-df88f35073f8",
     "regions": {
      "99bfbe0c-7ab0-42e7-a239-81956b1b9885": {
       "attrs": {
        "height": 0.8,
        "width": 0.8,
        "x": 0.1,
        "y": 0.1
       },
       "content": {
        "cell": "148fb9b5-513d-40a8-86b1-a633f634f1b3",
        "part": "whole"
       },
       "id": "99bfbe0c-7ab0-42e7-a239-81956b1b9885"
      }
     }
    },
    "f9e498ad-b612-45de-a6a3-96e889cd5452": {
     "id": "f9e498ad-b612-45de-a6a3-96e889cd5452",
     "prev": "fb24166a-7d6f-41b2-90e2-72c5986821b2",
     "regions": {
      "10846977-6091-4787-a94f-3dc82cd1b4c9": {
       "attrs": {
        "height": 0.8,
        "width": 0.8,
        "x": 0.1,
        "y": 0.1
       },
       "content": {
        "cell": "f0319071-165c-448e-ad3b-7903c427c3cb",
        "part": "whole"
       },
       "id": "10846977-6091-4787-a94f-3dc82cd1b4c9"
      }
     }
    },
    "fb24166a-7d6f-41b2-90e2-72c5986821b2": {
     "id": "fb24166a-7d6f-41b2-90e2-72c5986821b2",
     "prev": "0226bc16-6c94-41fb-b544-ca85ba75027a",
     "regions": {
      "165c1c52-0858-4f10-a28e-af502b0b45ed": {
       "attrs": {
        "height": 0.8,
        "width": 0.8,
        "x": 0.1,
        "y": 0.1
       },
       "content": {
        "cell": "8b4dc96b-5384-48f0-bb6b-45d380a1f063",
        "part": "whole"
       },
       "id": "165c1c52-0858-4f10-a28e-af502b0b45ed"
      }
     }
    },
    "fd039565-4c4d-4ff9-9957-360f845e85a4": {
     "id": "fd039565-4c4d-4ff9-9957-360f845e85a4",
     "prev": "d6caea1b-742e-45ed-82d0-a93c6ca5ed1b",
     "regions": {
      "54b3985d-31db-40d0-af50-7d1d170a0c7f": {
       "attrs": {
        "height": 0.8,
        "width": 0.8,
        "x": 0.1,
        "y": 0.1
       },
       "content": {
        "cell": "63529f97-245c-4c6c-9be2-c223e585b9af",
        "part": "whole"
       },
       "id": "54b3985d-31db-40d0-af50-7d1d170a0c7f"
      }
     }
    }
   },
   "themes": {}
  }
 },
 "nbformat": 4,
 "nbformat_minor": 2
}

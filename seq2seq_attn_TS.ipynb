{
 "cells": [
  {
   "cell_type": "code",
   "execution_count": 1,
   "metadata": {},
   "outputs": [],
   "source": [
    "from __future__ import unicode_literals, print_function, division\n",
    "from io import open\n",
    "import unicodedata\n",
    "import string\n",
    "import re\n",
    "import random\n",
    "import numpy as np\n",
    "\n",
    "import torch\n",
    "import torch.nn as nn\n",
    "import torch.nn.functional as F\n",
    "from torch.autograd import Variable\n",
    "from torch import optim\n",
    "\n",
    "import matplotlib.pyplot as plt\n",
    "\n",
    "use_cuda= torch.cuda.is_available\n",
    "\n",
    "%matplotlib inline\n"
   ]
  },
  {
   "cell_type": "markdown",
   "metadata": {},
   "source": [
    "### Objective:\n",
    "\n",
    "predict integer-valued time series data for prediction with seq2seq method, using artificial embedding associated with one-hot representation of the data.\n"
   ]
  },
  {
   "cell_type": "markdown",
   "metadata": {},
   "source": [
    "### Data kaggle"
   ]
  },
  {
   "cell_type": "code",
   "execution_count": 2,
   "metadata": {},
   "outputs": [
    {
     "name": "stderr",
     "output_type": "stream",
     "text": [
      "/Users/Doudou/anaconda/lib/python3.5/site-packages/statsmodels/compat/pandas.py:56: FutureWarning: The pandas.core.datetools module is deprecated and will be removed in a future version. Please use the pandas.tseries module instead.\n",
      "  from pandas.core import datetools\n"
     ]
    }
   ],
   "source": [
    "from datetime import datetime\n",
    "from sklearn.preprocessing import LabelEncoder\n",
    "import pandas as pd\n",
    "\n",
    "path = '/Users/Doudou/Documents/Scolarité/MASH/Kaggle/Recruiting holding'\n",
    "\n",
    "from pylab import rcParams\n",
    "from statsmodels.graphics.tsaplots import plot_acf\n",
    "\n",
    "def RMLSE(p,a):\n",
    "    x = np.sqrt(np.mean((np.log(p+1)-np.log(a+1))**2))\n",
    "    return x\n",
    "\n",
    "df_air_reserve = pd.read_csv(path+'/air_reserve.csv', parse_dates=['visit_datetime','reserve_datetime'], encoding='utf-8')\n",
    "df_air_store_info = pd.read_csv(path+'/air_store_info.csv', encoding='utf-8')\n",
    "df_air_visit_data = pd.read_csv(path+'/air_visit_data.csv', parse_dates=['visit_date'], encoding='utf-8')\n",
    "df_date_info = pd.read_csv(path+'/date_info.csv', parse_dates=['calendar_date'], encoding='utf-8')\n",
    "df_hpg_reserve = pd.read_csv(path+'/hpg_reserve.csv', parse_dates=['visit_datetime','reserve_datetime'], encoding='utf-8')\n",
    "df_hpg_store_info = pd.read_csv(path+'/hpg_store_info.csv', encoding='utf-8')\n",
    "df_sample_submission = pd.read_csv(path+'/sample_submission.csv', encoding='utf-8')\n",
    "df_store_id_relation = pd.read_csv(path+'/store_id_relation.csv', encoding='utf-8')\n"
   ]
  },
  {
   "cell_type": "code",
   "execution_count": 3,
   "metadata": {},
   "outputs": [],
   "source": [
    "df_sample_submission['air_store_id'] = df_sample_submission.id.apply(lambda d: str(d)[:-11])\n",
    "df_sample_submission['visit_date'] = df_sample_submission.id.apply(lambda d: str(d)[-10:])\n",
    "df_sample_submission.visit_date = pd.to_datetime(df_sample_submission.visit_date)\n"
   ]
  },
  {
   "cell_type": "code",
   "execution_count": 4,
   "metadata": {},
   "outputs": [],
   "source": [
    "df_air_visit_data = pd.concat((df_air_visit_data, df_sample_submission.drop('id', axis=1)))\n"
   ]
  },
  {
   "cell_type": "code",
   "execution_count": 5,
   "metadata": {},
   "outputs": [],
   "source": [
    "df_air_visit_data_save = df_air_visit_data.copy()\n"
   ]
  },
  {
   "cell_type": "markdown",
   "metadata": {},
   "source": [
    "### Treatment of data"
   ]
  },
  {
   "cell_type": "markdown",
   "metadata": {},
   "source": [
    "#### Only get recent dates"
   ]
  },
  {
   "cell_type": "code",
   "execution_count": 6,
   "metadata": {
    "scrolled": true
   },
   "outputs": [
    {
     "name": "stderr",
     "output_type": "stream",
     "text": [
      "/Users/Doudou/anaconda/lib/python3.5/site-packages/pandas/core/computation/expressions.py:183: UserWarning: evaluating in Python space because the '*' operator is not supported by numexpr for the bool dtype, use '&' instead\n",
      "  unsupported[op_str]))\n"
     ]
    }
   ],
   "source": [
    "df_air_visit_data = df_air_visit_data.loc[(df_air_visit_data.visit_date>datetime.strptime('2017-01-01', '%Y-%m-%d').date())*(df_air_visit_data.visit_date<=datetime.strptime('2017-04-22', '%Y-%m-%d').date())]\n"
   ]
  },
  {
   "cell_type": "markdown",
   "metadata": {},
   "source": [
    "#### Padding the missing/closing dates with zeros"
   ]
  },
  {
   "cell_type": "code",
   "execution_count": 7,
   "metadata": {},
   "outputs": [],
   "source": [
    "asis = np.unique(df_air_visit_data.air_store_id.values)\n",
    "idx = pd.date_range(df_air_visit_data.loc[df_air_visit_data.air_store_id==asis[0]].visit_date.min(), \n",
    "                    df_air_visit_data.loc[df_air_visit_data.air_store_id==asis[0]].visit_date.max())\n",
    "\n",
    "df_reindexed = df_air_visit_data.loc[df_air_visit_data.air_store_id==asis[0]].set_index(['visit_date']).reindex(idx, fill_value=0)\n",
    "df_reindexed.air_store_id = asis[0]\n",
    "\n",
    "for asi in asis[1:]:\n",
    "    idx = pd.date_range(df_air_visit_data.loc[df_air_visit_data.air_store_id==asi].visit_date.min(), \n",
    "                    df_air_visit_data.loc[df_air_visit_data.air_store_id==asi].visit_date.max())\n",
    "    df_temp = df_air_visit_data.loc[df_air_visit_data.air_store_id==asi].set_index(['visit_date']).reindex(idx, fill_value=0)\n",
    "    df_temp.air_store_id = asi\n",
    "    df_reindexed = pd.concat((df_reindexed, df_temp))\n"
   ]
  },
  {
   "cell_type": "code",
   "execution_count": 8,
   "metadata": {},
   "outputs": [
    {
     "name": "stdout",
     "output_type": "stream",
     "text": [
      "(88795, 3)\n"
     ]
    }
   ],
   "source": [
    "df_reindexed['visit_date'] = df_reindexed.index\n",
    "df_reindexed.reset_index(drop=True, inplace = True)\n",
    "print(df_reindexed.shape)\n"
   ]
  },
  {
   "cell_type": "code",
   "execution_count": 9,
   "metadata": {},
   "outputs": [],
   "source": [
    "df_air_visit_data = df_reindexed.copy()\n"
   ]
  },
  {
   "cell_type": "markdown",
   "metadata": {},
   "source": [
    "df_reindexed=df_air_visit_data.copy()"
   ]
  },
  {
   "cell_type": "code",
   "execution_count": 10,
   "metadata": {
    "scrolled": true
   },
   "outputs": [
    {
     "data": {
      "text/html": [
       "<div>\n",
       "<style>\n",
       "    .dataframe thead tr:only-child th {\n",
       "        text-align: right;\n",
       "    }\n",
       "\n",
       "    .dataframe thead th {\n",
       "        text-align: left;\n",
       "    }\n",
       "\n",
       "    .dataframe tbody tr th {\n",
       "        vertical-align: top;\n",
       "    }\n",
       "</style>\n",
       "<table border=\"1\" class=\"dataframe\">\n",
       "  <thead>\n",
       "    <tr style=\"text-align: right;\">\n",
       "      <th></th>\n",
       "      <th>air_store_id</th>\n",
       "      <th>visitors</th>\n",
       "      <th>visit_date</th>\n",
       "    </tr>\n",
       "  </thead>\n",
       "  <tbody>\n",
       "    <tr>\n",
       "      <th>0</th>\n",
       "      <td>air_00a91d42b08b08d9</td>\n",
       "      <td>17</td>\n",
       "      <td>2017-01-04</td>\n",
       "    </tr>\n",
       "    <tr>\n",
       "      <th>1</th>\n",
       "      <td>air_00a91d42b08b08d9</td>\n",
       "      <td>22</td>\n",
       "      <td>2017-01-05</td>\n",
       "    </tr>\n",
       "    <tr>\n",
       "      <th>2</th>\n",
       "      <td>air_00a91d42b08b08d9</td>\n",
       "      <td>36</td>\n",
       "      <td>2017-01-06</td>\n",
       "    </tr>\n",
       "    <tr>\n",
       "      <th>3</th>\n",
       "      <td>air_00a91d42b08b08d9</td>\n",
       "      <td>21</td>\n",
       "      <td>2017-01-07</td>\n",
       "    </tr>\n",
       "    <tr>\n",
       "      <th>4</th>\n",
       "      <td>air_00a91d42b08b08d9</td>\n",
       "      <td>0</td>\n",
       "      <td>2017-01-08</td>\n",
       "    </tr>\n",
       "    <tr>\n",
       "      <th>5</th>\n",
       "      <td>air_00a91d42b08b08d9</td>\n",
       "      <td>0</td>\n",
       "      <td>2017-01-09</td>\n",
       "    </tr>\n",
       "    <tr>\n",
       "      <th>6</th>\n",
       "      <td>air_00a91d42b08b08d9</td>\n",
       "      <td>37</td>\n",
       "      <td>2017-01-10</td>\n",
       "    </tr>\n",
       "    <tr>\n",
       "      <th>7</th>\n",
       "      <td>air_00a91d42b08b08d9</td>\n",
       "      <td>27</td>\n",
       "      <td>2017-01-11</td>\n",
       "    </tr>\n",
       "    <tr>\n",
       "      <th>8</th>\n",
       "      <td>air_00a91d42b08b08d9</td>\n",
       "      <td>15</td>\n",
       "      <td>2017-01-12</td>\n",
       "    </tr>\n",
       "    <tr>\n",
       "      <th>9</th>\n",
       "      <td>air_00a91d42b08b08d9</td>\n",
       "      <td>44</td>\n",
       "      <td>2017-01-13</td>\n",
       "    </tr>\n",
       "    <tr>\n",
       "      <th>10</th>\n",
       "      <td>air_00a91d42b08b08d9</td>\n",
       "      <td>17</td>\n",
       "      <td>2017-01-14</td>\n",
       "    </tr>\n",
       "    <tr>\n",
       "      <th>11</th>\n",
       "      <td>air_00a91d42b08b08d9</td>\n",
       "      <td>0</td>\n",
       "      <td>2017-01-15</td>\n",
       "    </tr>\n",
       "    <tr>\n",
       "      <th>12</th>\n",
       "      <td>air_00a91d42b08b08d9</td>\n",
       "      <td>20</td>\n",
       "      <td>2017-01-16</td>\n",
       "    </tr>\n",
       "    <tr>\n",
       "      <th>13</th>\n",
       "      <td>air_00a91d42b08b08d9</td>\n",
       "      <td>24</td>\n",
       "      <td>2017-01-17</td>\n",
       "    </tr>\n",
       "    <tr>\n",
       "      <th>14</th>\n",
       "      <td>air_00a91d42b08b08d9</td>\n",
       "      <td>37</td>\n",
       "      <td>2017-01-18</td>\n",
       "    </tr>\n",
       "    <tr>\n",
       "      <th>15</th>\n",
       "      <td>air_00a91d42b08b08d9</td>\n",
       "      <td>22</td>\n",
       "      <td>2017-01-19</td>\n",
       "    </tr>\n",
       "    <tr>\n",
       "      <th>16</th>\n",
       "      <td>air_00a91d42b08b08d9</td>\n",
       "      <td>46</td>\n",
       "      <td>2017-01-20</td>\n",
       "    </tr>\n",
       "    <tr>\n",
       "      <th>17</th>\n",
       "      <td>air_00a91d42b08b08d9</td>\n",
       "      <td>11</td>\n",
       "      <td>2017-01-21</td>\n",
       "    </tr>\n",
       "    <tr>\n",
       "      <th>18</th>\n",
       "      <td>air_00a91d42b08b08d9</td>\n",
       "      <td>0</td>\n",
       "      <td>2017-01-22</td>\n",
       "    </tr>\n",
       "    <tr>\n",
       "      <th>19</th>\n",
       "      <td>air_00a91d42b08b08d9</td>\n",
       "      <td>18</td>\n",
       "      <td>2017-01-23</td>\n",
       "    </tr>\n",
       "    <tr>\n",
       "      <th>20</th>\n",
       "      <td>air_00a91d42b08b08d9</td>\n",
       "      <td>29</td>\n",
       "      <td>2017-01-24</td>\n",
       "    </tr>\n",
       "    <tr>\n",
       "      <th>21</th>\n",
       "      <td>air_00a91d42b08b08d9</td>\n",
       "      <td>26</td>\n",
       "      <td>2017-01-25</td>\n",
       "    </tr>\n",
       "    <tr>\n",
       "      <th>22</th>\n",
       "      <td>air_00a91d42b08b08d9</td>\n",
       "      <td>36</td>\n",
       "      <td>2017-01-26</td>\n",
       "    </tr>\n",
       "    <tr>\n",
       "      <th>23</th>\n",
       "      <td>air_00a91d42b08b08d9</td>\n",
       "      <td>39</td>\n",
       "      <td>2017-01-27</td>\n",
       "    </tr>\n",
       "    <tr>\n",
       "      <th>24</th>\n",
       "      <td>air_00a91d42b08b08d9</td>\n",
       "      <td>7</td>\n",
       "      <td>2017-01-28</td>\n",
       "    </tr>\n",
       "    <tr>\n",
       "      <th>25</th>\n",
       "      <td>air_00a91d42b08b08d9</td>\n",
       "      <td>0</td>\n",
       "      <td>2017-01-29</td>\n",
       "    </tr>\n",
       "    <tr>\n",
       "      <th>26</th>\n",
       "      <td>air_00a91d42b08b08d9</td>\n",
       "      <td>16</td>\n",
       "      <td>2017-01-30</td>\n",
       "    </tr>\n",
       "    <tr>\n",
       "      <th>27</th>\n",
       "      <td>air_00a91d42b08b08d9</td>\n",
       "      <td>28</td>\n",
       "      <td>2017-01-31</td>\n",
       "    </tr>\n",
       "    <tr>\n",
       "      <th>28</th>\n",
       "      <td>air_00a91d42b08b08d9</td>\n",
       "      <td>27</td>\n",
       "      <td>2017-02-01</td>\n",
       "    </tr>\n",
       "    <tr>\n",
       "      <th>29</th>\n",
       "      <td>air_00a91d42b08b08d9</td>\n",
       "      <td>24</td>\n",
       "      <td>2017-02-02</td>\n",
       "    </tr>\n",
       "    <tr>\n",
       "      <th>...</th>\n",
       "      <td>...</td>\n",
       "      <td>...</td>\n",
       "      <td>...</td>\n",
       "    </tr>\n",
       "    <tr>\n",
       "      <th>88765</th>\n",
       "      <td>air_fff68b929994bfbd</td>\n",
       "      <td>8</td>\n",
       "      <td>2017-03-24</td>\n",
       "    </tr>\n",
       "    <tr>\n",
       "      <th>88766</th>\n",
       "      <td>air_fff68b929994bfbd</td>\n",
       "      <td>7</td>\n",
       "      <td>2017-03-25</td>\n",
       "    </tr>\n",
       "    <tr>\n",
       "      <th>88767</th>\n",
       "      <td>air_fff68b929994bfbd</td>\n",
       "      <td>3</td>\n",
       "      <td>2017-03-26</td>\n",
       "    </tr>\n",
       "    <tr>\n",
       "      <th>88768</th>\n",
       "      <td>air_fff68b929994bfbd</td>\n",
       "      <td>4</td>\n",
       "      <td>2017-03-27</td>\n",
       "    </tr>\n",
       "    <tr>\n",
       "      <th>88769</th>\n",
       "      <td>air_fff68b929994bfbd</td>\n",
       "      <td>9</td>\n",
       "      <td>2017-03-28</td>\n",
       "    </tr>\n",
       "    <tr>\n",
       "      <th>88770</th>\n",
       "      <td>air_fff68b929994bfbd</td>\n",
       "      <td>2</td>\n",
       "      <td>2017-03-29</td>\n",
       "    </tr>\n",
       "    <tr>\n",
       "      <th>88771</th>\n",
       "      <td>air_fff68b929994bfbd</td>\n",
       "      <td>5</td>\n",
       "      <td>2017-03-30</td>\n",
       "    </tr>\n",
       "    <tr>\n",
       "      <th>88772</th>\n",
       "      <td>air_fff68b929994bfbd</td>\n",
       "      <td>5</td>\n",
       "      <td>2017-03-31</td>\n",
       "    </tr>\n",
       "    <tr>\n",
       "      <th>88773</th>\n",
       "      <td>air_fff68b929994bfbd</td>\n",
       "      <td>9</td>\n",
       "      <td>2017-04-01</td>\n",
       "    </tr>\n",
       "    <tr>\n",
       "      <th>88774</th>\n",
       "      <td>air_fff68b929994bfbd</td>\n",
       "      <td>2</td>\n",
       "      <td>2017-04-02</td>\n",
       "    </tr>\n",
       "    <tr>\n",
       "      <th>88775</th>\n",
       "      <td>air_fff68b929994bfbd</td>\n",
       "      <td>2</td>\n",
       "      <td>2017-04-03</td>\n",
       "    </tr>\n",
       "    <tr>\n",
       "      <th>88776</th>\n",
       "      <td>air_fff68b929994bfbd</td>\n",
       "      <td>4</td>\n",
       "      <td>2017-04-04</td>\n",
       "    </tr>\n",
       "    <tr>\n",
       "      <th>88777</th>\n",
       "      <td>air_fff68b929994bfbd</td>\n",
       "      <td>6</td>\n",
       "      <td>2017-04-05</td>\n",
       "    </tr>\n",
       "    <tr>\n",
       "      <th>88778</th>\n",
       "      <td>air_fff68b929994bfbd</td>\n",
       "      <td>6</td>\n",
       "      <td>2017-04-06</td>\n",
       "    </tr>\n",
       "    <tr>\n",
       "      <th>88779</th>\n",
       "      <td>air_fff68b929994bfbd</td>\n",
       "      <td>9</td>\n",
       "      <td>2017-04-07</td>\n",
       "    </tr>\n",
       "    <tr>\n",
       "      <th>88780</th>\n",
       "      <td>air_fff68b929994bfbd</td>\n",
       "      <td>4</td>\n",
       "      <td>2017-04-08</td>\n",
       "    </tr>\n",
       "    <tr>\n",
       "      <th>88781</th>\n",
       "      <td>air_fff68b929994bfbd</td>\n",
       "      <td>5</td>\n",
       "      <td>2017-04-09</td>\n",
       "    </tr>\n",
       "    <tr>\n",
       "      <th>88782</th>\n",
       "      <td>air_fff68b929994bfbd</td>\n",
       "      <td>6</td>\n",
       "      <td>2017-04-10</td>\n",
       "    </tr>\n",
       "    <tr>\n",
       "      <th>88783</th>\n",
       "      <td>air_fff68b929994bfbd</td>\n",
       "      <td>1</td>\n",
       "      <td>2017-04-11</td>\n",
       "    </tr>\n",
       "    <tr>\n",
       "      <th>88784</th>\n",
       "      <td>air_fff68b929994bfbd</td>\n",
       "      <td>6</td>\n",
       "      <td>2017-04-12</td>\n",
       "    </tr>\n",
       "    <tr>\n",
       "      <th>88785</th>\n",
       "      <td>air_fff68b929994bfbd</td>\n",
       "      <td>1</td>\n",
       "      <td>2017-04-13</td>\n",
       "    </tr>\n",
       "    <tr>\n",
       "      <th>88786</th>\n",
       "      <td>air_fff68b929994bfbd</td>\n",
       "      <td>5</td>\n",
       "      <td>2017-04-14</td>\n",
       "    </tr>\n",
       "    <tr>\n",
       "      <th>88787</th>\n",
       "      <td>air_fff68b929994bfbd</td>\n",
       "      <td>7</td>\n",
       "      <td>2017-04-15</td>\n",
       "    </tr>\n",
       "    <tr>\n",
       "      <th>88788</th>\n",
       "      <td>air_fff68b929994bfbd</td>\n",
       "      <td>7</td>\n",
       "      <td>2017-04-16</td>\n",
       "    </tr>\n",
       "    <tr>\n",
       "      <th>88789</th>\n",
       "      <td>air_fff68b929994bfbd</td>\n",
       "      <td>3</td>\n",
       "      <td>2017-04-17</td>\n",
       "    </tr>\n",
       "    <tr>\n",
       "      <th>88790</th>\n",
       "      <td>air_fff68b929994bfbd</td>\n",
       "      <td>6</td>\n",
       "      <td>2017-04-18</td>\n",
       "    </tr>\n",
       "    <tr>\n",
       "      <th>88791</th>\n",
       "      <td>air_fff68b929994bfbd</td>\n",
       "      <td>2</td>\n",
       "      <td>2017-04-19</td>\n",
       "    </tr>\n",
       "    <tr>\n",
       "      <th>88792</th>\n",
       "      <td>air_fff68b929994bfbd</td>\n",
       "      <td>2</td>\n",
       "      <td>2017-04-20</td>\n",
       "    </tr>\n",
       "    <tr>\n",
       "      <th>88793</th>\n",
       "      <td>air_fff68b929994bfbd</td>\n",
       "      <td>4</td>\n",
       "      <td>2017-04-21</td>\n",
       "    </tr>\n",
       "    <tr>\n",
       "      <th>88794</th>\n",
       "      <td>air_fff68b929994bfbd</td>\n",
       "      <td>5</td>\n",
       "      <td>2017-04-22</td>\n",
       "    </tr>\n",
       "  </tbody>\n",
       "</table>\n",
       "<p>88795 rows × 3 columns</p>\n",
       "</div>"
      ],
      "text/plain": [
       "               air_store_id  visitors visit_date\n",
       "0      air_00a91d42b08b08d9        17 2017-01-04\n",
       "1      air_00a91d42b08b08d9        22 2017-01-05\n",
       "2      air_00a91d42b08b08d9        36 2017-01-06\n",
       "3      air_00a91d42b08b08d9        21 2017-01-07\n",
       "4      air_00a91d42b08b08d9         0 2017-01-08\n",
       "5      air_00a91d42b08b08d9         0 2017-01-09\n",
       "6      air_00a91d42b08b08d9        37 2017-01-10\n",
       "7      air_00a91d42b08b08d9        27 2017-01-11\n",
       "8      air_00a91d42b08b08d9        15 2017-01-12\n",
       "9      air_00a91d42b08b08d9        44 2017-01-13\n",
       "10     air_00a91d42b08b08d9        17 2017-01-14\n",
       "11     air_00a91d42b08b08d9         0 2017-01-15\n",
       "12     air_00a91d42b08b08d9        20 2017-01-16\n",
       "13     air_00a91d42b08b08d9        24 2017-01-17\n",
       "14     air_00a91d42b08b08d9        37 2017-01-18\n",
       "15     air_00a91d42b08b08d9        22 2017-01-19\n",
       "16     air_00a91d42b08b08d9        46 2017-01-20\n",
       "17     air_00a91d42b08b08d9        11 2017-01-21\n",
       "18     air_00a91d42b08b08d9         0 2017-01-22\n",
       "19     air_00a91d42b08b08d9        18 2017-01-23\n",
       "20     air_00a91d42b08b08d9        29 2017-01-24\n",
       "21     air_00a91d42b08b08d9        26 2017-01-25\n",
       "22     air_00a91d42b08b08d9        36 2017-01-26\n",
       "23     air_00a91d42b08b08d9        39 2017-01-27\n",
       "24     air_00a91d42b08b08d9         7 2017-01-28\n",
       "25     air_00a91d42b08b08d9         0 2017-01-29\n",
       "26     air_00a91d42b08b08d9        16 2017-01-30\n",
       "27     air_00a91d42b08b08d9        28 2017-01-31\n",
       "28     air_00a91d42b08b08d9        27 2017-02-01\n",
       "29     air_00a91d42b08b08d9        24 2017-02-02\n",
       "...                     ...       ...        ...\n",
       "88765  air_fff68b929994bfbd         8 2017-03-24\n",
       "88766  air_fff68b929994bfbd         7 2017-03-25\n",
       "88767  air_fff68b929994bfbd         3 2017-03-26\n",
       "88768  air_fff68b929994bfbd         4 2017-03-27\n",
       "88769  air_fff68b929994bfbd         9 2017-03-28\n",
       "88770  air_fff68b929994bfbd         2 2017-03-29\n",
       "88771  air_fff68b929994bfbd         5 2017-03-30\n",
       "88772  air_fff68b929994bfbd         5 2017-03-31\n",
       "88773  air_fff68b929994bfbd         9 2017-04-01\n",
       "88774  air_fff68b929994bfbd         2 2017-04-02\n",
       "88775  air_fff68b929994bfbd         2 2017-04-03\n",
       "88776  air_fff68b929994bfbd         4 2017-04-04\n",
       "88777  air_fff68b929994bfbd         6 2017-04-05\n",
       "88778  air_fff68b929994bfbd         6 2017-04-06\n",
       "88779  air_fff68b929994bfbd         9 2017-04-07\n",
       "88780  air_fff68b929994bfbd         4 2017-04-08\n",
       "88781  air_fff68b929994bfbd         5 2017-04-09\n",
       "88782  air_fff68b929994bfbd         6 2017-04-10\n",
       "88783  air_fff68b929994bfbd         1 2017-04-11\n",
       "88784  air_fff68b929994bfbd         6 2017-04-12\n",
       "88785  air_fff68b929994bfbd         1 2017-04-13\n",
       "88786  air_fff68b929994bfbd         5 2017-04-14\n",
       "88787  air_fff68b929994bfbd         7 2017-04-15\n",
       "88788  air_fff68b929994bfbd         7 2017-04-16\n",
       "88789  air_fff68b929994bfbd         3 2017-04-17\n",
       "88790  air_fff68b929994bfbd         6 2017-04-18\n",
       "88791  air_fff68b929994bfbd         2 2017-04-19\n",
       "88792  air_fff68b929994bfbd         2 2017-04-20\n",
       "88793  air_fff68b929994bfbd         4 2017-04-21\n",
       "88794  air_fff68b929994bfbd         5 2017-04-22\n",
       "\n",
       "[88795 rows x 3 columns]"
      ]
     },
     "execution_count": 10,
     "metadata": {},
     "output_type": "execute_result"
    }
   ],
   "source": [
    "df_reindexed"
   ]
  },
  {
   "cell_type": "markdown",
   "metadata": {},
   "source": [
    "df_reindexed.visitors = (df_reindexed.visitors-df_reindexed.visitors%5)/5"
   ]
  },
  {
   "cell_type": "code",
   "execution_count": 11,
   "metadata": {
    "scrolled": true
   },
   "outputs": [],
   "source": [
    "df_reindexed['visitors']=df_reindexed['visitors'].astype(int, copy=False)"
   ]
  },
  {
   "cell_type": "code",
   "execution_count": 324,
   "metadata": {},
   "outputs": [],
   "source": [
    "from sklearn.preprocessing import MinMaxScaler\n",
    "from sklearn.model_selection import train_test_split\n",
    "from keras.models import Sequential, Model\n",
    "from keras.layers import LSTM, Dense, Input\n",
    "from keras.utils import to_categorical\n",
    "\n",
    "win_X = 21\n",
    "win_y = 7\n",
    "\n",
    "SOS_token = int(df_reindexed.visitors.max()+1)\n",
    "EOS_token = int(df_reindexed.visitors.max()+2)\n",
    "\n",
    "ds = np.unique(df_reindexed.air_store_id.values)[:1]\n",
    "\n",
    "pairs_TS = []\n",
    "\n",
    "for asi in ds:\n",
    "    df_temp = df_reindexed.set_index(['air_store_id', 'visit_date']).loc[asi]\n",
    "    \n",
    "    pairs_one_TS = [(Variable(torch.LongTensor(np.expand_dims(np.insert(df_temp.iloc[i:i+win_X].values,win_X, EOS_token),\n",
    "                                                              axis=1)).view(-1,1)), \n",
    "                     Variable(torch.LongTensor(np.expand_dims(np.insert(df_temp.iloc[i+win_X:i+win_X+win_y].values,win_y, EOS_token),\n",
    "                                                              axis=1)).view(-1,1))) \n",
    "                    for i in np.arange(df_temp.shape[0]-win_X-win_y)]\n",
    "    \n",
    "    pairs_TS = pairs_TS + pairs_one_TS\n",
    "    "
   ]
  },
  {
   "cell_type": "code",
   "execution_count": 325,
   "metadata": {
    "scrolled": true
   },
   "outputs": [
    {
     "data": {
      "text/plain": [
       "(Variable containing:\n",
       "    17\n",
       "     0\n",
       "    20\n",
       "    24\n",
       "    37\n",
       "    22\n",
       "    46\n",
       "   879\n",
       " [torch.LongTensor of size 8x1], Variable containing:\n",
       "    11\n",
       "     0\n",
       "    18\n",
       "    29\n",
       "    26\n",
       "    36\n",
       "    39\n",
       "   879\n",
       " [torch.LongTensor of size 8x1])"
      ]
     },
     "execution_count": 325,
     "metadata": {},
     "output_type": "execute_result"
    }
   ],
   "source": [
    "pairs_TS[10]"
   ]
  },
  {
   "cell_type": "markdown",
   "metadata": {},
   "source": [
    "### Training with traditionnal decoder"
   ]
  },
  {
   "cell_type": "markdown",
   "metadata": {},
   "source": [
    "### Encoder-decoder structure"
   ]
  },
  {
   "cell_type": "code",
   "execution_count": 326,
   "metadata": {},
   "outputs": [],
   "source": [
    "class EncoderRNN(nn.Module): #nn.Module = base class for all NN modules --> each model subclass this class\n",
    "    \n",
    "    def __init__(self, input_size, hidden_size, n_layers=1):\n",
    "        super().__init__()\n",
    "        self.n_layers = n_layers\n",
    "        self.hidden_size = hidden_size\n",
    "        self.embedding=nn.Embedding(input_size, hidden_size) # lookup table that stores embedding of fixed dictionary\n",
    "        # input_size is the number of variable to embed\n",
    "        # hidden_size is the number of dimensions for each embedding\n",
    "        self.gru=nn.GRU(hidden_size, hidden_size)\n",
    "        \n",
    "    def forward(self, input, hidden):\n",
    "        embedded = self.embedding(input).view(1,1,-1) # view(shape) returns self tensors data with a different shape\n",
    "        output = embedded\n",
    "        for i in np.arange(self.n_layers):\n",
    "            output, hidden = self.gru(output, hidden)\n",
    "        return output, hidden\n",
    "            \n",
    "    def initHidden(self):\n",
    "        result=Variable(torch.zeros(1,1,self.hidden_size)) # creates a tensor of zeros, compatible with automatic gradient computing\n",
    "        return result\n",
    "        "
   ]
  },
  {
   "cell_type": "code",
   "execution_count": 327,
   "metadata": {},
   "outputs": [],
   "source": [
    "class DecoderRNN(nn.Module):\n",
    "    def __init__(self, hidden_size, output_size, n_layers=1):\n",
    "        super().__init__()\n",
    "        self.n_layers = n_layers\n",
    "        self.hidden_size = hidden_size\n",
    "        self.embedding=nn.Embedding(output_size, hidden_size)\n",
    "        self.gru=nn.GRU(hidden_size, hidden_size)\n",
    "        self.out=nn.Linear(hidden_size, output_size)\n",
    "        self.softmax=nn.LogSoftmax(dim=1)\n",
    "        \n",
    "    def forward(self, input, hidden):\n",
    "        output=self.embedding(input).view(1,1,-1)\n",
    "        for i in np.arange(self.n_layers):\n",
    "            output=F.relu(output)\n",
    "            output, hidden=self.gru(output, hidden)\n",
    "        output=self.softmax(self.out(output[0]))\n",
    "        return output, hidden\n",
    "        \n",
    "    def initHidden(self):\n",
    "        result=Variable(torch.zeros(1,1,self.hidden_size))\n",
    "        return result\n",
    "    "
   ]
  },
  {
   "cell_type": "code",
   "execution_count": 328,
   "metadata": {},
   "outputs": [],
   "source": [
    "n_iters = 10000\n",
    "learning_rate=0.01\n",
    "teacher_forcing_ratio=0.2\n",
    "\n",
    "training_pairs=[random.choice(pairs_TS[:-10]) for i in np.arange(n_iters)]\n",
    "\n",
    "hidden_size = 256\n",
    "MAX_LENGTH = training_pairs[0][0].shape[0]\n",
    "\n",
    "encoder1=EncoderRNN(EOS_token+1, hidden_size)\n",
    "decoder1=DecoderRNN(hidden_size, EOS_token+1)\n",
    "use_cuda=False\n",
    "\n",
    "encoder_optimizer=optim.SGD(encoder1.parameters(), lr=learning_rate)\n",
    "decoder_optimizer=optim.SGD(decoder1.parameters(), lr=learning_rate)\n",
    "\n",
    "criterion=nn.CrossEntropyLoss()\n"
   ]
  },
  {
   "cell_type": "code",
   "execution_count": 329,
   "metadata": {},
   "outputs": [],
   "source": [
    "total_loss = []\n",
    "\n",
    "for i in np.arange(n_iters):\n",
    "\n",
    "    encoder_hidden = encoder1.initHidden()\n",
    "\n",
    "    encoder_optimizer.zero_grad()\n",
    "    decoder_optimizer.zero_grad()\n",
    "\n",
    "    input_variable = training_pairs[i][0]\n",
    "    target_variable = training_pairs[i][1]\n",
    "    \n",
    "    input_length = input_variable.size()[0]\n",
    "    target_length = target_variable.size()[0]\n",
    "\n",
    "    encoder_outputs = Variable(torch.zeros(MAX_LENGTH, encoder1.hidden_size))\n",
    "\n",
    "    loss=0\n",
    "\n",
    "    for ei in np.arange(input_length):\n",
    "        encoder_output, encoder_hidden = encoder1(input_variable[ei], encoder_hidden)\n",
    "        encoder_outputs[ei] = encoder_output[0][0]\n",
    "\n",
    "\n",
    "    #decoder_input=Variable(torch.LongTensor([[int(input_variable[ei-1].data[0])]]))\n",
    "    decoder_input=Variable(torch.LongTensor([[SOS_token]]))\n",
    "\n",
    "    decoder_hidden = encoder_hidden\n",
    "\n",
    "    use_teacher_forcing = True if random.random() < teacher_forcing_ratio else False\n",
    "\n",
    "    if use_teacher_forcing:\n",
    "        for di in np.arange(target_length):\n",
    "            decoder_output, decoder_hidden=decoder1(decoder_input, decoder_hidden)\n",
    "            loss+=criterion(decoder_output, target_variable[di])\n",
    "            decoder_input=target_variable[di]\n",
    "\n",
    "    else:\n",
    "        for di in np.arange(target_length):\n",
    "            decoder_output, decoder_hidden=decoder1(decoder_input, decoder_hidden)\n",
    "\n",
    "            # we want to extract the best prediction (highest softmax-estimated probability value, see DecoderRNN.forward function)\n",
    "            # we then select the index related to the highest NLLL\n",
    "            top_value, top_index = decoder_output.data.topk(1)\n",
    "\n",
    "            #decoder_input=Variable(torch.LongTensor([[SOS_token]]))\n",
    "            decoder_input=Variable(torch.LongTensor([[top_index[0][0]]]))\n",
    "\n",
    "            loss+=criterion(decoder_output, target_variable[di])\n",
    "\n",
    "            if top_index[0][0]==EOS_token:\n",
    "                break\n",
    "\n",
    "    loss.backward()\n",
    "\n",
    "    encoder_optimizer.step()\n",
    "    decoder_optimizer.step()\n",
    "\n",
    "    total_loss.append(loss.data[0]/target_length)\n"
   ]
  },
  {
   "cell_type": "code",
   "execution_count": 330,
   "metadata": {
    "scrolled": true
   },
   "outputs": [
    {
     "data": {
      "text/plain": [
       "[<matplotlib.lines.Line2D at 0x1c22fd6630>]"
      ]
     },
     "execution_count": 330,
     "metadata": {},
     "output_type": "execute_result"
    },
    {
     "data": {
      "image/png": "[encoded data removed]",
      "text/plain": [
       "<matplotlib.figure.Figure at 0x1c19961f28>"
      ]
     },
     "metadata": {},
     "output_type": "display_data"
    }
   ],
   "source": [
    "plt.plot(total_loss)\n"
   ]
  },
  {
   "cell_type": "markdown",
   "metadata": {},
   "source": [
    "### Evaluation"
   ]
  },
  {
   "cell_type": "code",
   "execution_count": 331,
   "metadata": {},
   "outputs": [],
   "source": [
    "n_tests = 10\n",
    "testing_pairs=[random.choice(pairs_TS[-10:]) for i in range(n_tests)]\n"
   ]
  },
  {
   "cell_type": "code",
   "execution_count": 332,
   "metadata": {
    "scrolled": true
   },
   "outputs": [],
   "source": [
    "#input_variable = variableFromSentence(input_lang, 'je suis institutrice .')\n",
    "decoder_sentences = []\n",
    "\n",
    "for tp in testing_pairs:\n",
    "    input_variable = tp[0]\n",
    "    input_length = input_variable.size()[0]\n",
    "    encoder_hidden=encoder1.initHidden()\n",
    "\n",
    "    encoder_outputs = Variable(torch.zeros(MAX_LENGTH, encoder1.hidden_size))\n",
    "\n",
    "    for ei in np.arange(input_length):\n",
    "        encoder_output, encoder_hidden = encoder1(input_variable[ei], encoder_hidden)\n",
    "        encoder_outputs[ei] = encoder_output[0][0]+encoder_outputs[ei]\n",
    "\n",
    "    decoder_input = Variable(torch.LongTensor([[int(SOS_token)]]))\n",
    "\n",
    "    decoder_hidden = encoder_hidden\n",
    "\n",
    "    decoded_words=[]\n",
    "\n",
    "    for di in np.arange(win_y):\n",
    "        decoder_output, decoder_hidden=decoder1(decoder_input, decoder_hidden)\n",
    "        top_value, top_index = decoder_output.data.topk(1)\n",
    "\n",
    "        decoded_words.append(top_index[0][0])\n",
    "\n",
    "        decoder_input = Variable(torch.LongTensor([[top_index[0][0]]]))\n",
    "    \n",
    "    decoder_sentences.append(decoded_words+[EOS_token])\n",
    "    "
   ]
  },
  {
   "cell_type": "code",
   "execution_count": 333,
   "metadata": {},
   "outputs": [
    {
     "data": {
      "text/plain": [
       "[[38, 39, 37, 4, 0, 0, 28, 879],\n",
       " [18, 0, 15, 36, 33, 40, 28, 879],\n",
       " [18, 31, 28, 42, 39, 37, 4, 879],\n",
       " [35, 29, 17, 9, 0, 17, 43, 879],\n",
       " [38, 39, 37, 4, 0, 0, 28, 879],\n",
       " [30, 52, 33, 38, 7, 0, 33, 879],\n",
       " [0, 18, 29, 26, 36, 39, 7, 879],\n",
       " [18, 0, 15, 36, 33, 40, 28, 879],\n",
       " [35, 29, 17, 9, 0, 17, 43, 879],\n",
       " [7, 0, 43, 30, 52, 33, 38, 879]]"
      ]
     },
     "execution_count": 333,
     "metadata": {},
     "output_type": "execute_result"
    }
   ],
   "source": [
    "decoder_sentences\n"
   ]
  },
  {
   "cell_type": "code",
   "execution_count": 334,
   "metadata": {},
   "outputs": [
    {
     "name": "stdout",
     "output_type": "stream",
     "text": [
      "[ 34  39   0   0  19  35  17 879]\n",
      "[ 17   9   0  17  43  28  34 879]\n",
      "[ 17  43  28  34  39   0   0 879]\n",
      "[ 29  17   9   0  17  43  28 879]\n",
      "[ 34  39   0   0  19  35  17 879]\n",
      "[ 28  34  39   0   0  19  35 879]\n",
      "[  9   0  17  43  28  34  39 879]\n",
      "[ 17   9   0  17  43  28  34 879]\n",
      "[ 29  17   9   0  17  43  28 879]\n",
      "[ 39   0   0  19  35  17  38 879]\n"
     ]
    }
   ],
   "source": [
    "for i,tp in enumerate(testing_pairs):\n",
    "    print(np.array(tp[1].data.view(1,-1)).flatten())\n",
    "    "
   ]
  },
  {
   "cell_type": "code",
   "execution_count": 335,
   "metadata": {},
   "outputs": [
    {
     "name": "stdout",
     "output_type": "stream",
     "text": [
      "2.17593399633\n",
      "1.31020051339\n",
      "1.41284440823\n",
      "1.38150891148\n",
      "2.17593399633\n",
      "1.83461435122\n",
      "1.46366504887\n",
      "1.31020051339\n",
      "1.38150891148\n",
      "1.48561956813\n"
     ]
    }
   ],
   "source": [
    "total_loss=[]\n",
    "\n",
    "for i,tp in enumerate(testing_pairs):\n",
    "    e=RMLSE((np.array(tp[1].data.view(1,-1)).flatten()),\n",
    "                np.array(decoder_sentences[i]))\n",
    "    print(e)\n",
    "    total_loss.append(e)\n",
    "    "
   ]
  },
  {
   "cell_type": "code",
   "execution_count": 336,
   "metadata": {},
   "outputs": [
    {
     "data": {
      "text/plain": [
       "1.5932030218826134"
      ]
     },
     "execution_count": 336,
     "metadata": {},
     "output_type": "execute_result"
    }
   ],
   "source": [
    "np.mean(total_loss)\n"
   ]
  },
  {
   "cell_type": "markdown",
   "metadata": {},
   "source": [
    "### Training with attention decoder"
   ]
  },
  {
   "cell_type": "code",
   "execution_count": 234,
   "metadata": {},
   "outputs": [],
   "source": [
    "class EncoderRNN(nn.Module): #nn.Module = base class for all NN modules --> each model subclass this class\n",
    "    \n",
    "    def __init__(self, input_size, hidden_size, n_layers=1):\n",
    "        super().__init__()\n",
    "        self.n_layers = n_layers\n",
    "        self.hidden_size = hidden_size\n",
    "        self.embedding=nn.Embedding(input_size, hidden_size)\n",
    "        self.gru=nn.GRU(hidden_size, hidden_size)\n",
    "        \n",
    "    def forward(self, input, hidden):\n",
    "        embedded = self.embedding(input).view(1,1,-1) # view(shape) returns self tensors data with a different shape\n",
    "        output = embedded\n",
    "        for i in np.arange(self.n_layers):\n",
    "            output, hidden = self.gru(output, hidden)\n",
    "        return output, hidden\n",
    "        \n",
    "    def initHidden(self):\n",
    "        result=Variable(torch.zeros(1,1,self.hidden_size)) # creates a tensor of zeros, compatible with automatic gradient computing\n",
    "        return result\n",
    "        "
   ]
  },
  {
   "cell_type": "code",
   "execution_count": 235,
   "metadata": {},
   "outputs": [],
   "source": [
    "class AttentionDecoder_RNN(nn.Module):\n",
    "    def __init__(self, hidden_size, output_size, n_layers=1, dropout_p=0.1, \n",
    "                 max_length=MAX_LENGTH):\n",
    "        super().__init__()\n",
    "        self.n_layers=n_layers\n",
    "        self.hidden_size=hidden_size\n",
    "        self.output_size=output_size\n",
    "        self.dropout_p=dropout_p\n",
    "        self.max_length=max_length\n",
    "        \n",
    "        self.embedding=nn.Embedding(self.output_size, self.hidden_size)\n",
    "        \n",
    "        # attention layer gets decoder's prev_hidden layer (initialized with encoder's hidden layer) and decoder's input\n",
    "        # the attention mechanism is simply a linear filtering method, outputing a focused transformation of the input\n",
    "        \n",
    "        self.attn=nn.Linear(self.hidden_size*2, self.max_length)\n",
    "        self.attn_combine=nn.Linear(self.hidden_size*2,self.hidden_size)\n",
    "        self.dropout=nn.Dropout(self.dropout_p)\n",
    "        self.gru=nn.GRU(self.hidden_size, self.hidden_size)\n",
    "        self.out=nn.Linear(self.hidden_size, self.output_size)\n",
    "        \n",
    "    def forward(self, input, hidden, encoder_outputs):\n",
    "        embedded=self.embedding(input).view(1,1,-1)\n",
    "        embedded=self.dropout(embedded)\n",
    "        \n",
    "        attn_weights=torch.cat((embedded[0], hidden[0]), dim=1)\n",
    "        attn_weights=F.softmax(self.attn(attn_weights), dim=1)\n",
    "        \n",
    "        # bmm is a batch matrix multiplication for 3D tensors with first dimension equals number of matrices\n",
    "        # unsqueeze(d) insert a dimension of size 1 at position d\n",
    "        \n",
    "        attn_applied=torch.bmm(attn_weights.unsqueeze(0), \n",
    "                               encoder_outputs.unsqueeze(0))\n",
    "        \n",
    "        output=torch.cat((embedded[0], attn_applied[0]), 1)\n",
    "        output=self.attn_combine(output).unsqueeze(0)\n",
    "        \n",
    "        for i in np.arange(self.n_layers):\n",
    "            output=F.relu(output)\n",
    "            output, hidden=self.gru(output, hidden)\n",
    "            \n",
    "        output=F.log_softmax(self.out(output[0]), dim=1)\n",
    "        \n",
    "        return output, hidden, attn_weights\n",
    "    \n",
    "    def initHidden(self):\n",
    "        result=Variable(torch.zeros(1,1,self.hidden_size))\n",
    "        return result\n",
    "    "
   ]
  },
  {
   "cell_type": "code",
   "execution_count": 236,
   "metadata": {},
   "outputs": [],
   "source": [
    "n_iters = 10000\n",
    "learning_rate=0.01\n",
    "teacher_forcing_ratio=0.2\n",
    "\n",
    "training_pairs=[random.choice(pairs_TS[:-10]) for i in np.arange(n_iters)]\n",
    "\n",
    "hidden_size = 256\n",
    "\n",
    "MAX_LENGTH = training_pairs[0][0].shape[0]\n",
    "max_length = MAX_LENGTH\n",
    "\n",
    "encoder=EncoderRNN(EOS_token+1, hidden_size)\n",
    "decoder_attn=AttentionDecoder_RNN(hidden_size, EOS_token+1)\n",
    "use_cuda=False\n",
    "\n",
    "encoder_optimizer=optim.SGD(encoder.parameters(), lr=learning_rate)\n",
    "decoder_optimizer=optim.SGD(decoder_attn.parameters(), lr=learning_rate)\n",
    "\n",
    "criterion=nn.NLLLoss()\n"
   ]
  },
  {
   "cell_type": "code",
   "execution_count": 237,
   "metadata": {},
   "outputs": [
    {
     "name": "stdout",
     "output_type": "stream",
     "text": [
      "CPU times: user 1h 6min 42s, sys: 13min 13s, total: 1h 19min 56s\n",
      "Wall time: 32min 26s\n"
     ]
    }
   ],
   "source": [
    "%%time\n",
    "\n",
    "total_loss = []\n",
    "\n",
    "for i in np.arange(n_iters):\n",
    "\n",
    "    encoder_hidden = encoder.initHidden()\n",
    "\n",
    "    encoder_optimizer.zero_grad()\n",
    "    decoder_optimizer.zero_grad()\n",
    "\n",
    "    input_variable = training_pairs[i][0]\n",
    "    target_variable = training_pairs[i][1]\n",
    "    \n",
    "    input_length = input_variable.size()[0]\n",
    "    target_length = target_variable.size()[0]\n",
    "\n",
    "    encoder_outputs = Variable(torch.zeros(max_length, encoder.hidden_size))\n",
    "\n",
    "    loss=0\n",
    "\n",
    "    for ei in np.arange(input_length):\n",
    "        encoder_output, encoder_hidden = encoder(input_variable[ei], encoder_hidden)\n",
    "        encoder_outputs[ei] = encoder_output[0][0]\n",
    "    \n",
    "    #decoder_input=Variable(torch.LongTensor([[int(input_variable[ei-1].data[0])]]))\n",
    "\n",
    "    decoder_input=Variable(torch.LongTensor([[SOS_token]]))\n",
    "    decoder_hidden = encoder_hidden\n",
    "\n",
    "    use_teacher_forcing = True if random.random() < teacher_forcing_ratio else False\n",
    "\n",
    "    if use_teacher_forcing:\n",
    "        \n",
    "        for di in np.arange(target_length):\n",
    "            decoder_output, decoder_hidden, decoder_attention=decoder_attn(decoder_input, decoder_hidden, encoder_outputs)\n",
    "            loss+=criterion(decoder_output, target_variable[di])\n",
    "            decoder_input=target_variable[di]\n",
    "\n",
    "    else:\n",
    "        \n",
    "        for di in np.arange(target_length):\n",
    "            decoder_output, decoder_hidden, decoder_attention=decoder_attn(decoder_input, decoder_hidden, encoder_outputs)\n",
    "            top_value, top_index = decoder_output.data.topk(1)\n",
    "            \n",
    "            decoder_input=Variable(torch.LongTensor([[top_index[0][0]]]))\n",
    "            #decoder_input=Variable(torch.LongTensor([[SOS_token]]))\n",
    "            \n",
    "            loss+=criterion(decoder_output, target_variable[di])\n",
    "\n",
    "            if top_index[0][0]==EOS_token:\n",
    "                break\n",
    "\n",
    "    loss.backward()\n",
    "\n",
    "    encoder_optimizer.step()\n",
    "    decoder_optimizer.step()\n",
    "\n",
    "    total_loss.append(loss.data[0]/target_length)\n",
    "\n"
   ]
  },
  {
   "cell_type": "code",
   "execution_count": 238,
   "metadata": {},
   "outputs": [
    {
     "data": {
      "text/plain": [
       "[<matplotlib.lines.Line2D at 0x1c22fba940>]"
      ]
     },
     "execution_count": 238,
     "metadata": {},
     "output_type": "execute_result"
    },
    {
     "data": {
      "image/png": "[encoded data removed]",
      "text/plain": [
       "<matplotlib.figure.Figure at 0x1c19333390>"
      ]
     },
     "metadata": {},
     "output_type": "display_data"
    }
   ],
   "source": [
    "plt.plot(total_loss)\n"
   ]
  },
  {
   "cell_type": "code",
   "execution_count": 239,
   "metadata": {},
   "outputs": [],
   "source": [
    "#input_variable = variableFromSentence(input_lang, 'je suis institutrice .')\n",
    "decoder_sentences = []\n",
    "\n",
    "for tp in training_pairs[:20]:\n",
    "    input_variable = tp[0]\n",
    "    input_length = input_variable.size()[0]\n",
    "    encoder_hidden=encoder.initHidden()\n",
    "\n",
    "    encoder_outputs = Variable(torch.zeros(max_length, encoder.hidden_size))\n",
    "\n",
    "    for ei in np.arange(input_length):\n",
    "        encoder_output, encoder_hidden = encoder(input_variable[ei], encoder_hidden)\n",
    "        encoder_outputs[ei] = encoder_output[0][0]+encoder_outputs[ei]\n",
    "\n",
    "    #decoder_input = Variable(torch.LongTensor([[int(input_variable.data[-2])]]))\n",
    "    decoder_input = Variable(torch.LongTensor([[SOS_token]]))\n",
    "\n",
    "    decoder_hidden = encoder_hidden\n",
    "\n",
    "    decoded_words=[]\n",
    "\n",
    "    for di in np.arange(win_y):\n",
    "        decoder_output, decoder_hidden, decoder_attention=decoder_attn(decoder_input, decoder_hidden, encoder_outputs)\n",
    "        top_value, top_index = decoder_output.data.topk(1)\n",
    "\n",
    "        #if top_index[0][0]==EOS_token:\n",
    "        #    decoded_words.append('<EOS_token>')\n",
    "        #    break\n",
    "        #else:\n",
    "            #decoded_words.append(output_lang.index2word[top_index[0][0]])\n",
    "        decoded_words.append(top_index[0][0])\n",
    "\n",
    "        # we use guess as new input for the decoder\n",
    "        #decoder_input = Variable(torch.LongTensor([[SOS_token]]))\n",
    "        decoder_input = Variable(torch.LongTensor([[top_index[0][0]]]))\n",
    "        \n",
    "    decoded_words.append(EOS_token)\n",
    "    decoder_sentences.append(decoded_words)\n",
    "    "
   ]
  },
  {
   "cell_type": "code",
   "execution_count": 240,
   "metadata": {},
   "outputs": [
    {
     "data": {
      "text/plain": [
       "array([[  0,  16,  28,  27,  24,  37,  23, 879],\n",
       "       [ 52,  33,  38,   7,   0,  33,  17, 879],\n",
       "       [ 33,  17,  35,  29,  17,   9,   0, 879],\n",
       "       [  9,   0,  39,  28,  42,  39,  37, 879],\n",
       "       [  0,  24,  41,  52,  35,  45,  18, 879],\n",
       "       [ 29,  18,   0,  18,  31,  28,  38, 879],\n",
       "       [ 33,  29,  18,   0,  18,  31,  28, 879],\n",
       "       [  7,   0,  33,  17,  35,  29,  17, 879],\n",
       "       [ 23,  27,  34,   7,   0,  43,  30, 879],\n",
       "       [ 28,  42,  39,  37,   4,   0,   0, 879],\n",
       "       [ 23,   0,  37,  32,  15,  30,  26, 879],\n",
       "       [ 40,  28,  11,   0,  34,  19,  17, 879],\n",
       "       [  0,   0,  24,  41,  52,  35,  45, 879],\n",
       "       [ 19,  17,  33,  29,  18,   0,  18, 879],\n",
       "       [ 38,   7,   0,  33,  17,  35,  29, 879],\n",
       "       [  0,  37,  32,  15,  30,  26,   0, 879],\n",
       "       [ 52,  35,  45,  18,   0,  15,  36, 879],\n",
       "       [ 52,  35,  45,  18,   0,  15,  36, 879],\n",
       "       [  0,  33,  17,  35,  29,  17,   9, 879],\n",
       "       [ 17,  35,  29,  17,   9,   0,  17, 879]])"
      ]
     },
     "execution_count": 240,
     "metadata": {},
     "output_type": "execute_result"
    }
   ],
   "source": [
    "np.array(decoder_sentences)"
   ]
  },
  {
   "cell_type": "code",
   "execution_count": 241,
   "metadata": {},
   "outputs": [
    {
     "name": "stdout",
     "output_type": "stream",
     "text": [
      "[  0  16  28  27  24  37  23 879]\n",
      "[ 52  33  38   7   0  33  17 879]\n",
      "[ 33  17  35  29  17   9   0 879]\n",
      "[  9   0  39  28  42  39  37 879]\n",
      "[  0  24  41  52  35  45  18 879]\n",
      "[ 29  18   0  18  31  28  38 879]\n",
      "[ 33  29  18   0  18  31  28 879]\n",
      "[  7   0  33  17  35  29  17 879]\n",
      "[ 23  27  34   7   0  43  30 879]\n",
      "[ 28  42  39  37   4   0   0 879]\n",
      "[ 23   0  37  32  15  30  26 879]\n",
      "[ 40  28  11   0  34  19  17 879]\n",
      "[  0   0  24  41  52  35  45 879]\n",
      "[ 19  17  33  29  18   0  18 879]\n",
      "[ 38   7   0  33  17  35  29 879]\n",
      "[  0  37  32  15  30  26   0 879]\n",
      "[ 52  35  45  18   0  15  36 879]\n",
      "[ 52  35  45  18   0  15  36 879]\n",
      "[  0  33  17  35  29  17   9 879]\n",
      "[ 17  35  29  17   9   0  17 879]\n"
     ]
    }
   ],
   "source": [
    "for i,tp in enumerate(training_pairs[:20]):\n",
    "    print(np.array(tp[1].data.view(1,-1)).flatten())\n",
    "    "
   ]
  },
  {
   "cell_type": "code",
   "execution_count": 242,
   "metadata": {},
   "outputs": [
    {
     "name": "stdout",
     "output_type": "stream",
     "text": [
      "0.0\n",
      "0.0\n",
      "0.0\n",
      "0.0\n",
      "0.0\n",
      "0.0\n",
      "0.0\n",
      "0.0\n",
      "0.0\n",
      "0.0\n",
      "0.0\n",
      "0.0\n",
      "0.0\n",
      "0.0\n",
      "0.0\n",
      "0.0\n",
      "0.0\n",
      "0.0\n",
      "0.0\n",
      "0.0\n"
     ]
    }
   ],
   "source": [
    "total_RMLSE=[]\n",
    "\n",
    "for i,tp in enumerate(training_pairs[:20]):\n",
    "    total_RMLSE.append(RMLSE((np.array(tp[1].data.view(1,-1)).flatten())[:-2],\n",
    "                np.array(decoder_sentences[i])[:-2]))\n",
    "    print(total_RMLSE[-1])\n"
   ]
  },
  {
   "cell_type": "markdown",
   "metadata": {},
   "source": [
    "### Evaluation"
   ]
  },
  {
   "cell_type": "code",
   "execution_count": 243,
   "metadata": {},
   "outputs": [],
   "source": [
    "n_tests = 10\n",
    "\n",
    "testing_pairs=[pairs_TS[-10:][i] for i in np.arange(n_tests)]\n"
   ]
  },
  {
   "cell_type": "code",
   "execution_count": 244,
   "metadata": {},
   "outputs": [
    {
     "data": {
      "text/plain": [
       "torch.Size([1, 1, 256])"
      ]
     },
     "execution_count": 244,
     "metadata": {},
     "output_type": "execute_result"
    }
   ],
   "source": [
    "encoder_hidden.shape"
   ]
  },
  {
   "cell_type": "code",
   "execution_count": 316,
   "metadata": {
    "scrolled": true
   },
   "outputs": [],
   "source": [
    "#input_variable = variableFromSentence(input_lang, 'je suis institutrice .')\n",
    "decoder_sentences = []\n",
    "\n",
    "for tp in testing_pairs:\n",
    "    input_variable = tp[0]\n",
    "    input_length = input_variable.size()[0]\n",
    "    encoder_hidden=encoder.initHidden()\n",
    "\n",
    "    encoder_outputs = Variable(torch.zeros(max_length, encoder.hidden_size))\n",
    "\n",
    "    for ei in np.arange(input_length):\n",
    "        encoder_output, encoder_hidden = encoder(input_variable[ei], encoder_hidden)\n",
    "        encoder_outputs[ei] = encoder_output[0][0]+encoder_outputs[ei]\n",
    "\n",
    "    decoder_input = Variable(torch.LongTensor([[SOS_token]]))\n",
    "\n",
    "    decoder_hidden = encoder_hidden\n",
    "\n",
    "    decoded_words=[]\n",
    "\n",
    "    for di in np.arange(win_y):\n",
    "        decoder_output, decoder_hidden, decoder_attention=decoder_attn(decoder_input, decoder_hidden, encoder_outputs)\n",
    "        top_value, top_index = decoder_output.data.topk(1)\n",
    "\n",
    "        #if top_index[0][0]==EOS_token:\n",
    "        #    decoded_words.append('<EOS_token>')\n",
    "        #    break\n",
    "        #else:\n",
    "            #decoded_words.append(output_lang.index2word[top_index[0][0]])\n",
    "        decoded_words.append(top_index[0][0])\n",
    "\n",
    "        # we use guess as new input for the decoder\n",
    "        #decoder_input = Variable(torch.LongTensor([[SOS_token]]))\n",
    "        decoder_input = Variable(torch.LongTensor([[top_index[0][0]]]))\n",
    "        \n",
    "    decoded_words.append(EOS_token)\n",
    "    decoder_sentences.append(decoded_words)\n",
    "    "
   ]
  },
  {
   "cell_type": "code",
   "execution_count": 317,
   "metadata": {},
   "outputs": [],
   "source": [
    "a=np.array(decoder_sentences)*np.array(np.array([np.array(tp[1].data.view(1,-1)).flatten() \n",
    "          for i, tp in enumerate(testing_pairs)])!=0,dtype=int)\n"
   ]
  },
  {
   "cell_type": "code",
   "execution_count": 318,
   "metadata": {},
   "outputs": [
    {
     "name": "stdout",
     "output_type": "stream",
     "text": [
      "[ 39  37   4   0   0  28  23  27  34   7   0  43  30  52  33  38   7   0\n",
      "  33  17  35 879]\n",
      "[ 37   4   0   0  28  23  27  34   7   0  43  30  52  33  38   7   0  33\n",
      "  17  35  29 879]\n",
      "[  4   0   0  28  23  27  34   7   0  43  30  52  33  38   7   0  33  17\n",
      "  35  29  17 879]\n",
      "[  0   0  28  23  27  34   7   0  43  30  52  33  38   7   0  33  17  35\n",
      "  29  17   9 879]\n",
      "[  0  28  23  27  34   7   0  43  30  52  33  38   7   0  33  17  35  29\n",
      "  17   9   0 879]\n",
      "[ 28  23  27  34   7   0  43  30  52  33  38   7   0  33  17  35  29  17\n",
      "   9   0  17 879]\n",
      "[ 23  27  34   7   0  43  30  52  33  38   7   0  33  17  35  29  17   9\n",
      "   0  17  43 879]\n",
      "[ 27  34   7   0  43  30  52  33  38   7   0  33  17  35  29  17   9   0\n",
      "  17  43  28 879]\n",
      "[ 34   7   0  43  30  52  33  38   7   0  33  17  35  29  17   9   0  17\n",
      "  43  28  34 879]\n",
      "[  7   0  43  30  52  33  38   7   0  33  17  35  29  17   9   0  17  43\n",
      "  28  34  39 879]\n"
     ]
    }
   ],
   "source": [
    "for i,tp in enumerate(testing_pairs):\n",
    "    print(np.array(tp[0].data.view(1,-1)).flatten())\n",
    "    "
   ]
  },
  {
   "cell_type": "code",
   "execution_count": 2,
   "metadata": {},
   "outputs": [
    {
     "ename": "NameError",
     "evalue": "name 'np' is not defined",
     "output_type": "error",
     "traceback": [
      "\u001b[0;31m---------------------------------------------------------------------------\u001b[0m",
      "\u001b[0;31mNameError\u001b[0m                                 Traceback (most recent call last)",
      "\u001b[0;32m<ipython-input-2-9ea2e7514019>\u001b[0m in \u001b[0;36m<module>\u001b[0;34m()\u001b[0m\n\u001b[0;32m----> 1\u001b[0;31m \u001b[0mnp\u001b[0m\u001b[0;34m.\u001b[0m\u001b[0marray\u001b[0m\u001b[0;34m(\u001b[0m\u001b[0mdecoder_sentences\u001b[0m\u001b[0;34m)\u001b[0m\u001b[0;34m[\u001b[0m\u001b[0;34m:\u001b[0m\u001b[0;36m1\u001b[0m\u001b[0;34m,\u001b[0m\u001b[0;34m:\u001b[0m\u001b[0;36m1\u001b[0m\u001b[0;34m]\u001b[0m\u001b[0;34m\u001b[0m\u001b[0m\n\u001b[0m",
      "\u001b[0;31mNameError\u001b[0m: name 'np' is not defined"
     ]
    }
   ],
   "source": [
    "np.array(decoder_sentences)"
   ]
  },
  {
   "cell_type": "code",
   "execution_count": 320,
   "metadata": {},
   "outputs": [
    {
     "name": "stdout",
     "output_type": "stream",
     "text": [
      "[ 29  17   9   0  17  43  28 879]\n",
      "[ 17   9   0  17  43  28  34 879]\n",
      "[  9   0  17  43  28  34  39 879]\n",
      "[  0  17  43  28  34  39   0 879]\n",
      "[ 17  43  28  34  39   0   0 879]\n",
      "[ 43  28  34  39   0   0  19 879]\n",
      "[ 28  34  39   0   0  19  35 879]\n",
      "[ 34  39   0   0  19  35  17 879]\n",
      "[ 39   0   0  19  35  17  38 879]\n",
      "[  0   0  19  35  17  38  55 879]\n"
     ]
    }
   ],
   "source": [
    "for i,tp in enumerate(testing_pairs):\n",
    "    print(np.array(tp[1].data.view(1,-1)).flatten())\n",
    "    "
   ]
  },
  {
   "cell_type": "code",
   "execution_count": 321,
   "metadata": {},
   "outputs": [
    {
     "name": "stdout",
     "output_type": "stream",
     "text": [
      "1.31721049126\n",
      "1.35023103054\n",
      "0.256910158026\n",
      "2.40008820918\n",
      "0.822947775808\n",
      "2.22432912778\n",
      "0.856308597558\n",
      "0.908237012409\n",
      "1.9594046264\n",
      "1.24488246749\n"
     ]
    }
   ],
   "source": [
    "total_RMLSE=[]\n",
    "\n",
    "for i,tp in enumerate(testing_pairs):\n",
    "    total_RMLSE.append(RMLSE((np.array(tp[1].data.view(1,-1)).flatten()),\n",
    "                np.array(decoder_sentences[i])))\n",
    "    print(total_RMLSE[-1])\n"
   ]
  },
  {
   "cell_type": "code",
   "execution_count": 322,
   "metadata": {
    "scrolled": false
   },
   "outputs": [
    {
     "name": "stdout",
     "output_type": "stream",
     "text": [
      "1.00608087576\n",
      "0.991416423752\n",
      "0.296654297787\n",
      "0.13907205757\n",
      "0.13907205757\n",
      "1.53017791442\n",
      "0.293673506607\n",
      "0.299698633757\n",
      "1.25216659308\n",
      "0.284641487567\n"
     ]
    }
   ],
   "source": [
    "total_RMLSE_zeros=[]\n",
    "\n",
    "for i,tp in enumerate(testing_pairs):\n",
    "    total_RMLSE_zeros.append(RMLSE((np.array(tp[1].data.view(1,-1)).flatten())[:-2],a[i][:-2]))\n",
    "    print(total_RMLSE_zeros[-1])\n",
    "    "
   ]
  },
  {
   "cell_type": "code",
   "execution_count": 323,
   "metadata": {},
   "outputs": [
    {
     "name": "stdout",
     "output_type": "stream",
     "text": [
      "1.33405494964\n",
      "0.623265384787\n"
     ]
    }
   ],
   "source": [
    "print(np.mean(total_RMLSE))\n",
    "print(np.mean(total_RMLSE_zeros))\n"
   ]
  },
  {
   "cell_type": "markdown",
   "metadata": {},
   "source": [
    "### PROBLEM WITH THE DETECTION OF THE ZEROS\n",
    "\n",
    "Necessity to use contextual variables (days of the week, localisation, meteorological data, ...) and longer and deeper training"
   ]
  }
 ],
 "metadata": {
  "anaconda-cloud": {},
  "kernelspec": {
   "display_name": "Python [default]",
   "language": "python",
   "name": "python3"
  },
  "language_info": {
   "codemirror_mode": {
    "name": "ipython",
    "version": 3
   },
   "file_extension": ".py",
   "mimetype": "text/x-python",
   "name": "python",
   "nbconvert_exporter": "python",
   "pygments_lexer": "ipython3",
   "version": "3.5.2"
  }
 },
 "nbformat": 4,
 "nbformat_minor": 2
}
